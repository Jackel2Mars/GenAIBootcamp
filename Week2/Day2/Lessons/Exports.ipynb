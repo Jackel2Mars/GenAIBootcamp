{
 "cells": [
  {
   "cell_type": "code",
   "execution_count": 3,
   "id": "241ce674",
   "metadata": {},
   "outputs": [],
   "source": [
    "import pandas as pd\n",
    "\n",
    "data = {\n",
    "    'Book Title': ['The Great Gatsby', 'To Kill a Mockingbird', '1984', 'Pride and Prejudice', 'The Catcher in the Rye'],\n",
    "    'Author': ['F. Scott Fitzgerald', 'Harper Lee', 'George Orwell', 'Jane Austen', 'J.D. Salinger'],\n",
    "    'Genre': ['Classic', 'Classic', 'Dystopian', 'Classic', 'Classic'],\n",
    "}\n",
    "\n",
    "#Construire le dataframe à partir du dictionary\n",
    "df = pd.DataFrame(data)\n",
    "\n",
    "#Exports\n",
    "df.to_csv('simple_export.csv', index=False)\n",
    "df.to_json('simple_export.json')\n",
    "df.to_excel('simple_export.xlsx', sheet_name='Sheet1')\n",
    "\n"
   ]
  },
  {
   "cell_type": "code",
   "execution_count": 4,
   "id": "51fd6422",
   "metadata": {},
   "outputs": [
    {
     "name": "stdout",
     "output_type": "stream",
     "text": [
      "      Product  Sale Amount        Date  Customer Age\n",
      "0     explain          396  2025-01-08            34\n",
      "1        tend          397  2025-02-10            24\n",
      "2   scientist          330  2025-01-10            61\n",
      "3       adult          366  2025-06-07            44\n",
      "4  management          349  2025-03-25            49\n"
     ]
    }
   ],
   "source": [
    "import numpy as np\n",
    "from faker import Faker\n",
    "import pandas as pd\n",
    "\n",
    "fake = Faker()\n",
    "\n",
    "# Generating synthetic sales data\n",
    "sales_data = [(fake.word(), np.random.randint(10, 500), fake.date_this_year(), np.random.randint(18, 70)) for _ in range(500)]\n",
    "sales_df = pd.DataFrame(sales_data, columns=['Product', 'Sale Amount', 'Date', 'Customer Age'])\n",
    "\n",
    "# Display the first few rows of the DataFrame\n",
    "print(sales_df.head())"
   ]
  },
  {
   "cell_type": "code",
   "execution_count": 7,
   "id": "b7d3e453",
   "metadata": {},
   "outputs": [
    {
     "name": "stdout",
     "output_type": "stream",
     "text": [
      "  Product Category  Sales ($)  Customer Age Customer Gender Customer Country  \\\n",
      "0   Home & Kitchen    1606.37            23          Female            Malta   \n",
      "1             Toys     158.36            33          Female          Somalia   \n",
      "2            Books    1973.91            46          Female      Switzerland   \n",
      "3             Toys    1546.77            20          Female     Saint Helena   \n",
      "4             Toys     405.44            37          Female            Qatar   \n",
      "\n",
      "         Customer Name  \n",
      "0         Jeremy Kelly  \n",
      "1  Alexandra Christian  \n",
      "2           Tara Smith  \n",
      "3          Tara Holmes  \n",
      "4        Laura Johnson  \n"
     ]
    }
   ],
   "source": [
    "import numpy as np\n",
    "import pandas as pd\n",
    "from faker import Faker\n",
    "import random\n",
    "\n",
    "faker = Faker()\n",
    "np.random.seed(42)  # for reproducibility\n",
    "\n",
    "# Settings\n",
    "num_rows = 100\n",
    "categories = ['Electronics', 'Clothing', 'Books', 'Home & Kitchen', 'Toys', 'Beauty']\n",
    "genders = ['Male', 'Female', 'Non-binary']\n",
    "\n",
    "# Generate data\n",
    "data = {\n",
    "    'Product Category': np.random.choice(categories, size=num_rows),\n",
    "    'Sales ($)': np.round(np.random.uniform(10.0, 2000.0, size=num_rows), 2),\n",
    "    'Customer Age': np.random.randint(18, 75, size=num_rows),\n",
    "    'Customer Gender': np.random.choice(genders, size=num_rows),\n",
    "    'Customer Country': [faker.country() for _ in range(num_rows)],\n",
    "    'Customer Name': [faker.name() for _ in range(num_rows)]\n",
    "}\n",
    "\n",
    "# Create DataFrame\n",
    "df = pd.DataFrame(data)\n",
    "\n",
    "# Preview the data\n",
    "print(df.head())\n",
    "\n",
    "# Optional: Save to CSV\n",
    "df.to_csv('synthetic_sales_data.csv', index=False)\n"
   ]
  }
 ],
 "metadata": {
  "kernelspec": {
   "display_name": "Python 3",
   "language": "python",
   "name": "python3"
  },
  "language_info": {
   "codemirror_mode": {
    "name": "ipython",
    "version": 3
   },
   "file_extension": ".py",
   "mimetype": "text/x-python",
   "name": "python",
   "nbconvert_exporter": "python",
   "pygments_lexer": "ipython3",
   "version": "3.13.2"
  }
 },
 "nbformat": 4,
 "nbformat_minor": 5
}
