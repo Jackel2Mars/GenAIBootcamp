{
 "cells": [
  {
   "cell_type": "markdown",
   "id": "99c94fba",
   "metadata": {},
   "source": [
    "GenAI & Machine Learning Bootcamp 2025 - Full Time 2025 - PSTB Python and OOP Python Essentials Exercises XP Gold"
   ]
  },
  {
   "cell_type": "markdown",
   "id": "62216b0b",
   "metadata": {},
   "source": [
    "Exercise 1: Birthday Look-Up\n",
    "\n",
    "Create a variable called birthdays. Its value should be a dictionary.\n",
    "Initialize this variable with the birthdays of 5 people of your choice. For each entry in the dictionary, the key should be the person’s name, and the value should be their birthday. Tip: Use the format \"YYYY/MM/DD\".\n",
    "Print a welcome message for the user. Then tell them: “You can look up the birthdays of the people in the list!”\n",
    "Ask the user to give you a person's name and store the answer in a variable.\n",
    "Get the birthday of the name provided by the user.\n",
    "Print out the birthday with a nicely-formatted message."
   ]
  },
  {
   "cell_type": "code",
   "execution_count": null,
   "id": "e78cac8d",
   "metadata": {},
   "outputs": [
    {
     "name": "stdout",
     "output_type": "stream",
     "text": [
      "Hi there, stranger!\n",
      "You can look up the birthdays of the people in the list!\n",
      "luc in not in our database.\n"
     ]
    }
   ],
   "source": [
    "birthdays = {\n",
    "    \"jaled\": \"1982/05/26\",\n",
    "    \"yassine\": \"1987/09/28\",\n",
    "    \"aicha\": \"1956/04/23\",\n",
    "    \"belkacem\": \"1954/11/22\",\n",
    "    \"sidney\": \"1979/05/26\"\n",
    "}\n",
    "print(\"Hi there, stranger!\")\n",
    "print(\"You can look up the birthdays of the people in the list!\")\n",
    "person = input(\"Whose birthday do you wish to look up? \").lower()\n",
    "print(f\"{person}'s birthday is {birthdays[person]}\")"
   ]
  },
  {
   "cell_type": "markdown",
   "id": "6f92a570",
   "metadata": {},
   "source": [
    "Exercise 2: Birthdays Advanced\n",
    "\n",
    "Before asking the user to input a person's name, print out all of the names in the dictionary.\n",
    "If the person that the user types is not found in the dictionary, print an error message (“Sorry, we don’t have the birthday information for person's name”)."
   ]
  },
  {
   "cell_type": "code",
   "execution_count": 8,
   "id": "8c9cf4e2",
   "metadata": {},
   "outputs": [
    {
     "name": "stdout",
     "output_type": "stream",
     "text": [
      "Hi there, stranger!\n",
      "You can look up the birthdays of the people in the list! jaled, yassine, aicha, belkacem, sidney\n",
      "jaled's birthday is 1982/05/26\n"
     ]
    }
   ],
   "source": [
    "print(\"Hi there, stranger!\")\n",
    "print(f\"You can look up the birthdays of the people in the list! {', '.join(birthdays.keys())}\")\n",
    "person = input(\"Whose birthday do you wish to look up? \").lower()\n",
    "if person in birthdays.keys():\n",
    "    print(f\"{person}'s birthday is {birthdays[person]}\")\n",
    "else:\n",
    "    print(f\"Sorry, we don’t have the birthday information for {person}.\")"
   ]
  },
  {
   "cell_type": "markdown",
   "id": "271327db",
   "metadata": {},
   "source": [
    "Exercise 3: Check The Index\n",
    "\n",
    "Instructions\n",
    "\n",
    "Using this variable\n",
    "\n",
    "names = ['Samus', 'Cortana', 'V', 'Link', 'Mario', 'Cortana', 'Samus']\n",
    "Ask a user for their name, if their name is in the names list, print out the index of the first occurence of the name.\n",
    "\n",
    "Example: if input is 'Cortana' we should be printing the index 1"
   ]
  },
  {
   "cell_type": "code",
   "execution_count": 11,
   "id": "80fb6bbe",
   "metadata": {},
   "outputs": [
    {
     "name": "stdout",
     "output_type": "stream",
     "text": [
      "No such name in our listing\n"
     ]
    }
   ],
   "source": [
    "names = ['Samus', 'Cortana', 'V', 'Link', 'Mario', 'Cortana', 'Samus']\n",
    "your_name = input(\"What's your name? \").capitalize()\n",
    "if your_name in names:\n",
    "    print(names.index(your_name))\n",
    "else:\n",
    "    print(\"No such name in our listing\")"
   ]
  },
  {
   "cell_type": "markdown",
   "id": "2116acac",
   "metadata": {},
   "source": [
    "Exercise 4: Double Dice\n",
    "\n",
    "Create a function that will simulate the rolling of a dice. Call it throw_dice. It should return an integer between 1 and 6.\n",
    "Create a function called throw_until_doubles.\n",
    "It should keep throwing 2 dice (using your throw_dice function) until they both land on the same number, i.e., until we reach doubles.\n",
    "For example: (1, 2), (3, 1), (5, 5) → then stop throwing, because doubles were reached.\n",
    "This function should return the number of times it threw the dice in total. In the example above, it should return 3.\n",
    "Create a main function. It should throw doubles 100 times (i.e., call your throw_until_doubles function 100 times), and store the results of those function calls (in other words, how many throws it took until doubles were thrown, each time) in a collection. (What kind of collection? Read below to understand what we will need the data for, and this should help you decide which data structure to use).\n",
    "After the 100 doubles are thrown, print out a message telling the user how many throws it took in total to reach 100 doubles.\n",
    "Also print out a message telling the user the average amount of throws it took to reach doubles. Round this off to 2 decimal places.\n",
    "For example:\n",
    "\n",
    "If the results of the throws were as follows (your code would do 100 doubles, not just 3):\n",
    "\n",
    "(1, 2), (3, 1), (5, 5)\n",
    "(3, 3)\n",
    "(2, 4), (1, 2), (3, 4), (2, 2)\n",
    "Then my output would show something like this:\n",
    "\n",
    "Total throws: 8\n",
    "Average throws to reach doubles: 2.67."
   ]
  },
  {
   "cell_type": "code",
   "execution_count": 28,
   "id": "27aaf82a",
   "metadata": {},
   "outputs": [
    {
     "name": "stdout",
     "output_type": "stream",
     "text": [
      "Total throws: 40\n",
      "Average throws to reach doubles: 13.33\n"
     ]
    }
   ],
   "source": [
    "def throw_dice():\n",
    "    import random\n",
    "    return random.randint(1, 6)\n",
    "\n",
    "def throw_until_doubles():\n",
    "    attempts = 0\n",
    "    while True:\n",
    "        dice1 = throw_dice()\n",
    "        dice2 = throw_dice()\n",
    "        attempts += 1\n",
    "        if dice1 == dice2:\n",
    "            return attempts\n",
    "            break\n",
    "    \n",
    "\n",
    "def main():\n",
    "    throws =[]\n",
    "    number_of_doubles = 3\n",
    "    for i in range(number_of_doubles):\n",
    "        number_of_attemps_till_double = throw_until_doubles()\n",
    "        throws.append(number_of_attemps_till_double)\n",
    "    total_throws = sum(throws)\n",
    "    print(f\"Total throws: {total_throws}\")\n",
    "    throws_mean = round(total_throws/number_of_doubles, 2)\n",
    "    print(f\"Average throws to reach doubles: {throws_mean}\")\n",
    "\n",
    "main()\n",
    "\n"
   ]
  }
 ],
 "metadata": {
  "kernelspec": {
   "display_name": "Python 3",
   "language": "python",
   "name": "python3"
  },
  "language_info": {
   "codemirror_mode": {
    "name": "ipython",
    "version": 3
   },
   "file_extension": ".py",
   "mimetype": "text/x-python",
   "name": "python",
   "nbconvert_exporter": "python",
   "pygments_lexer": "ipython3",
   "version": "3.10.16"
  }
 },
 "nbformat": 4,
 "nbformat_minor": 5
}
