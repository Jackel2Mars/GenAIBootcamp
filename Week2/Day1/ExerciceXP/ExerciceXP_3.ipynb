{
 "cells": [
  {
   "cell_type": "markdown",
   "id": "090101ce",
   "metadata": {},
   "source": [
    "Exercise 6: Basic Observation Skills In Data Analysis\n",
    "\n",
    "\n",
    "\n",
    "Objective: Develop Observation Skills For Data Analysis.\n",
    "\n",
    "Task:\n",
    "\n",
    "Load the How Much Sleep Do Americans Really Get? dataset into Jupyter or Google Colab.\n",
    "Identify columns that could be interesting for a specific type of analysis (e.g., trend analysis, group comparison) and explain your choice.\n",
    "Tools: Jupyter Notebook, Python with Pandas library."
   ]
  },
  {
   "cell_type": "code",
   "execution_count": null,
   "id": "bd46f022",
   "metadata": {},
   "outputs": [
    {
     "name": "stdout",
     "output_type": "stream",
     "text": [
      "   index  Year  Period  Avg hrs per day sleeping  Standard Error Type of Days  \\\n",
      "0      0  2003  Annual                      8.57           0.018     All days   \n",
      "1      1  2004  Annual                      8.55           0.026     All days   \n",
      "2      2  2005  Annual                      8.62           0.023     All days   \n",
      "3      3  2006  Annual                      8.63           0.024     All days   \n",
      "4      4  2007  Annual                      8.57           0.024     All days   \n",
      "\n",
      "           Age Group  Activity   Sex  \n",
      "0  15 years and over  Sleeping  Both  \n",
      "1  15 years and over  Sleeping  Both  \n",
      "2  15 years and over  Sleeping  Both  \n",
      "3  15 years and over  Sleeping  Both  \n",
      "4  15 years and over  Sleeping  Both  \n"
     ]
    }
   ],
   "source": [
    "import pandas as pd\n",
    "\n",
    "df = pd.read_csv(\"Time Americans Spend Sleeping.csv\")\n",
    "print(df.head(5))\n",
    "\n",
    "#Relevant colums:\n",
    "#Year — for trend analysis\n",
    "#Sex — to compare male vs female sleep\n",
    "#Type of Days — weekday vs weekend differences\n",
    "#Avg hrs per day sleeping — target numeric variable\n",
    "#Standard Error — measure of reliability"
   ]
  }
 ],
 "metadata": {
  "kernelspec": {
   "display_name": "Python 3",
   "language": "python",
   "name": "python3"
  },
  "language_info": {
   "codemirror_mode": {
    "name": "ipython",
    "version": 3
   },
   "file_extension": ".py",
   "mimetype": "text/x-python",
   "name": "python",
   "nbconvert_exporter": "python",
   "pygments_lexer": "ipython3",
   "version": "3.13.2"
  }
 },
 "nbformat": 4,
 "nbformat_minor": 5
}
