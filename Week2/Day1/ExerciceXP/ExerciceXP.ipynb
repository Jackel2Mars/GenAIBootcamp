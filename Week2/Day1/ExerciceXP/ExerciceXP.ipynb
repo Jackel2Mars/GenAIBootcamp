{
 "cells": [
  {
   "cell_type": "markdown",
   "id": "663cd9e6",
   "metadata": {},
   "source": [
    "Exercise 2: Dataset Loading And Initial Analysis\n",
    "\n",
    "\n",
    "\n",
    "Objective: Practice Dataset Loading From Kaggle And Initial Analysis.\n",
    "\n",
    "Task:\n",
    "\n",
    "for the following dataset : How Much Sleep Do Americans Really Get?, Global Trends in Mental Health Disorder and Credit Card Approvals.\n",
    "\n",
    "Load the dataset into Jupyter or Google Colab.\n",
    "Display the first few rows.\n",
    "Provide a brief dataset description."
   ]
  },
  {
   "cell_type": "code",
   "execution_count": null,
   "id": "763a6c14",
   "metadata": {},
   "outputs": [],
   "source": [
    "import pandas as pd\n",
    "\n",
    "df = pd.read_csv(\"Time Americans Spend Sleeping.csv\")\n",
    "print(df.head(5))\n",
    "print(df.describe())\n",
    "print(df.info())\n",
    "\n",
    "df = pd.read_csv(\"Mental health Depression disorder Data.csv\")\n",
    "print(df.head(5))\n",
    "print(df.describe())\n",
    "print(df.info())\n",
    "\n",
    "df = pd.read_csv(\"clean_dataset.csv\")\n",
    "print(df.head(5))\n",
    "print(df.describe())\n",
    "print(df.info())\n"
   ]
  },
  {
   "cell_type": "markdown",
   "id": "5f3d492d",
   "metadata": {},
   "source": [
    "Exercise 3: Identifying Data Types\n",
    "\n",
    "\n",
    "\n",
    "Objective: Learn To Identify Different Data Types.\n",
    "\n",
    "Task:\n",
    "\n",
    "For the datasets from the previous exercise, categorize each column of it as either quantitative or qualitative and explain your reasoning."
   ]
  },
  {
   "cell_type": "code",
   "execution_count": null,
   "id": "056ddeeb",
   "metadata": {},
   "outputs": [],
   "source": [
    "#Time Americans Spend Sleeping.csv\n",
    "df = pd.read_csv(\"Time Americans Spend Sleeping.csv\")\n",
    "print(df.dtypes)\n",
    "#Quantitative: Year, Avg hrs per day sleeping, Standard Error, Age Group\n",
    "#Qualitative: Period, Type of Days, Activity, Sex\n",
    "\n",
    "#Mental health Depression disorder Data.csv\n",
    "df = pd.read_csv(\"Mental health Depression disorder Data.csv\")\n",
    "print(df.dtypes)\n",
    "#Quantitative: Year, Schizophrenia, Bipolar disorder, Eating disorders, Anxiety disorders, Drug use disorders, Depression, Alcohol use disorders\n",
    "#Qualitative: Entity, Code\n",
    "\n",
    "#clean_dataset.csv\n",
    "df = pd.read_csv(\"clean_dataset.csv\")\n",
    "print(df.dtypes)\n",
    "#Quantitative: Debt, YearsEmployed, Income\n",
    "#Qualitative: Gender, Age, Married, BankCustomer, Industry, Ethnicity, PriorDefault, Employed, CreditScore, DriversLicense, Citizen, ZipCode, Approved\n",
    "\n"
   ]
  }
 ],
 "metadata": {
  "kernelspec": {
   "display_name": "Python 3",
   "language": "python",
   "name": "python3"
  },
  "language_info": {
   "codemirror_mode": {
    "name": "ipython",
    "version": 3
   },
   "file_extension": ".py",
   "mimetype": "text/x-python",
   "name": "python",
   "nbconvert_exporter": "python",
   "pygments_lexer": "ipython3",
   "version": "3.13.2"
  }
 },
 "nbformat": 4,
 "nbformat_minor": 5
}
