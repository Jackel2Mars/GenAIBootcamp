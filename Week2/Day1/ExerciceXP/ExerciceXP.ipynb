{
 "cells": [
  {
   "cell_type": "markdown",
   "id": "432d3e15",
   "metadata": {},
   "source": [
    "Exercise 1: Introduction To Data Analysis (Easy)\n",
    "\n",
    "\n",
    "\n",
    "Objective: Understand The Basic Overview And Significance Of Data Analysis.\n",
    "\n",
    "Task:\n",
    "\n",
    "Write a short essay or report on the following topics:\n",
    "\n",
    "What is data analysis?\n",
    "Why is data analysis important in modern contexts?\n",
    "List and describe three areas where data analysis is applied today.\n",
    "Hint/Tip:\n",
    "\n",
    "Research current trends in data analysis and real-world examples to provide depth to your essay.\n",
    "\n",
    "**What is data analysis?**\n",
    "Data analysis is the process of turning raw information into meaningful insights. In order to support decision-making and uncover hidden patterns, it involves a series of steps:\n",
    "*   Inspecting Data: This initial step involves exploring the dataset to understand its structure, spot irregularities, and identify potential issues. Analysts look at the types of variables, check for missing values, and review summary statistics or visualizations to get a sense of the data quality.\n",
    "*   Cleaning Data: Cleaning addresses inconsistencies, errors, or irrelevant information in the dataset. This includes handling missing values, correcting data types, removing duplicates,and resolving outliers. Clean data ensures accurate and reliable results in later stages.\n",
    "*   Transforming Data: In this stage, the data is reshaped or enhanced to prepare it foranalysis. This can involve converting categorical variables into numerical codes, normalizing values, aggregating data, or engineering new features based on existing columns (like creating a \"profit\" column from \"revenue\" and \"cost\").\n",
    "*   Modeling Data: Modeling is where analytical or machine learning techniques are applied. Depending on the goal, models might describe what happened (descriptive), explain why it happened (diagnostic), predict what will happen (predictive), or suggest what should be done (prescriptive). Tools include statistical models, clustering, regression, classification and more.\n",
    "\n",
    "These processes form the core of modern analytics, enabling organizations to interpret vast and\n",
    "complex datasets effectively.\n",
    "\n",
    "**Why is Data Analysis Important Today?**\n",
    "In a world overwhelmed by data, the ability to analyze and interpret information is essential. Whether it's tracking global health trends, understanding customer behavior, or optimizing logistics, data analysis turns complex data into actionable insight. It empowers organizations to make evidence-based decisions, anticipate trends, and stay competitive in fast-moving industries.\n",
    "\n",
    "**Three Key Areas Where Data Analysis Is Applied:**\n",
    "*   Defense and Intelligence: Governments and military organizations use data analysis to enhance national security, monitor geopolitical threats, and support tactical decision-making. Intelligence agencies analyze enormous volumes of data—from satellite imagery and communications metadata to social media and sensor feeds—to identify patterns, anticipate threats, and uncover hidden networks. In defense operations, real-time data analytics support\n",
    "mission planning, surveillance, logistics, and even autonomous systems like drones. Increasingly, AI-driven data fusion and predictive modeling are being used to anticipate cyberattacks, detect insider threats, and track irregular activities across digital and physical spaces.\n",
    "*   Healthcare and Medical Research: Data analysis supports better diagnoses, treatment optimization, and public health strategies. For example, predictive models can estimate hospital readmission risks, and real-time analysis was critical during the COVID-19 pandemic to monitor infection trends.\n",
    "*   Finance and Fraud Detection: In the financial sector, analytics are used to forecast market behavior, assess credit risks, and detect fraud in real-time by flagging unusual transaction patterns. Data-driven insights help institutions make faster and smarter decisions."
   ]
  },
  {
   "cell_type": "markdown",
   "id": "663cd9e6",
   "metadata": {},
   "source": [
    "Exercise 2: Dataset Loading And Initial Analysis\n",
    "\n",
    "\n",
    "\n",
    "Objective: Practice Dataset Loading From Kaggle And Initial Analysis.\n",
    "\n",
    "Task:\n",
    "\n",
    "for the following dataset : How Much Sleep Do Americans Really Get?, Global Trends in Mental Health Disorder and Credit Card Approvals.\n",
    "\n",
    "Load the dataset into Jupyter or Google Colab.\n",
    "Display the first few rows.\n",
    "Provide a brief dataset description."
   ]
  },
  {
   "cell_type": "code",
   "execution_count": null,
   "id": "763a6c14",
   "metadata": {},
   "outputs": [],
   "source": [
    "import pandas as pd\n",
    "\n",
    "df = pd.read_csv(\"Time Americans Spend Sleeping.csv\")\n",
    "print(df.head(5))\n",
    "print(df.describe())\n",
    "print(df.info())\n",
    "\n",
    "df = pd.read_csv(\"Mental health Depression disorder Data.csv\")\n",
    "print(df.head(5))\n",
    "print(df.describe())\n",
    "print(df.info())\n",
    "\n",
    "df = pd.read_csv(\"clean_dataset.csv\")\n",
    "print(df.head(5))\n",
    "print(df.describe())\n",
    "print(df.info())\n"
   ]
  },
  {
   "cell_type": "markdown",
   "id": "5f3d492d",
   "metadata": {},
   "source": [
    "Exercise 3: Identifying Data Types\n",
    "\n",
    "\n",
    "\n",
    "Objective: Learn To Identify Different Data Types.\n",
    "\n",
    "Task:\n",
    "\n",
    "For the datasets from the previous exercise, categorize each column of it as either quantitative or qualitative and explain your reasoning."
   ]
  },
  {
   "cell_type": "code",
   "execution_count": null,
   "id": "056ddeeb",
   "metadata": {},
   "outputs": [],
   "source": [
    "#Time Americans Spend Sleeping.csv\n",
    "df = pd.read_csv(\"Time Americans Spend Sleeping.csv\")\n",
    "print(df.dtypes)\n",
    "#Quantitative: Year, Avg hrs per day sleeping, Standard Error, Age Group\n",
    "#Qualitative: Period, Type of Days, Activity, Sex\n",
    "\n",
    "#Mental health Depression disorder Data.csv\n",
    "df = pd.read_csv(\"Mental health Depression disorder Data.csv\")\n",
    "print(df.dtypes)\n",
    "#Quantitative: Year, Schizophrenia, Bipolar disorder, Eating disorders, Anxiety disorders, Drug use disorders, Depression, Alcohol use disorders\n",
    "#Qualitative: Entity, Code\n",
    "\n",
    "#clean_dataset.csv\n",
    "df = pd.read_csv(\"clean_dataset.csv\")\n",
    "print(df.dtypes)\n",
    "#Quantitative: Debt, YearsEmployed, Income\n",
    "#Qualitative: Gender, Age, Married, BankCustomer, Industry, Ethnicity, PriorDefault, Employed, CreditScore, DriversLicense, Citizen, ZipCode, Approved\n",
    "\n"
   ]
  },
  {
   "cell_type": "markdown",
   "id": "f87c32cb",
   "metadata": {},
   "source": [
    "Exercise 4: Exploring Data Types\n",
    "\n",
    "\n",
    "\n",
    "Objective: Learn About Different Types Of Data In Data Analysis.\n",
    "\n",
    "Task:\n",
    "\n",
    "Load the Iris dataset using Kaggle into a Jupyter Notebook or Google Colaboratory Notebook.\n",
    "Identify and list which columns in your dataset are qualitative and which are quantitative.\n",
    "Write a brief description of why each column is classified as qualitative or quantitative.\n",
    "Tools: Jupyter Notebook, Python with Pandas library."
   ]
  },
  {
   "cell_type": "markdown",
   "id": "107ecff3",
   "metadata": {},
   "source": [
    "Exercise 6: Basic Observation Skills In Data Analysis\n",
    "\n",
    "\n",
    "\n",
    "Objective: Develop Observation Skills For Data Analysis.\n",
    "\n",
    "Task:\n",
    "\n",
    "Load the How Much Sleep Do Americans Really Get? dataset into Jupyter or Google Colab.\n",
    "Identify columns that could be interesting for a specific type of analysis (e.g., trend analysis, group comparison) and explain your choice.\n",
    "Tools: Jupyter Notebook, Python with Pandas library."
   ]
  },
  {
   "cell_type": "code",
   "execution_count": null,
   "id": "3369e4f2",
   "metadata": {},
   "outputs": [
    {
     "name": "stdout",
     "output_type": "stream",
     "text": [
      "   index  Year  Period  Avg hrs per day sleeping  Standard Error Type of Days  \\\n",
      "0      0  2003  Annual                      8.57           0.018     All days   \n",
      "1      1  2004  Annual                      8.55           0.026     All days   \n",
      "2      2  2005  Annual                      8.62           0.023     All days   \n",
      "3      3  2006  Annual                      8.63           0.024     All days   \n",
      "4      4  2007  Annual                      8.57           0.024     All days   \n",
      "\n",
      "           Age Group  Activity   Sex  \n",
      "0  15 years and over  Sleeping  Both  \n",
      "1  15 years and over  Sleeping  Both  \n",
      "2  15 years and over  Sleeping  Both  \n",
      "3  15 years and over  Sleeping  Both  \n",
      "4  15 years and over  Sleeping  Both  \n"
     ]
    }
   ],
   "source": [
    "import pandas as pd\n",
    "\n",
    "df = pd.read_csv(\"Time Americans Spend Sleeping.csv\")\n",
    "print(df.head(5))\n",
    "\n",
    "#Relevant colums:\n",
    "#Year — for trend analysis\n",
    "#Sex — to compare male vs female sleep\n",
    "#Type of Days — weekday vs weekend differences\n",
    "#Avg hrs per day sleeping — target numeric variable\n",
    "#Standard Error — measure of reliability"
   ]
  },
  {
   "cell_type": "code",
   "execution_count": null,
   "id": "571e888c",
   "metadata": {},
   "outputs": [],
   "source": [
    "import pandas as pd\n",
    "\n",
    "df = pd.read_csv(\"Iris.csv\")\n",
    "print(df.head())\n",
    "print(df.dtypes)\n",
    "\n",
    "#Species is a quantative variable. It takes discrete values and cannot be measured, summed, etc...\n",
    "#SepalLengthCm, SepalWidthCm, PetalLengthCm, PetalWidthCm are quantitative variables. They were measured and even have a measuement unit (cm).\n",
    "#Marthematical operations such as summing or averaging can be performed on these variables."
   ]
  },
  {
   "cell_type": "markdown",
   "id": "f273f3da",
   "metadata": {},
   "source": [
    "Exercise 5: Basic Data Analysis With Google Colab\n",
    "\n",
    "\n",
    "\n",
    "Objective: Perform Basic Data Analysis Using Google Colab.\n",
    "\n",
    "Task:\n",
    "\n",
    "Using the same notebook from the previous exercise, perform basic data analysis tasks:\n",
    "Calculate the mean, median, and mode of a quantitative column.\n",
    "Create a simple plot (like a histogram or bar chart) to visualize the data using Matplotlib/Seaborn libraries :\n",
    "import matplotlib.pyplot as plt\n",
    "plt.plot(data['Name_column1'], data['Name_column2'])\n",
    "plt.show()\n",
    "Document your findings in the notebook.\n",
    "Tools: Google Colab, Python with Pandas and Matplotlib/Seaborn libraries."
   ]
  },
  {
   "cell_type": "code",
   "execution_count": null,
   "id": "951644d9",
   "metadata": {},
   "outputs": [
    {
     "name": "stdout",
     "output_type": "stream",
     "text": [
      "5.843333333333334\n",
      "5.8\n",
      "0    5.0\n",
      "Name: SepalLengthCm, dtype: float64\n"
     ]
    },
    {
     "data": {
      "image/png": "[encoded data removed]",
      "text/plain": [
       "<Figure size 640x480 with 1 Axes>"
      ]
     },
     "metadata": {},
     "output_type": "display_data"
    }
   ],
   "source": [
    "import pandas as pd\n",
    "import matplotlib.pyplot as plt\n",
    "import seaborn as sns\n",
    "\n",
    "df = pd.read_csv(\"Iris.csv\")\n",
    "print(df[\"SepalLengthCm\"].mean())\n",
    "print(df[\"SepalLengthCm\"].median())\n",
    "print(df[\"SepalLengthCm\"].mode())\n",
    "\n",
    "plt.plot(df['Species'], df['SepalLengthCm'])\n",
    "\n",
    "#mean_values = df.groupby('Species')['SepalLengthCm'].mean().reset_index()\n",
    "#plt.figure(figsize=(8, 5))\n",
    "#sns.barplot(x='Species', y='SepalLengthCm', data=mean_values, palette=\"pastel\")\n",
    "#plt.title(\"Average Sepal Length by Species\")\n",
    "#plt.xlabel(\"Species\")\n",
    "#plt.ylabel(\"Average Sepal Length (cm)\")\n",
    "#plt.ylim(0, df['SepalLengthCm'].max() + 1)\n",
    "#plt.grid(axis='y', linestyle='--', alpha=0.6)\n",
    "#plt.tight_layout()\n",
    "\n",
    "plt.show()"
   ]
  },
  {
   "cell_type": "markdown",
   "id": "d70b8f9d",
   "metadata": {},
   "source": [
    "Exercise 6: Basic Observation Skills In Data Analysis\n",
    "\n",
    "\n",
    "\n",
    "Objective: Develop Observation Skills For Data Analysis.\n",
    "\n",
    "Task:\n",
    "\n",
    "Load the How Much Sleep Do Americans Really Get? dataset into Jupyter or Google Colab.\n",
    "Identify columns that could be interesting for a specific type of analysis (e.g., trend analysis, group comparison) and explain your choice.\n",
    "Tools: Jupyter Notebook, Python with Pandas library."
   ]
  },
  {
   "cell_type": "code",
   "execution_count": null,
   "id": "8afb8a2e",
   "metadata": {},
   "outputs": [
    {
     "name": "stdout",
     "output_type": "stream",
     "text": [
      "   index  Year  Period  Avg hrs per day sleeping  Standard Error Type of Days  \\\n",
      "0      0  2003  Annual                      8.57           0.018     All days   \n",
      "1      1  2004  Annual                      8.55           0.026     All days   \n",
      "2      2  2005  Annual                      8.62           0.023     All days   \n",
      "3      3  2006  Annual                      8.63           0.024     All days   \n",
      "4      4  2007  Annual                      8.57           0.024     All days   \n",
      "\n",
      "           Age Group  Activity   Sex  \n",
      "0  15 years and over  Sleeping  Both  \n",
      "1  15 years and over  Sleeping  Both  \n",
      "2  15 years and over  Sleeping  Both  \n",
      "3  15 years and over  Sleeping  Both  \n",
      "4  15 years and over  Sleeping  Both  \n"
     ]
    }
   ],
   "source": [
    "import pandas as pd\n",
    "\n",
    "df = pd.read_csv(\"Time Americans Spend Sleeping.csv\")\n",
    "print(df.head(5))\n",
    "\n",
    "#Relevant colums:\n",
    "#Year — for trend analysis\n",
    "#Sex — to compare male vs female sleep\n",
    "#Type of Days — weekday vs weekend differences\n",
    "#Avg hrs per day sleeping — target numeric variable\n",
    "#Standard Error — measure of reliability"
   ]
  }
 ],
 "metadata": {
  "kernelspec": {
   "display_name": "Python 3",
   "language": "python",
   "name": "python3"
  },
  "language_info": {
   "codemirror_mode": {
    "name": "ipython",
    "version": 3
   },
   "file_extension": ".py",
   "mimetype": "text/x-python",
   "name": "python",
   "nbconvert_exporter": "python",
   "pygments_lexer": "ipython3",
   "version": "3.13.2"
  }
 },
 "nbformat": 4,
 "nbformat_minor": 5
}
