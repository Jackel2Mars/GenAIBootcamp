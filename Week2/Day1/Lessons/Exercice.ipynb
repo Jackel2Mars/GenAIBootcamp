{
 "cells": [
  {
   "cell_type": "code",
   "execution_count": null,
   "id": "1e02cf9a",
   "metadata": {},
   "outputs": [
    {
     "name": "stdout",
     "output_type": "stream",
     "text": [
      "               Book Title               Author      Genre  Price  Copies Sold\n",
      "0        The Great Gatsby  F. Scott Fitzgerald    Classic  10.99          500\n",
      "1   To Kill a Mockingbird           Harper Lee    Classic   8.99          600\n",
      "2                    1984        George Orwell  Dystopian   7.99          800\n",
      "3     Pride and Prejudice          Jane Austen    Classic  11.99          300\n",
      "4  The Catcher in the Rye        J.D. Salinger    Classic   9.99          450\n",
      "           Price  Copies Sold\n",
      "count   5.000000     5.000000\n",
      "mean    9.990000   530.000000\n",
      "std     1.581139   185.741756\n",
      "min     7.990000   300.000000\n",
      "25%     8.990000   450.000000\n",
      "50%     9.990000   500.000000\n",
      "75%    10.990000   600.000000\n",
      "max    11.990000   800.000000\n",
      "<class 'pandas.core.frame.DataFrame'>\n",
      "RangeIndex: 5 entries, 0 to 4\n",
      "Data columns (total 5 columns):\n",
      " #   Column       Non-Null Count  Dtype  \n",
      "---  ------       --------------  -----  \n",
      " 0   Book Title   5 non-null      object \n",
      " 1   Author       5 non-null      object \n",
      " 2   Genre        5 non-null      object \n",
      " 3   Price        5 non-null      float64\n",
      " 4   Copies Sold  5 non-null      int64  \n",
      "dtypes: float64(1), int64(1), object(3)\n",
      "memory usage: 332.0+ bytes\n",
      "None\n",
      "               Book Title               Author      Genre  Price  Copies Sold\n",
      "2                    1984        George Orwell  Dystopian   7.99          800\n",
      "1   To Kill a Mockingbird           Harper Lee    Classic   8.99          600\n",
      "4  The Catcher in the Rye        J.D. Salinger    Classic   9.99          450\n",
      "0        The Great Gatsby  F. Scott Fitzgerald    Classic  10.99          500\n",
      "3     Pride and Prejudice          Jane Austen    Classic  11.99          300\n",
      "               Book Title               Author      Genre  Price  Copies Sold\n",
      "2                    1984        George Orwell  Dystopian   7.99          800\n",
      "1   To Kill a Mockingbird           Harper Lee    Classic   8.99          600\n",
      "0        The Great Gatsby  F. Scott Fitzgerald    Classic  10.99          500\n",
      "4  The Catcher in the Rye        J.D. Salinger    Classic   9.99          450\n",
      "3     Pride and Prejudice          Jane Austen    Classic  11.99          300\n"
     ]
    }
   ],
   "source": [
    "import pandas as pd\n",
    "\n",
    "data = {\n",
    "    'Book Title': ['The Great Gatsby', 'To Kill a Mockingbird', '1984', 'Pride and Prejudice', 'The Catcher in the Rye'],\n",
    "    'Author': ['F. Scott Fitzgerald', 'Harper Lee', 'George Orwell', 'Jane Austen', 'J.D. Salinger'],\n",
    "    'Genre': ['Classic', 'Classic', 'Dystopian', 'Classic', 'Classic'],\n",
    "    'Price': [10.99, 8.99, 7.99, 11.99, 9.99],\n",
    "    'Copies Sold': [500, 600, 800, 300, 450]\n",
    "}\n",
    "\n",
    "df = pd.DataFrame(data)\n",
    "#Use head() to view the first few rows of the DataFrame.\n",
    "print(df.head(10))\n",
    "#Use describe() to get a statistical summary of the numerical columns.\n",
    "print(df.describe())\n",
    "#Use info() to get a concise summary of the DataFrame, including the number of non-null entries in each column\n",
    "print(df.info())\n",
    "#Sort the DataFrame based on the Price\n",
    "df_sorted_by_price = df.sort_values(by='Price')\n",
    "print(df_sorted_by_price)\n",
    "#Sort the DataFrame based on the Price or Copies Sold.\n",
    "df_sorted_by_copies = df.sort_values(by='Copies Sold', ascending=False)\n",
    "print(df_sorted_by_copies)\n",
    "#Filter the books by a specific Genre\n",
    "classic_books = df[df['Genre'] == 'Classic']\n",
    "print(classic_books)\n",
    "#Filter the books with Price above a certain threshold\n",
    "expensive_books = df[df['Price'] > 9.00]\n",
    "print(expensive_books)\n",
    "#Group the books by Author and sum up the Copies Sold.\n",
    "copies_sold_by_author = df.groupby('Author')['Copies Sold'].sum()\n",
    "print(copies_sold_by_author)\n"
   ]
  },
  {
   "cell_type": "code",
   "execution_count": null,
   "id": "a9540a36",
   "metadata": {},
   "outputs": [],
   "source": []
  }
 ],
 "metadata": {
  "kernelspec": {
   "display_name": "Python 3",
   "language": "python",
   "name": "python3"
  },
  "language_info": {
   "codemirror_mode": {
    "name": "ipython",
    "version": 3
   },
   "file_extension": ".py",
   "mimetype": "text/x-python",
   "name": "python",
   "nbconvert_exporter": "python",
   "pygments_lexer": "ipython3",
   "version": "3.13.2"
  }
 },
 "nbformat": 4,
 "nbformat_minor": 5
}
