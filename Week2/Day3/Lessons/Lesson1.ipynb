{
 "cells": [
  {
   "cell_type": "markdown",
   "id": "9a73d51f",
   "metadata": {},
   "source": [
    "Exemple Cours :"
   ]
  },
  {
   "cell_type": "code",
   "execution_count": 1,
   "id": "38cf51cd",
   "metadata": {},
   "outputs": [],
   "source": [
    "import pandas as pd\n",
    "titanic_data = pd.read_csv('train.csv')"
   ]
  },
  {
   "cell_type": "markdown",
   "id": "8dbee92e",
   "metadata": {},
   "source": [
    "Calculer Q1 et Q3 pour la colonne 'Age'"
   ]
  },
  {
   "cell_type": "code",
   "execution_count": 2,
   "id": "93e19444",
   "metadata": {},
   "outputs": [],
   "source": [
    "Q1 = titanic_data['Age'].quantile(0.25)\n",
    "Q3 = titanic_data['Age'].quantile(0.75)"
   ]
  },
  {
   "cell_type": "markdown",
   "id": "c8b82871",
   "metadata": {},
   "source": [
    "Calculer l'IQR"
   ]
  },
  {
   "cell_type": "code",
   "execution_count": 4,
   "id": "3c364489",
   "metadata": {},
   "outputs": [],
   "source": [
    "IQR = Q3 - Q1"
   ]
  },
  {
   "cell_type": "markdown",
   "id": "8fed750a",
   "metadata": {},
   "source": [
    "Définir les bornes inférieure et supérieure pour les outliers potentiels"
   ]
  },
  {
   "cell_type": "code",
   "execution_count": 5,
   "id": "ae1a14f7",
   "metadata": {},
   "outputs": [],
   "source": [
    "lower_bound = max(0, Q1 - 1.5 * IQR)  \n",
    "upper_bound = Q3 + 1.5 * IQR"
   ]
  },
  {
   "cell_type": "markdown",
   "id": "95041ec2",
   "metadata": {},
   "source": [
    "Identifier et compter le nombre d'outliers dans la colonne 'Age'"
   ]
  },
  {
   "cell_type": "code",
   "execution_count": 6,
   "id": "bb4f5c72",
   "metadata": {},
   "outputs": [],
   "source": [
    "outliers = titanic_data[(titanic_data['Age'] < lower_bound) | (titanic_data['Age'] > upper_bound)]"
   ]
  },
  {
   "cell_type": "markdown",
   "id": "a7c61980",
   "metadata": {},
   "source": [
    "Résultats"
   ]
  },
  {
   "cell_type": "code",
   "execution_count": 7,
   "id": "89448e57",
   "metadata": {},
   "outputs": [
    {
     "name": "stdout",
     "output_type": "stream",
     "text": [
      "Q1: 20.125\n",
      "Q3: 38.0\n",
      "IQR: 17.875\n",
      "Lower Bound: 0\n",
      "Upper Bound: 64.8125\n",
      "Number of outliers in 'Age': 11\n"
     ]
    }
   ],
   "source": [
    "print(f\"Q1: {Q1}\")\n",
    "print(f\"Q3: {Q3}\")\n",
    "print(f\"IQR: {IQR}\")\n",
    "print(f\"Lower Bound: {lower_bound}\")\n",
    "print(f\"Upper Bound: {upper_bound}\")\n",
    "print(f\"Number of outliers in 'Age': {outliers.shape[0]}\")"
   ]
  },
  {
   "cell_type": "markdown",
   "id": "d815ea03",
   "metadata": {},
   "source": [
    "Optionnel : Filtrer les outliers de la colonne 'Age'"
   ]
  },
  {
   "cell_type": "code",
   "execution_count": 8,
   "id": "cd7fd43b",
   "metadata": {},
   "outputs": [],
   "source": [
    "titanic_data_filtered = titanic_data[(titanic_data['Age'] >= lower_bound) & (titanic_data['Age'] <= upper_bound)]"
   ]
  },
  {
   "cell_type": "markdown",
   "id": "894162b1",
   "metadata": {},
   "source": [
    "Visualisation"
   ]
  },
  {
   "cell_type": "code",
   "execution_count": 9,
   "id": "7ec61172",
   "metadata": {},
   "outputs": [
    {
     "data": {
      "text/html": [
       "<div>\n",
       "<style scoped>\n",
       "    .dataframe tbody tr th:only-of-type {\n",
       "        vertical-align: middle;\n",
       "    }\n",
       "\n",
       "    .dataframe tbody tr th {\n",
       "        vertical-align: top;\n",
       "    }\n",
       "\n",
       "    .dataframe thead th {\n",
       "        text-align: right;\n",
       "    }\n",
       "</style>\n",
       "<table border=\"1\" class=\"dataframe\">\n",
       "  <thead>\n",
       "    <tr style=\"text-align: right;\">\n",
       "      <th></th>\n",
       "      <th>PassengerId</th>\n",
       "      <th>Survived</th>\n",
       "      <th>Pclass</th>\n",
       "      <th>Name</th>\n",
       "      <th>Sex</th>\n",
       "      <th>Age</th>\n",
       "      <th>SibSp</th>\n",
       "      <th>Parch</th>\n",
       "      <th>Ticket</th>\n",
       "      <th>Fare</th>\n",
       "      <th>Cabin</th>\n",
       "      <th>Embarked</th>\n",
       "    </tr>\n",
       "  </thead>\n",
       "  <tbody>\n",
       "    <tr>\n",
       "      <th>0</th>\n",
       "      <td>1</td>\n",
       "      <td>0</td>\n",
       "      <td>3</td>\n",
       "      <td>Braund, Mr. Owen Harris</td>\n",
       "      <td>male</td>\n",
       "      <td>22.0</td>\n",
       "      <td>1</td>\n",
       "      <td>0</td>\n",
       "      <td>A/5 21171</td>\n",
       "      <td>7.2500</td>\n",
       "      <td>NaN</td>\n",
       "      <td>S</td>\n",
       "    </tr>\n",
       "    <tr>\n",
       "      <th>1</th>\n",
       "      <td>2</td>\n",
       "      <td>1</td>\n",
       "      <td>1</td>\n",
       "      <td>Cumings, Mrs. John Bradley (Florence Briggs Th...</td>\n",
       "      <td>female</td>\n",
       "      <td>38.0</td>\n",
       "      <td>1</td>\n",
       "      <td>0</td>\n",
       "      <td>PC 17599</td>\n",
       "      <td>71.2833</td>\n",
       "      <td>C85</td>\n",
       "      <td>C</td>\n",
       "    </tr>\n",
       "    <tr>\n",
       "      <th>2</th>\n",
       "      <td>3</td>\n",
       "      <td>1</td>\n",
       "      <td>3</td>\n",
       "      <td>Heikkinen, Miss. Laina</td>\n",
       "      <td>female</td>\n",
       "      <td>26.0</td>\n",
       "      <td>0</td>\n",
       "      <td>0</td>\n",
       "      <td>STON/O2. 3101282</td>\n",
       "      <td>7.9250</td>\n",
       "      <td>NaN</td>\n",
       "      <td>S</td>\n",
       "    </tr>\n",
       "    <tr>\n",
       "      <th>3</th>\n",
       "      <td>4</td>\n",
       "      <td>1</td>\n",
       "      <td>1</td>\n",
       "      <td>Futrelle, Mrs. Jacques Heath (Lily May Peel)</td>\n",
       "      <td>female</td>\n",
       "      <td>35.0</td>\n",
       "      <td>1</td>\n",
       "      <td>0</td>\n",
       "      <td>113803</td>\n",
       "      <td>53.1000</td>\n",
       "      <td>C123</td>\n",
       "      <td>S</td>\n",
       "    </tr>\n",
       "    <tr>\n",
       "      <th>4</th>\n",
       "      <td>5</td>\n",
       "      <td>0</td>\n",
       "      <td>3</td>\n",
       "      <td>Allen, Mr. William Henry</td>\n",
       "      <td>male</td>\n",
       "      <td>35.0</td>\n",
       "      <td>0</td>\n",
       "      <td>0</td>\n",
       "      <td>373450</td>\n",
       "      <td>8.0500</td>\n",
       "      <td>NaN</td>\n",
       "      <td>S</td>\n",
       "    </tr>\n",
       "  </tbody>\n",
       "</table>\n",
       "</div>"
      ],
      "text/plain": [
       "   PassengerId  Survived  Pclass  \\\n",
       "0            1         0       3   \n",
       "1            2         1       1   \n",
       "2            3         1       3   \n",
       "3            4         1       1   \n",
       "4            5         0       3   \n",
       "\n",
       "                                                Name     Sex   Age  SibSp  \\\n",
       "0                            Braund, Mr. Owen Harris    male  22.0      1   \n",
       "1  Cumings, Mrs. John Bradley (Florence Briggs Th...  female  38.0      1   \n",
       "2                             Heikkinen, Miss. Laina  female  26.0      0   \n",
       "3       Futrelle, Mrs. Jacques Heath (Lily May Peel)  female  35.0      1   \n",
       "4                           Allen, Mr. William Henry    male  35.0      0   \n",
       "\n",
       "   Parch            Ticket     Fare Cabin Embarked  \n",
       "0      0         A/5 21171   7.2500   NaN        S  \n",
       "1      0          PC 17599  71.2833   C85        C  \n",
       "2      0  STON/O2. 3101282   7.9250   NaN        S  \n",
       "3      0            113803  53.1000  C123        S  \n",
       "4      0            373450   8.0500   NaN        S  "
      ]
     },
     "execution_count": 9,
     "metadata": {},
     "output_type": "execute_result"
    }
   ],
   "source": [
    "titanic_data_filtered.head()"
   ]
  }
 ],
 "metadata": {
  "kernelspec": {
   "display_name": "Python 3",
   "language": "python",
   "name": "python3"
  },
  "language_info": {
   "codemirror_mode": {
    "name": "ipython",
    "version": 3
   },
   "file_extension": ".py",
   "mimetype": "text/x-python",
   "name": "python",
   "nbconvert_exporter": "python",
   "pygments_lexer": "ipython3",
   "version": "3.13.2"
  }
 },
 "nbformat": 4,
 "nbformat_minor": 5
}
