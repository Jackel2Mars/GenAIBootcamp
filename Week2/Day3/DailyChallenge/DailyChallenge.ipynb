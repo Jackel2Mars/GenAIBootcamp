{
 "cells": [
  {
   "cell_type": "markdown",
   "id": "986b9fda",
   "metadata": {},
   "source": [
    "Download and import the Data Science Job Salary dataset."
   ]
  },
  {
   "cell_type": "code",
   "execution_count": 2,
   "id": "12aabf36",
   "metadata": {},
   "outputs": [
    {
     "name": "stdout",
     "output_type": "stream",
     "text": [
      "   Unnamed: 0       job_title   job_type experience_level       location  \\\n",
      "0           0  Data scientist  Full Time           Senior  New York City   \n",
      "1           2  Data scientist  Full Time           Senior         Boston   \n",
      "2           3  Data scientist  Full Time           Senior         London   \n",
      "3           4  Data scientist  Full Time           Senior         Boston   \n",
      "4           5  Data scientist  Full Time           Senior  New York City   \n",
      "\n",
      "  salary_currency  salary  \n",
      "0             USD  149000  \n",
      "1             USD  120000  \n",
      "2             USD   68000  \n",
      "3             USD  120000  \n",
      "4             USD  149000  \n"
     ]
    }
   ],
   "source": [
    "import pandas as pd\n",
    "\n",
    "df = pd.read_csv('datascience_salaries.csv')\n",
    "print(df.head())"
   ]
  },
  {
   "cell_type": "markdown",
   "id": "2b2eeab5",
   "metadata": {},
   "source": [
    "Normalize the ‘salary’ column using Min-Max normalization which scales all salary values between 0 and 1."
   ]
  },
  {
   "cell_type": "code",
   "execution_count": null,
   "id": "85586748",
   "metadata": {},
   "outputs": [
    {
     "name": "stdout",
     "output_type": "stream",
     "text": [
      "   Unnamed: 0       job_title   job_type experience_level       location  \\\n",
      "0           0  Data scientist  Full Time           Senior  New York City   \n",
      "1           2  Data scientist  Full Time           Senior         Boston   \n",
      "2           3  Data scientist  Full Time           Senior         London   \n",
      "3           4  Data scientist  Full Time           Senior         Boston   \n",
      "4           5  Data scientist  Full Time           Senior  New York City   \n",
      "\n",
      "  salary_currency    salary  \n",
      "0             USD  0.601010  \n",
      "1             USD  0.454545  \n",
      "2             USD  0.191919  \n",
      "3             USD  0.454545  \n",
      "4             USD  0.601010  \n",
      "<class 'pandas.core.frame.DataFrame'>\n",
      "RangeIndex: 1171 entries, 0 to 1170\n",
      "Data columns (total 7 columns):\n",
      " #   Column            Non-Null Count  Dtype  \n",
      "---  ------            --------------  -----  \n",
      " 0   Unnamed: 0        1171 non-null   int64  \n",
      " 1   job_title         1171 non-null   object \n",
      " 2   job_type          1171 non-null   object \n",
      " 3   experience_level  1171 non-null   object \n",
      " 4   location          1171 non-null   object \n",
      " 5   salary_currency   1171 non-null   object \n",
      " 6   salary            1171 non-null   float64\n",
      "dtypes: float64(1), int64(1), object(5)\n",
      "memory usage: 64.2+ KB\n",
      "None\n"
     ]
    }
   ],
   "source": [
    "from sklearn.preprocessing import MinMaxScaler\n",
    "scaler = MinMaxScaler()\n",
    "df['salary'] = scaler.fit_transform(df[['salary']])\n",
    "print(df.head())"
   ]
  },
  {
   "cell_type": "markdown",
   "id": "d57e5990",
   "metadata": {},
   "source": [
    "Implement dimensionality reduction like Principal Component Analysis (PCA) or t-SNE to reduce the number of features (columns) in the dataset."
   ]
  },
  {
   "cell_type": "code",
   "execution_count": null,
   "id": "a31c1337",
   "metadata": {},
   "outputs": [],
   "source": [
    "print(df.info())\n",
    "#Only two 'number' columns. PCA and t-SNE are irrelevant in this case."
   ]
  },
  {
   "cell_type": "markdown",
   "id": "19fc3424",
   "metadata": {},
   "source": [
    "Group the dataset by the ‘experience_level’ column and calculate the average and median salary for each experience level (e.g., Junior, Mid-level, Senior)."
   ]
  },
  {
   "cell_type": "code",
   "execution_count": 9,
   "id": "e531606c",
   "metadata": {},
   "outputs": [
    {
     "name": "stdout",
     "output_type": "stream",
     "text": [
      "  experience_level      mean    median\n",
      "0            Entry  0.030864  0.000000\n",
      "1        Executive  0.232712  0.080808\n",
      "2              Mid  0.110035  0.106061\n",
      "3           Senior  0.227717  0.191919\n"
     ]
    }
   ],
   "source": [
    "salary_stats = df.groupby('experience_level')['salary'].agg(['mean', 'median']).reset_index()\n",
    "print(salary_stats)"
   ]
  }
 ],
 "metadata": {
  "kernelspec": {
   "display_name": "Python 3",
   "language": "python",
   "name": "python3"
  },
  "language_info": {
   "codemirror_mode": {
    "name": "ipython",
    "version": 3
   },
   "file_extension": ".py",
   "mimetype": "text/x-python",
   "name": "python",
   "nbconvert_exporter": "python",
   "pygments_lexer": "ipython3",
   "version": "3.13.2"
  }
 },
 "nbformat": 4,
 "nbformat_minor": 5
}
