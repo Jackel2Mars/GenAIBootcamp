{
 "cells": [
  {
   "cell_type": "markdown",
   "id": "d70cbdad",
   "metadata": {},
   "source": [
    "Exercise 1: Duplicate Detection And Removal\n",
    "\n",
    "Instructions\n",
    "\n",
    "Objective: Identify and remove duplicate entries in the Titanic dataset.\n",
    "\n",
    "Load the Titanic dataset.\n",
    "Identify if there are any duplicate rows based on all columns.\n",
    "Remove any duplicate rows found in the dataset.\n",
    "Verify the removal of duplicates by checking the number of rows before and after the duplicate removal.\n",
    "Hint: Use the duplicated() and drop_duplicates() functions in Pandas."
   ]
  },
  {
   "cell_type": "code",
   "execution_count": 30,
   "id": "3996fc81",
   "metadata": {},
   "outputs": [
    {
     "name": "stdout",
     "output_type": "stream",
     "text": [
      "   PassengerId  Survived  Pclass  \\\n",
      "0            1         0       3   \n",
      "1            2         1       1   \n",
      "2            3         1       3   \n",
      "3            4         1       1   \n",
      "4            5         0       3   \n",
      "\n",
      "                                                Name     Sex   Age  SibSp  \\\n",
      "0                            Braund, Mr. Owen Harris    male  22.0      1   \n",
      "1  Cumings, Mrs. John Bradley (Florence Briggs Th...  female  38.0      1   \n",
      "2                             Heikkinen, Miss. Laina  female  26.0      0   \n",
      "3       Futrelle, Mrs. Jacques Heath (Lily May Peel)  female  35.0      1   \n",
      "4                           Allen, Mr. William Henry    male  35.0      0   \n",
      "\n",
      "   Parch            Ticket     Fare Cabin Embarked  \n",
      "0      0         A/5 21171   7.2500   NaN        S  \n",
      "1      0          PC 17599  71.2833   C85        C  \n",
      "2      0  STON/O2. 3101282   7.9250   NaN        S  \n",
      "3      0            113803  53.1000  C123        S  \n",
      "4      0            373450   8.0500   NaN        S  \n",
      "0\n",
      "891\n",
      "891\n"
     ]
    }
   ],
   "source": [
    "import pandas as pd\n",
    "\n",
    "#Load the Titanic dataset.\n",
    "titanic_df = pd.read_csv('train.csv')\n",
    "print(titanic_df.head())\n",
    "\n",
    "#Identify if there are any duplicate rows based on all columns.\n",
    "print(titanic_df.duplicated().sum())\n",
    "\n",
    "#Remove any duplicate rows found in the dataset.\n",
    "deduplicated_titanic_df = titanic_df.drop_duplicates()\n",
    "print(len(titanic_df))\n",
    "print(len(deduplicated_titanic_df))"
   ]
  },
  {
   "cell_type": "markdown",
   "id": "bd95f57b",
   "metadata": {},
   "source": [
    "Exercise 2: Handling Missing Values\n",
    "\n",
    "Instructions\n",
    "\n",
    "Identify columns in the Titanic dataset with missing values.\n",
    "Explore different strategies for handling missing data, such as removal, imputation, and filling with a constant value.\n",
    "Apply each strategy to different columns based on the nature of the data.\n",
    "Hint: Review methods like dropna(), fillna(), and SimpleImputer from scikit-learn."
   ]
  },
  {
   "cell_type": "code",
   "execution_count": 31,
   "id": "07cc4023",
   "metadata": {},
   "outputs": [
    {
     "name": "stdout",
     "output_type": "stream",
     "text": [
      "PassengerId      0\n",
      "Survived         0\n",
      "Pclass           0\n",
      "Name             0\n",
      "Sex              0\n",
      "Age            177\n",
      "SibSp            0\n",
      "Parch            0\n",
      "Ticket           0\n",
      "Fare             0\n",
      "Cabin          687\n",
      "Embarked         2\n",
      "dtype: int64\n",
      "   PassengerId  Survived  Pclass  \\\n",
      "0            1         0       3   \n",
      "1            2         1       1   \n",
      "2            3         1       3   \n",
      "3            4         1       1   \n",
      "4            5         0       3   \n",
      "\n",
      "                                                Name     Sex   Age  SibSp  \\\n",
      "0                            Braund, Mr. Owen Harris    male  22.0      1   \n",
      "1  Cumings, Mrs. John Bradley (Florence Briggs Th...  female  38.0      1   \n",
      "2                             Heikkinen, Miss. Laina  female  26.0      0   \n",
      "3       Futrelle, Mrs. Jacques Heath (Lily May Peel)  female  35.0      1   \n",
      "4                           Allen, Mr. William Henry    male  35.0      0   \n",
      "\n",
      "   Parch            Ticket     Fare    Cabin Embarked  \n",
      "0      0         A/5 21171   7.2500  Unknown        S  \n",
      "1      0          PC 17599  71.2833      C85        C  \n",
      "2      0  STON/O2. 3101282   7.9250  Unknown        S  \n",
      "3      0            113803  53.1000     C123        S  \n",
      "4      0            373450   8.0500  Unknown        S  \n"
     ]
    }
   ],
   "source": [
    "#Identify columns in the Titanic dataset with missing values.\n",
    "print(titanic_df.isnull().sum())\n",
    "\n",
    "#Explore different strategies for handling missing data, such as removal, imputation, and filling with a constant value.\n",
    "#For 'Age', with 177 null values out of 890, I consider filling with the average value\n",
    "#For 'Cabin', with 687 null values out of 890, I consider filling with a constant value like \"Unknown\"\n",
    "#For 'Embarked', with 2 null values out of 890, I consider dropna\n",
    "\n",
    "#Apply each strategy to different columns based on the nature of the data.\n",
    "# Make a deep copy of the original DataFrame\n",
    "cleaned_df = titanic_df.copy()\n",
    "\n",
    "# Apply missing value handling on the copy\n",
    "cleaned_df['Age'] = cleaned_df['Age'].fillna(cleaned_df['Age'].mean())\n",
    "cleaned_df['Cabin'] = cleaned_df['Cabin'].fillna('Unknown')\n",
    "cleaned_df.dropna(subset=['Embarked'], inplace=True)\n",
    "\n",
    "print(cleaned_df.head())\n",
    "\n"
   ]
  },
  {
   "cell_type": "markdown",
   "id": "993d2fc5",
   "metadata": {},
   "source": [
    "Exercise 3: Feature Engineering\n",
    "\n",
    "Instructions\n",
    "\n",
    "Create new features, such as Family Size from SibSp and Parch, and Title extracted from the Name column.\n",
    "Convert categorical variables into numerical form using techniques like one-hot encoding or label encoding.\n",
    "Normalize or standardize numerical features if required.\n",
    "Hint: Utilize Pandas for data manipulation and scikit-learn’s preprocessing module for encoding."
   ]
  },
  {
   "cell_type": "code",
   "execution_count": 32,
   "id": "f4879c32",
   "metadata": {},
   "outputs": [
    {
     "name": "stdout",
     "output_type": "stream",
     "text": [
      "   PassengerId  Survived  Pclass  \\\n",
      "0            1         0       3   \n",
      "1            2         1       1   \n",
      "2            3         1       3   \n",
      "3            4         1       1   \n",
      "4            5         0       3   \n",
      "\n",
      "                                                Name  Sex       Age  SibSp  \\\n",
      "0                            Braund, Mr. Owen Harris    1  0.271174      1   \n",
      "1  Cumings, Mrs. John Bradley (Florence Briggs Th...    0  0.472229      1   \n",
      "2                             Heikkinen, Miss. Laina    0  0.321438      0   \n",
      "3       Futrelle, Mrs. Jacques Heath (Lily May Peel)    0  0.434531      1   \n",
      "4                           Allen, Mr. William Henry    1  0.434531      0   \n",
      "\n",
      "   Parch            Ticket      Fare    Cabin  Embarked  Family Size  Title  \n",
      "0      0         A/5 21171  0.014151  Unknown         2            2     11  \n",
      "1      0          PC 17599  0.139136      C85         0            2     12  \n",
      "2      0  STON/O2. 3101282  0.015469  Unknown         2            1      8  \n",
      "3      0            113803  0.103644     C123         2            2     12  \n",
      "4      0            373450  0.015713  Unknown         2            1     11  \n"
     ]
    }
   ],
   "source": [
    "#Create new features, such as Family Size from SibSp and Parch, and Title extracted from the Name column.\n",
    "cleaned_df['Family Size'] = cleaned_df['SibSp'] + cleaned_df['Parch'] +1\n",
    "cleaned_df['Title'] = cleaned_df['Name'].str.extract(r',\\s*([^\\.]+)\\.', expand=False)\n",
    "\n",
    "#Convert categorical variables into numerical form using techniques like one-hot encoding or label encoding.\n",
    "from sklearn.preprocessing import LabelEncoder\n",
    "\n",
    "for col in ['Sex', 'Embarked', 'Title']:\n",
    "    cleaned_df[col] = LabelEncoder().fit_transform(cleaned_df[col])\n",
    "\n",
    "#Normalize or standardize numerical features if required.\n",
    "from sklearn.preprocessing import MinMaxScaler\n",
    "scaler = MinMaxScaler()\n",
    "cleaned_df[['Age', 'Fare']] = scaler.fit_transform(cleaned_df[['Age', 'Fare']])\n",
    "\n",
    "\n",
    "print(cleaned_df.head())"
   ]
  },
  {
   "cell_type": "markdown",
   "id": "701371c5",
   "metadata": {},
   "source": [
    "Exercise 4: Outlier Detection And Handling\n",
    "\n",
    "Instructions\n",
    "\n",
    "Use statistical methods to detect outliers in columns like Fare and Age.\n",
    "Decide on a strategy to handle the identified outliers, such as capping, transformation, or removal.\n",
    "Implement the chosen strategy and assess its impact on the dataset."
   ]
  },
  {
   "cell_type": "code",
   "execution_count": 48,
   "id": "13d4a9f4",
   "metadata": {},
   "outputs": [
    {
     "name": "stdout",
     "output_type": "stream",
     "text": [
      "Fare: 114 outliers (12.82%)\n",
      "Age: 65 outliers (7.31%)\n"
     ]
    },
    {
     "data": {
      "image/png": "[encoded data removed]",
      "text/plain": [
       "<Figure size 1200x500 with 2 Axes>"
      ]
     },
     "metadata": {},
     "output_type": "display_data"
    },
    {
     "data": {
      "image/png": "[encoded data removed]",
      "text/plain": [
       "<Figure size 1200x500 with 2 Axes>"
      ]
     },
     "metadata": {},
     "output_type": "display_data"
    }
   ],
   "source": [
    "#Use statistical methods to detect outliers in columns like Fare and Age.\n",
    "def get_outliers(column):\n",
    "    #Calculate Q1 et Q3 for the column\n",
    "    Q1 = column.quantile(0.25)\n",
    "    Q3 = column.quantile(0.75)\n",
    "    #Caluculate IQR\n",
    "    IQR = Q3 - Q1\n",
    "    #Calculate bounds\n",
    "    lower_bound = Q1 - 1.5 * IQR\n",
    "    upper_bound = Q3 + 1.5 * IQR\n",
    "    # Return boolean Series where True means an outlier\n",
    "    return (column < lower_bound) | (column > upper_bound)\n",
    "\n",
    "#Decide on a strategy to handle the identified outliers, such as capping, transformation, or removal.\n",
    "#Step 1: Identify and count outliers per column\n",
    "def count_outliers(df, col_name):\n",
    "    mask = get_outliers(df[col_name])\n",
    "    count = mask.sum()\n",
    "    percent = 100 * count / len(df)\n",
    "    return count, round(percent, 2)\n",
    "\n",
    "for col in ['Fare', 'Age']:\n",
    "    count, percent = count_outliers(cleaned_df, col)\n",
    "    print(f\"{col}: {count} outliers ({percent}%)\")\n",
    "\n",
    "#Step 2: Visualize\n",
    "import matplotlib.pyplot as plt\n",
    "import seaborn as sns\n",
    "\n",
    "# Set up the figure with 1 row, 2 columns\n",
    "fig, axes = plt.subplots(nrows=1, ncols=2, figsize=(12, 5))\n",
    "\n",
    "# Boxplot for Fare\n",
    "sns.boxplot(x=cleaned_df['Fare'], ax=axes[0])\n",
    "axes[0].set_title('Fare')\n",
    "\n",
    "# Boxplot for Age\n",
    "sns.boxplot(x=cleaned_df['Age'], ax=axes[1])\n",
    "axes[1].set_title('Age')\n",
    "\n",
    "# Display\n",
    "plt.tight_layout()\n",
    "plt.show()\n",
    "\n",
    "#Scaling was already performed, so transformation is no longer an option\n",
    "#Outliers make for significant parts of the dataset (Age: 7.31%, Fare: 12.82%), so dropping is not viable either\n",
    "#We will cap both\n",
    "cleaned_df['Fare'] = cleaned_df['Fare'].clip(upper=cleaned_df['Fare'].quantile(0.99))\n",
    "cleaned_df['Age'] = cleaned_df['Age'].clip(upper=cleaned_df['Age'].quantile(0.98))\n",
    "\n",
    "# Set up the figure with 1 row, 2 columns\n",
    "fig, axes = plt.subplots(nrows=1, ncols=2, figsize=(12, 5))\n",
    "\n",
    "# Boxplot for Fare\n",
    "sns.boxplot(x=cleaned_df['Fare'], ax=axes[0])\n",
    "axes[0].set_title('Fare')\n",
    "\n",
    "# Boxplot for Age\n",
    "sns.boxplot(x=cleaned_df['Age'], ax=axes[1])\n",
    "axes[1].set_title('Age')\n",
    "\n",
    "# Display\n",
    "plt.tight_layout()\n",
    "plt.show()\n",
    "\n",
    "\n",
    "\n"
   ]
  },
  {
   "cell_type": "code",
   "execution_count": null,
   "id": "cc9a0c4b",
   "metadata": {},
   "outputs": [],
   "source": [
    "Exercise 5: Data Standardization And Normalization\n",
    "\n",
    "Instructions\n",
    "\n",
    "Assess the scale and distribution of numerical columns in the dataset.\n",
    "Apply standardization to features with a wide range of values.\n",
    "Normalize data that requires a bounded range, like [0, 1].\n",
    "Hint: Consider using StandardScaler and MinMaxScaler from scikit-learn’s preprocessing module."
   ]
  },
  {
   "cell_type": "code",
   "execution_count": null,
   "id": "5df81563",
   "metadata": {},
   "outputs": [],
   "source": [
    "#Déjà traité dans l'exercice 3?"
   ]
  },
  {
   "cell_type": "markdown",
   "id": "5d8fa439",
   "metadata": {},
   "source": [
    "Exercise 6: Feature Encoding\n",
    "\n",
    "Instructions\n",
    "\n",
    "Identify categorical columns in the Titanic dataset, such as Sex and Embarked.\n",
    "Use one-hot encoding for nominal variables and label encoding for ordinal variables.\n",
    "Integrate the encoded features back into the main dataset.\n",
    "Hint: Utilize pandas.get_dummies() for one-hot encoding and LabelEncoder from scikit-learn for label encoding."
   ]
  },
  {
   "cell_type": "code",
   "execution_count": null,
   "id": "7c7f1ddb",
   "metadata": {},
   "outputs": [],
   "source": [
    "#Déjà traité dans l'exercice 3?"
   ]
  },
  {
   "cell_type": "markdown",
   "id": "96f8ef88",
   "metadata": {},
   "source": [
    "Exercise 7: Data Transformation For Age Feature\n",
    "\n",
    "Instructions\n",
    "\n",
    "Create age groups (bins) from the Age column to categorize passengers into different age categories.\n",
    "Apply one-hot encoding to the age groups to convert them into binary features.\n",
    "Hint: Use pd.cut() for binning the Age column and pd.get_dummies() for one-hot encoding."
   ]
  },
  {
   "cell_type": "code",
   "execution_count": 51,
   "id": "dec33277",
   "metadata": {},
   "outputs": [
    {
     "name": "stdout",
     "output_type": "stream",
     "text": [
      "   PassengerId  Survived  Pclass  \\\n",
      "0            1         0       3   \n",
      "1            2         1       1   \n",
      "2            3         1       3   \n",
      "3            4         1       1   \n",
      "4            5         0       3   \n",
      "\n",
      "                                                Name  Sex       Age  SibSp  \\\n",
      "0                            Braund, Mr. Owen Harris    1  0.271174      1   \n",
      "1  Cumings, Mrs. John Bradley (Florence Briggs Th...    0  0.472229      1   \n",
      "2                             Heikkinen, Miss. Laina    0  0.321438      0   \n",
      "3       Futrelle, Mrs. Jacques Heath (Lily May Peel)    0  0.434531      1   \n",
      "4                           Allen, Mr. William Henry    1  0.434531      0   \n",
      "\n",
      "   Parch            Ticket      Fare  ...  AgeGroup_Very Young  \\\n",
      "0      0         A/5 21171  0.014151  ...                    0   \n",
      "1      0          PC 17599  0.139136  ...                    0   \n",
      "2      0  STON/O2. 3101282  0.015469  ...                    0   \n",
      "3      0            113803  0.103644  ...                    0   \n",
      "4      0            373450  0.015713  ...                    0   \n",
      "\n",
      "   AgeGroup_Young  AgeGroup_Mid Age  AgeGroup_Older  AgeGroup_Oldest  \\\n",
      "0               1                 0               0                0   \n",
      "1               0                 1               0                0   \n",
      "2               1                 0               0                0   \n",
      "3               0                 1               0                0   \n",
      "4               0                 1               0                0   \n",
      "\n",
      "   AgeGroup_Very Young  AgeGroup_Young  AgeGroup_Mid Age  AgeGroup_Older  \\\n",
      "0                    0               1                 0               0   \n",
      "1                    0               0                 1               0   \n",
      "2                    0               1                 0               0   \n",
      "3                    0               0                 1               0   \n",
      "4                    0               0                 1               0   \n",
      "\n",
      "   AgeGroup_Oldest  \n",
      "0                0  \n",
      "1                0  \n",
      "2                0  \n",
      "3                0  \n",
      "4                0  \n",
      "\n",
      "[5 rows x 30 columns]\n"
     ]
    }
   ],
   "source": [
    "# Create bins in the normalized range\n",
    "bins = [0.0, 0.2, 0.4, 0.6, 0.8, 1.01]  # Slightly beyond 1 to include 1.0\n",
    "labels = ['Very Young', 'Young', 'Mid Age', 'Older', 'Oldest']\n",
    "\n",
    "cleaned_df['AgeGroup'] = pd.cut(cleaned_df['Age'], bins=bins, labels=labels, right=False)\n",
    "\n",
    "# One-hot encode\n",
    "cleaned_df = pd.concat([cleaned_df, pd.get_dummies(cleaned_df['AgeGroup'], prefix='AgeGroup', dtype=int)], axis=1)\n",
    "\n",
    "print(cleaned_df.head())\n"
   ]
  }
 ],
 "metadata": {
  "kernelspec": {
   "display_name": "Python 3",
   "language": "python",
   "name": "python3"
  },
  "language_info": {
   "codemirror_mode": {
    "name": "ipython",
    "version": 3
   },
   "file_extension": ".py",
   "mimetype": "text/x-python",
   "name": "python",
   "nbconvert_exporter": "python",
   "pygments_lexer": "ipython3",
   "version": "3.13.2"
  }
 },
 "nbformat": 4,
 "nbformat_minor": 5
}
