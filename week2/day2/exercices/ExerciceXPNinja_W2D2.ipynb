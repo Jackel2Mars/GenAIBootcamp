{
 "cells": [
  {
   "cell_type": "markdown",
   "id": "6c35bfa9",
   "metadata": {},
   "source": [
    "GenAI & Machine Learning Bootcamp 2025 - Full Time 2025 - PSTB Python and OOP Python Essentials Exercises XP Ninja"
   ]
  },
  {
   "cell_type": "markdown",
   "id": "292e77f1",
   "metadata": {},
   "source": [
    "Exercise 1: Cars\n",
    "\n",
    "Copy the following string into your code: Volkswagen, Toyota, Ford Motor, Honda, Chevrolet.\n",
    "Convert it into a list using Python (don’t do it by hand!).\n",
    "Print out a message saying how many manufacturers/companies are in the list.\n",
    "Print the list of manufacturers in reverse/descending order (Z-A).\n",
    "Using loops or list comprehension:\n",
    "Find out how many manufacturers’ names have the letter o in them.\n",
    "Find out how many manufacturers’ names do not have the letter i in them.\n",
    "Bonus:\n",
    "\n",
    "There are a few duplicates in this list: [\"Honda\", \"Volkswagen\", \"Toyota\", \"Ford Motor\", \"Honda\", \"Chevrolet\", \"Toyota\"]\n",
    "Remove these programmatically. (Hint: you can use a set to help you).\n",
    "Print out the companies without duplicates, in a comma-separated string with no line-breaks (e.g., “Acura, Alfa Romeo, Aston Martin, …”), also print out a message saying how many companies are now in the list.\n",
    "Bonus:\n",
    "\n",
    "Print out the list of manufacturers in ascending order (A-Z), but reverse the letters of each manufacturer’s name."
   ]
  },
  {
   "cell_type": "code",
   "execution_count": 29,
   "id": "848ba19e",
   "metadata": {},
   "outputs": [
    {
     "name": "stdout",
     "output_type": "stream",
     "text": [
      "5 manufacturers are in the list\n",
      "Volkswagen, Toyota, Honda, Ford Motor, Chevrolet\n",
      "5 with an 'o' in their name are included in the lists\n",
      "5 without an 'i' in their name are included in the lists\n",
      "Toyota, Volkswagen, Honda, Chevrolet, Ford Motor\n",
      "5 are now in the list\n",
      "telorvehC, rotoM droF, adnoH, atoyoT, negawskloV\n"
     ]
    }
   ],
   "source": [
    "brands_string = \"Volkswagen, Toyota, Ford Motor, Honda, Chevrolet\"\n",
    "brands_list = brands_string.split(', ')\n",
    "print(f\"{len(brands_list)} manufacturers are in the list\")\n",
    "print(\", \".join(sorted(brands_list, reverse=True)))\n",
    "print(f\"{sum(1 for brand in brands_list if 'o' in brand.lower())} with an 'o' in their name are included in the lists\")\n",
    "print(f\"{sum(1 for brand in brands_list if 'i' not in brand.lower())} without an 'i' in their name are included in the lists\")\n",
    "\n",
    "other_brands_list = [\"Honda\", \"Volkswagen\", \"Toyota\", \"Ford Motor\", \"Honda\", \"Chevrolet\", \"Toyota\"]\n",
    "other_brands_list = list(set(other_brands_list))\n",
    "print(\", \".join(other_brands_list))\n",
    "print(f\"{len(other_brands_list)} are now in the list\")\n",
    "print(\", \".join([brand[::-1] for brand in sorted(brands_list)]))"
   ]
  },
  {
   "cell_type": "markdown",
   "id": "4ddf2156",
   "metadata": {},
   "source": [
    "Exercise 2: What’s Your Name?\n",
    "\n",
    "Write a function called get_full_name() that takes three arguments: 1: first_name, 2: middle_name, 3: last_name.\n",
    "middle_name should be optional; if it’s omitted by the user, the name returned should only contain the first and the last name.\n",
    "For example, get_full_name(first_name=\"john\", middle_name=\"hooker\", last_name=\"lee\") will return “John Hooker Lee”.\n",
    "But get_full_name(first_name=\"bruce\", last_name=\"lee\") will return “Bruce Lee”."
   ]
  },
  {
   "cell_type": "code",
   "execution_count": 33,
   "id": "66b1c703",
   "metadata": {},
   "outputs": [
    {
     "name": "stdout",
     "output_type": "stream",
     "text": [
      "John Hooker Lee\n",
      "Bruce Lee\n"
     ]
    }
   ],
   "source": [
    "def get_full_name(first_name, last_name, middle_name = None):\n",
    "    if middle_name != None and middle_name != \"\":\n",
    "        print(f\"{first_name.capitalize()} {middle_name.capitalize()} {last_name.capitalize()}\")\n",
    "    else:\n",
    "        print(f\"{first_name.capitalize()} {last_name.capitalize()}\")\n",
    "get_full_name(first_name=\"john\", middle_name=\"hooker\", last_name=\"lee\")\n",
    "get_full_name(first_name=\"bruce\", last_name=\"lee\")"
   ]
  },
  {
   "cell_type": "markdown",
   "id": "85d31364",
   "metadata": {},
   "source": [
    "Exercise 3: From English To Morse\n",
    "\n",
    "Write a function that converts English text to Morse code and another one that does the opposite.\n",
    "Hint: Check the internet for a translation table, every letter is separated with a space and every word is separated with a slash /."
   ]
  },
  {
   "cell_type": "code",
   "execution_count": null,
   "id": "56eefc2c",
   "metadata": {},
   "outputs": [
    {
     "name": "stdout",
     "output_type": "stream",
     "text": [
      ".... . .-.. .-.. --- / .-- --- .-. .-.. -..\n",
      "HELLO WORLD\n"
     ]
    }
   ],
   "source": [
    "MORSE_CODE_DICT = {\n",
    "    'A': '.-',    'B': '-...',  'C': '-.-.', 'D': '-..',\n",
    "    'E': '.',     'F': '..-.',  'G': '--.',  'H': '....',\n",
    "    'I': '..',    'J': '.---',  'K': '-.-',  'L': '.-..',\n",
    "    'M': '--',    'N': '-.',    'O': '---',  'P': '.--.',\n",
    "    'Q': '--.-',  'R': '.-.',   'S': '...',  'T': '-',\n",
    "    'U': '..-',   'V': '...-',  'W': '.--',  'X': '-..-',\n",
    "    'Y': '-.--',  'Z': '--..',\n",
    "    '0': '-----', '1': '.----', '2': '..---','3': '...--',\n",
    "    '4': '....-', '5': '.....', '6': '-....','7': '--...',\n",
    "    '8': '---..', '9': '----.',\n",
    "    '&': '.-...', \"'\": '.----.','@': '.--.-.',')': '-.--.-',\n",
    "    '(': '-.--.', ':': '---...', ',': '--..--', '=': '-...-',\n",
    "    '!': '-.-.--', '.': '.-.-.-','-': '-....-','+': '.-.-.',\n",
    "    '\"': '.-..-.', '?': '..--..','/': '-..-.'\n",
    "}\n",
    "\n",
    "def english_to_morse(text):\n",
    "    text = text.upper() #because dictionnary is in uppercase\n",
    "    morse_words = []\n",
    "    for word in text.split():\n",
    "        morse_letters = []\n",
    "        for letter in word:\n",
    "            if letter in MORSE_CODE_DICT:\n",
    "                morse_letters.append(MORSE_CODE_DICT[letter])\n",
    "            else:\n",
    "                morse_letters.append('')  # or ignore unknown chars\n",
    "        morse_words.append(' '.join(morse_letters))\n",
    "    return ' / '.join(morse_words)\n",
    "\n",
    "REVERSE_MORSE_CODE_DICT = {v: k for k, v in MORSE_CODE_DICT.items()}\n",
    "\n",
    "def morse_to_english(morse_code):\n",
    "    words = morse_code.split(' / ')\n",
    "    decoded_words = []\n",
    "    for word in words:\n",
    "        letters = word.split()\n",
    "        decoded_letters = []\n",
    "        for letter in letters:\n",
    "            decoded_letters.append(REVERSE_MORSE_CODE_DICT.get(letter, ''))\n",
    "        decoded_words.append(''.join(decoded_letters))\n",
    "    return ' '.join(decoded_words)\n",
    "\n",
    "msg = \"Hello World\"\n",
    "morse = english_to_morse(msg)\n",
    "print(morse)\n",
    "# Output: \".... . .-.. .-.. --- / .-- --- .-. .-.. -..\"\n",
    "\n",
    "text = morse_to_english(morse)\n",
    "print(text)\n",
    "# Output: \"HELLO WORLD\"\n"
   ]
  }
 ],
 "metadata": {
  "kernelspec": {
   "display_name": "Python 3",
   "language": "python",
   "name": "python3"
  },
  "language_info": {
   "codemirror_mode": {
    "name": "ipython",
    "version": 3
   },
   "file_extension": ".py",
   "mimetype": "text/x-python",
   "name": "python",
   "nbconvert_exporter": "python",
   "pygments_lexer": "ipython3",
   "version": "3.10.16"
  }
 },
 "nbformat": 4,
 "nbformat_minor": 5
}
