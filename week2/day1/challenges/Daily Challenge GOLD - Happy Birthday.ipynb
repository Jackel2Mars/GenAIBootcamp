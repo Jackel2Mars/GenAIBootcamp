{
 "cells": [
  {
   "cell_type": "markdown",
   "id": "43e0ab0f",
   "metadata": {},
   "source": [
    "Instructions\n",
    "\n",
    "Ask the user for their birthdate (specify the format, for example: DD/MM/YYYY).\n",
    "Display a little cake as seen below:\n",
    "       ___iiiii___\n",
    "      |:H:a:p:p:y:|\n",
    "    __|___________|__\n",
    "   |^^^^^^^^^^^^^^^^^|\n",
    "   |:B:i:r:t:h:d:a:y:|\n",
    "   |                 |\n",
    "   ~~~~~~~~~~~~~~~~~~~\n",
    "\n",
    "The number of candles on the cake should be the last number of the users age, if they are 53, then add 3 candles.\n",
    "\n",
    "Bonus : If they were born on a leap year, display two cakes !"
   ]
  },
  {
   "cell_type": "code",
   "execution_count": 13,
   "id": "fd9136ca",
   "metadata": {},
   "outputs": [
    {
     "name": "stdout",
     "output_type": "stream",
     "text": [
      "    ____ii_____\n",
      "   |:H:a:p:p:y:|\n",
      " __|___________|__ \n",
      "|^^^^^^^^^^^^^^^^^|\n",
      "|:B:i:r:t:h:d:a:y:|\n",
      "|                 |\n",
      "~~~~~~~~~~~~~~~~~~~\n"
     ]
    }
   ],
   "source": [
    "from datetime import datetime\n",
    "# Input date string\n",
    "date_str = input(\"What is your birthdate in DD/MM/YYY ? \")\n",
    "# Convert the string to a datetime object\n",
    "birth_date = datetime.strptime(date_str, \"%d/%m/%Y\")\n",
    "# Get today's date\n",
    "today = datetime.today()\n",
    "# Calculate age\n",
    "age = today.year - birth_date.year\n",
    "# Adjust if birthday hasn't occurred yet this year\n",
    "if (today.month, today.day) < (birth_date.month, birth_date.day):\n",
    "    age -= 1\n",
    "number_of_candles = age % 10\n",
    "if number_of_candles % 2 !=0:\n",
    "    icing_left = (11-number_of_candles)//2*\"_\"\n",
    "    icing_right = (11-number_of_candles)//2*\"_\"\n",
    "else:\n",
    "    icing_left = (11-number_of_candles)//2*\"_\"\n",
    "    icing_right = ((11-number_of_candles)//2+1)*\"_\"\n",
    "\n",
    "print(f\"    {icing_left}{number_of_candles*'i'}{icing_right}\\n   |:H:a:p:p:y:|\\n __|___________|__ \\n|{17*'^'}|\\n|:B:i:r:t:h:d:a:y:|\\n|{17*' '}|\\n{19*'~'}\")"
   ]
  }
 ],
 "metadata": {
  "kernelspec": {
   "display_name": "Python 3",
   "language": "python",
   "name": "python3"
  },
  "language_info": {
   "codemirror_mode": {
    "name": "ipython",
    "version": 3
   },
   "file_extension": ".py",
   "mimetype": "text/x-python",
   "name": "python",
   "nbconvert_exporter": "python",
   "pygments_lexer": "ipython3",
   "version": "3.10.16"
  }
 },
 "nbformat": 4,
 "nbformat_minor": 5
}
