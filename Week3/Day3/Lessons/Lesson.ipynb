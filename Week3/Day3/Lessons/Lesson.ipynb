{
 "cells": [
  {
   "cell_type": "markdown",
   "id": "740d5404",
   "metadata": {},
   "source": [
    "1. Use NumPy to create a large random array of floating-point numbers.\n",
    "\n",
    "2. Compute the mean and standard deviation using both NumPy and SciPy.\n",
    "\n",
    "3. Compare the results and execution time to understand the efficiency or additional features provided by SciPy."
   ]
  },
  {
   "cell_type": "code",
   "execution_count": 1,
   "id": "d4525011",
   "metadata": {},
   "outputs": [
    {
     "name": "stdout",
     "output_type": "stream",
     "text": [
      "NumPy Mean: 0.4998517177788956\n",
      "NumPy Std Dev: 0.2886795480960976\n",
      "NumPy Time: 0.03152012825012207\n",
      "SciPy Mean: 0.4998517177788956\n",
      "SciPy Std Dev: 0.28867956253007604\n",
      "SciPy Time: 0.08308100700378418\n"
     ]
    }
   ],
   "source": [
    "import numpy as np\n",
    "from scipy import stats\n",
    "import time\n",
    "\n",
    "# 1. Create a large random array of floating-point numbers\n",
    "large_array = np.random.rand(10_000_000)  # 10 million numbers\n",
    "\n",
    "# 2. Compute mean and standard deviation using NumPy\n",
    "start_np = time.time()\n",
    "mean_np = np.mean(large_array)\n",
    "std_np = np.std(large_array)\n",
    "end_np = time.time()\n",
    "time_np = end_np - start_np\n",
    "\n",
    "# Compute mean and standard deviation using SciPy\n",
    "start_scipy = time.time()\n",
    "mean_scipy = stats.tmean(large_array)\n",
    "std_scipy = stats.tstd(large_array)\n",
    "end_scipy = time.time()\n",
    "time_scipy = end_scipy - start_scipy\n",
    "\n",
    "# Print results\n",
    "print(\"NumPy Mean:\", mean_np)\n",
    "print(\"NumPy Std Dev:\", std_np)\n",
    "print(\"NumPy Time:\", time_np)\n",
    "\n",
    "print(\"SciPy Mean:\", mean_scipy)\n",
    "print(\"SciPy Std Dev:\", std_scipy)\n",
    "print(\"SciPy Time:\", time_scipy)"
   ]
  },
  {
   "cell_type": "markdown",
   "id": "93500d77",
   "metadata": {},
   "source": [
    "1. Use the provided stock prices dataset (copy-paste from the bottom of the note).\n",
    "\n",
    "2. Read the dataset using pandas and convert the relevant column to a NumPy array.\n",
    "\n",
    "3. Calculate the mean, median, variance, and standard deviation of the stock prices.\n",
    "\n",
    "4. Interpret the results in the context of financial data analysis."
   ]
  },
  {
   "cell_type": "code",
   "execution_count": null,
   "id": "3500931e",
   "metadata": {},
   "outputs": [
    {
     "name": "stdout",
     "output_type": "stream",
     "text": [
      "        Date  DVLPRS_Price\n",
      "0 2023-01-01    117.640523\n",
      "1 2023-01-02    104.001572\n",
      "2 2023-01-03    109.787380\n",
      "3 2023-01-04    122.408932\n",
      "4 2023-01-05    118.675580\n",
      "100.59808015534487\n",
      "100.94096119437998\n",
      "102.60874941564964\n",
      "10.129597692685017\n"
     ]
    }
   ],
   "source": [
    "import pandas as pd\n",
    "import numpy as np\n",
    "from scipy import stats\n",
    "\n",
    "# Simulating stock prices for a non-existent stock (DVLPRS)\n",
    "np.random.seed(0)  # For reproducibility\n",
    "\n",
    "# Generating 100 days of stock prices\n",
    "dates = pd.date_range(start='2023-01-01', periods=100)\n",
    "prices = np.random.normal(loc=100, scale=10, size=len(dates))  # Assume a mean price of 100 with a standard deviation of 10\n",
    "\n",
    "# Creating a DataFrame\n",
    "stock_data = pd.DataFrame({\n",
    "    'Date': dates,\n",
    "    'DVLPRS_Price': prices\n",
    "})\n",
    "\n",
    "# Displaying the first few rows of the simulated data\n",
    "print(stock_data.head())\n",
    "\n",
    "# Convert the relevant column to a NumPy array\n",
    "stock_array = np.array(stock_data['DVLPRS_Price'])\n",
    "\n",
    "# Calculate the mean, median, variance, and standard deviation of the stock prices.\n",
    "avg = stats.tmean(stock_array)\n",
    "print(avg)\n",
    "med = np.median(stock_array)  # SciPy does not have a separate median function\n",
    "print(med)\n",
    "variance = stats.tvar(stock_array)\n",
    "print(variance)\n",
    "strd_dev = stats.tstd(stock_array)\n",
    "print(strd_dev)\n",
    "\n",
    "# Interpret the results in the context of financial data analysis\n",
    "#Stock prices over the year followed a \"normal\" distribution with not much of variations --> no bubble.\n"
   ]
  },
  {
   "cell_type": "markdown",
   "id": "63316e60",
   "metadata": {},
   "source": [
    "Scenario: Botanical Study\n",
    "\n",
    "Data: Petal lengths of Iris Setosa and Iris Versicolor species.\n",
    "Task: Determine if there is a significant difference in the petal lengths of these two Iris species.\n",
    "Steps for the Exercise\n",
    "\n",
    "1. Load and Prepare Data: You will load the Iris dataset and extract the petal lengths for the two species.\n",
    "\n",
    "2. Perform the T-test: Calculate the T-statistic and P-value to compare the petal lengths.\n",
    "\n",
    "3. Interpret the Results: Based on these values, determine if the differences in petal lengths are statistically significant.\n",
    "\n",
    "Python Code for Data Preparation and T-test\n",
    "\n",
    "from sklearn.datasets import load_iris\n",
    "from scipy.stats import ttest_ind\n",
    "import pandas as pd\n",
    "\n",
    "# Load Iris dataset\n",
    "iris = load_iris()\n",
    "iris_df = pd.DataFrame(iris.data, columns=iris.feature_names)\n",
    "iris_df['species'] = pd.Categorical.from_codes(iris.target, iris.target_names)\n",
    "\n",
    "# Extract petal lengths for Setosa and Versicolor\n",
    "setosa_petal_length = iris_df[iris_df['species'] == 'setosa']['petal length (cm)']\n",
    "versicolor_petal_length = iris_df[iris_df['species'] == 'versicolor']['petal length (cm)']\n",
    "\n",
    "# Perform T-test\n",
    "t_stat, p_val = ttest_ind(setosa_petal_length, versicolor_petal_length)\n",
    "\n",
    "# Output the T-statistic and P-value\n",
    "print(\"Iris Petal Length Comparison: T-statistic =\", t_stat, \"P-value =\", p_val)\n",
    "Your Task:\n",
    "\n",
    "Execute the provided Python code to calculate the T-statistic and P-value.\n",
    "Analyze the results:\n",
    "Is the T-statistic high enough to suggest a significant difference in petal lengths?\n",
    "Does the P-value indicate that this difference is statistically significant?\n",
    "Discuss what your findings suggest about the petal lengths of these two Iris species.\n",
    "After you've finished\n",
    "Add the following code to the code provided above and run it:\n",
    "Analze the plots and try to see the relatioship between the visual represantation of the distributions and the t/p values.\n",
    "# Plotting the distributions\n",
    "sns.histplot(setosa_petal_length, color=\"skyblue\", label=\"Iris Setosa\", kde=True)\n",
    "sns.histplot(versicolor_petal_length, color=\"red\", label=\"Iris Versicolor\", kde=True)\n",
    "\n",
    "# Adding titles and labels\n",
    "plt.title(\n",
    "    f\"Iris Petal Length Comparison\\nT-statistic: {t_stat:.2f}, P-value: {p_val:.2e}\"\n",
    ")\n",
    "plt.xlabel(\"Petal Length (cm)\")\n",
    "plt.ylabel(\"Frequency\")\n",
    "plt.legend()\n",
    "\n",
    "plt.show()"
   ]
  },
  {
   "cell_type": "code",
   "execution_count": null,
   "id": "678c01c6",
   "metadata": {},
   "outputs": [
    {
     "name": "stdout",
     "output_type": "stream",
     "text": [
      "Iris Petal Length Comparison: T-statistic = -39.492719391538095 P-value = 5.404910513441832e-62\n"
     ]
    },
    {
     "data": {
      "image/png": "[encoded data removed]",
      "text/plain": [
       "<Figure size 640x480 with 1 Axes>"
      ]
     },
     "metadata": {},
     "output_type": "display_data"
    }
   ],
   "source": [
    "from sklearn.datasets import load_iris\n",
    "from scipy.stats import ttest_ind\n",
    "import pandas as pd\n",
    "import matplotlib.pyplot as plt\n",
    "import seaborn as sns\n",
    "\n",
    "# Load Iris dataset\n",
    "iris = load_iris()\n",
    "iris_df = pd.DataFrame(iris.data, columns=iris.feature_names)\n",
    "iris_df['species'] = pd.Categorical.from_codes(iris.target, iris.target_names)\n",
    "\n",
    "# Extract petal lengths for Setosa and Versicolor\n",
    "setosa_petal_length = iris_df[iris_df['species'] == 'setosa']['petal length (cm)']\n",
    "versicolor_petal_length = iris_df[iris_df['species'] == 'versicolor']['petal length (cm)']\n",
    "\n",
    "# Perform T-test\n",
    "t_stat, p_val = ttest_ind(setosa_petal_length, versicolor_petal_length)\n",
    "\n",
    "# Output the T-statistic and P-value\n",
    "print(\"Iris Petal Length Comparison: T-statistic =\", t_stat, \"P-value =\", p_val)\n",
    "\n",
    "# Plotting the distributions\n",
    "sns.histplot(setosa_petal_length, color=\"skyblue\", label=\"Iris Setosa\", kde=True)\n",
    "sns.histplot(versicolor_petal_length, color=\"red\", label=\"Iris Versicolor\", kde=True)\n",
    "\n",
    "# Adding titles and labels\n",
    "plt.title(\n",
    "    f\"Iris Petal Length Comparison\\nT-statistic: {t_stat:.2f}, P-value: {p_val:.2e}\"\n",
    ")\n",
    "plt.xlabel(\"Petal Length (cm)\")\n",
    "plt.ylabel(\"Frequency\")\n",
    "plt.legend()\n",
    "\n",
    "plt.show()\n",
    "\n",
    "#Iris Setosa shows quite the normal centered distribution and with little deviation from median.\n",
    "#Iris Versicolor if more skewed."
   ]
  },
  {
   "cell_type": "markdown",
   "id": "bbf65f9d",
   "metadata": {},
   "source": [
    "Objective: Implement and interpret linear regression using SciPy.\n",
    "\n",
    "1. Dataset: x = np.array([2, 4, 6, 8, 10]), y = np.array([3, 5, 7, 9, 11]).\n",
    "\n",
    "2. Perform linear regression to find slope and intercept.\n",
    "\n",
    "3. Plot data points and regression line.\n",
    "\n",
    "4. Interpret the results, focusing on the slope and intercept."
   ]
  },
  {
   "cell_type": "code",
   "execution_count": null,
   "id": "ff93cd88",
   "metadata": {},
   "outputs": [],
   "source": []
  }
 ],
 "metadata": {
  "kernelspec": {
   "display_name": "Python 3",
   "language": "python",
   "name": "python3"
  },
  "language_info": {
   "codemirror_mode": {
    "name": "ipython",
    "version": 3
   },
   "file_extension": ".py",
   "mimetype": "text/x-python",
   "name": "python",
   "nbconvert_exporter": "python",
   "pygments_lexer": "ipython3",
   "version": "3.13.2"
  }
 },
 "nbformat": 4,
 "nbformat_minor": 5
}
