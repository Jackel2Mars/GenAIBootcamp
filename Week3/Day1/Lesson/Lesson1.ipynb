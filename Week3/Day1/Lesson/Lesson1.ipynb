{
 "cells": [
  {
   "cell_type": "code",
   "execution_count": 4,
   "id": "52944714",
   "metadata": {},
   "outputs": [
    {
     "name": "stdout",
     "output_type": "stream",
     "text": [
      "2.3.0\n",
      "1D Array: [1 2 3 4]\n",
      "2D Array:\n",
      " [[1 2 3]\n",
      " [4 5 6]]\n",
      "Shape: (2, 3)\n",
      "Size: 6\n",
      "Data Type: int64\n"
     ]
    }
   ],
   "source": [
    "import numpy as np\n",
    "\n",
    "print(np.__version__)\n",
    "\n",
    "# Creating a 1D NumPy array\n",
    "array_1d = np.array([1, 2, 3, 4])\n",
    "print(\"1D Array:\", array_1d)  # Expected Output: 1D Array: [1 2 3 4]\n",
    "\n",
    "# Creating a 2D NumPy array\n",
    "array_2d = np.array([[1, 2, 3], [4, 5, 6]])\n",
    "print(\"2D Array:\\n\", array_2d)\n",
    "# Expected Output:\n",
    "# 2D Array:\n",
    "# [[1 2 3]\n",
    "#  [4 5 6]]\n",
    "\n",
    "# Array attributes\n",
    "print(\"Shape:\", array_2d.shape)  # Expected Output: Shape: (2, 3) - 2 rows and 3 columns\n",
    "print(\"Size:\", array_2d.size)   # Expected Output: Size: 6 - Total 6 elements\n",
    "print(\"Data Type:\", array_2d.dtype)  # Expected Output: Data Type: int64 (or similar, depending on system)"
   ]
  },
  {
   "cell_type": "markdown",
   "id": "88517edf",
   "metadata": {},
   "source": [
    "1. Create Arrays: Create a 1D array with numbers from 1 to 5 and a 2D array with numbers from 1 to 6 (reshape it to have 2 rows and 3 columns).\n",
    "\n",
    "USE:(https://numpy.org/doc/stable/reference/generated/numpy.reshape.html), (https://numpy.org/doc/stable/reference/generated/numpy.arange.html)\n",
    "\n",
    "2. Inspect Attributes: For each array you created, print its shape, size, and data type.\n",
    "\n",
    "3. Play with Data Types: Create a new array with numbers from 1 to 3, but specify the data type as float. Check and print its data type.\n",
    "\n",
    "Expected Output:\n",
    "\n",
    "Prints of the created arrays with their respective shapes, sizes, and data types.\n",
    "An array with a specified data type different from the default."
   ]
  },
  {
   "cell_type": "code",
   "execution_count": 13,
   "id": "233cbc2f",
   "metadata": {},
   "outputs": [
    {
     "name": "stdout",
     "output_type": "stream",
     "text": [
      "[1 2 3 4]\n",
      "[[1 2 3]\n",
      " [4 5 6]]\n",
      "(5,) 5 int64\n",
      "(2, 3) 6 int64\n",
      "float64\n"
     ]
    }
   ],
   "source": [
    "#1. Create Arrays: Create a 1D array with numbers from 1 to 5 and a 2D array with numbers from 1 to 6 (reshape it to have 2 rows and 3 columns).\n",
    "array1D = np.arange(start=1, stop=6)\n",
    "print(array_1d)\n",
    "array2D= np.arange(start=1, stop=7).reshape(2,3)\n",
    "print(array2D)\n",
    "\n",
    "#2. Inspect Attributes: For each array you created, print its shape, size, and data type.\n",
    "print(array1D.shape, array1D.size, array1D.dtype)\n",
    "print(array2D.shape, array2D.size, array2D.dtype)\n",
    "\n",
    "#3. Play with Data Types: Create a new array with numbers from 1 to 3, but specify the data type as float. Check and print its data type.\n",
    "array1D_float = np.arange(start=1, stop=4, dtype='float')\n",
    "print(array1D_float.dtype)\n",
    "\n",
    "\n"
   ]
  },
  {
   "cell_type": "markdown",
   "id": "a8683c42",
   "metadata": {},
   "source": [
    "A one dimensional array with the temperatures from this week.\n",
    "A two dimensional array of shape 2,5 with random values (choose them yourself) from 1 to 10.\n",
    "A 3D array with valid pixel values for a picture with 9 pixels."
   ]
  },
  {
   "cell_type": "code",
   "execution_count": 19,
   "id": "a92e8c76",
   "metadata": {},
   "outputs": [
    {
     "name": "stdout",
     "output_type": "stream",
     "text": [
      "[[[126  96  65]\n",
      "  [202 199   3]\n",
      "  [ 39 178 128]]\n",
      "\n",
      " [[ 91   7 252]\n",
      "  [ 78 120 128]\n",
      "  [223 142 206]]\n",
      "\n",
      " [[157 216  49]\n",
      "  [223 143 112]\n",
      "  [ 90  18 135]]]\n"
     ]
    }
   ],
   "source": [
    "#A one dimensional array with the temperatures from this week.\n",
    "temperatures = np.array([25, 27, 30, 28, 24, 27, 29])\n",
    "\n",
    "#A two dimensional array of shape 2,5 with random values (choose them yourself) from 1 to 10.\n",
    "import random\n",
    "random_2D = np.array([random.randint(1, 10) for _ in range(10)]).reshape(2, 5)\n",
    "\n",
    "#A 3D array with valid pixel values for a picture with 9 pixels.\n",
    "pixel_3D = np.array([random.randint(0, 255) for _ in range(27)]).reshape(3, 3, 3)\n",
    "print(pixel_3D)"
   ]
  },
  {
   "cell_type": "markdown",
   "id": "e89ad979",
   "metadata": {},
   "source": [
    "1. Basic Indexing: Create an array of 10 elements and access the 5th element in it.\n",
    "\n",
    "2. Basic Slicing: From the same array, extract a slice containing the 3rd to the 8th elements.\n",
    "\n",
    "3. Boolean Indexing: Create an array of 6 random integers between 10 and 50. Print the elements that are greater than 30.\n",
    "\n",
    "4. Fancy Indexing: From the same array, use fancy indexing to access the 2nd, 4th, and 6th elements.\n",
    "\n",
    "Expected Output:\n",
    "\n",
    "The 5th element of the first array.\n",
    "A slice of the array showing elements from the 3rd to the 8th position.\n",
    "Elements greater than 30 from the random array.\n",
    "Selected elements (2nd, 4th, 6th) from the random array using fancy indexing."
   ]
  },
  {
   "cell_type": "code",
   "execution_count": 38,
   "id": "c35ffcb8",
   "metadata": {},
   "outputs": [
    {
     "name": "stdout",
     "output_type": "stream",
     "text": [
      "[0 1 2 3 4 5 6 7 8 9]\n",
      "4\n",
      "[2 3 4 5 6 7]\n",
      "[40 22 36 49 44 46]\n",
      "[40 36 49 44 46]\n",
      "[22 49 46]\n"
     ]
    }
   ],
   "source": [
    "#1. Basic Indexing: Create an array of 10 elements and access the 5th element in it.\n",
    "array_basic_indexing = np.arange(start=0, stop=10)\n",
    "print(array_basic_indexing)\n",
    "print(array_basic_indexing[4])\n",
    "\n",
    "#2. Basic Slicing: From the same array, extract a slice containing the 3rd to the 8th elements.\n",
    "print(array_basic_indexing[2:8])\n",
    "\n",
    "#3. Boolean Indexing: Create an array of 6 random integers between 10 and 50. Print the elements that are greater than 30.\n",
    "random_bool_indexing = np.random.randint(10, 50, 6)\n",
    "print(random_bool_indexing)\n",
    "print(random_bool_indexing[random_bool_indexing > 30])\n",
    "\n",
    "#4. Fancy Indexing: From the same array, use fancy indexing to access the 2nd, 4th, and 6th elements.\n",
    "print(random_bool_indexing[1::2])\n",
    "\n"
   ]
  },
  {
   "cell_type": "markdown",
   "id": "3159570b",
   "metadata": {},
   "source": [
    "After learning about array indexing and slicing, it's important to practice these concepts. Here are some exercises to help solidify your understanding:\n",
    "\n",
    "1. Modifying Specific Elements:\n",
    "\n",
    "Create an array with values from 1 to 10. Change the value of the fifth element to 50.\n",
    "\n",
    "2. Slicing and Modifying a Range:\n",
    "\n",
    "Given an array of 10 elements, modify the elements from index 3 to 7 to be their negative equivalent.\n",
    "\n",
    "3. Conditional Modification with Boolean Indexing:\n",
    "\n",
    "Create an array with 20 random integers between 1 and 100. Set all values greater than 50 to -1.\n",
    "\n",
    "4. Advanced Indexing Modification:\n",
    "\n",
    "Given a 2D array of shape (5, 5), modify the elements in the diagonal to be twice their original value.\n",
    "\n",
    "5. Understanding Slicing Impact:\n",
    "\n",
    "Create an array of 10 elements. Slice the array from index 2 to 5, and modify the first element of the slice. Observe the change in the original array."
   ]
  },
  {
   "cell_type": "code",
   "execution_count": 48,
   "id": "14dc8858",
   "metadata": {},
   "outputs": [
    {
     "name": "stdout",
     "output_type": "stream",
     "text": [
      "[ 1  2  3  4  5  6  7  8  9 10]\n",
      "[ 1  2  3  4 50  6  7  8  9 10]\n",
      "[  1   2   3  -4 -50  -6  -7   8   9  10]\n",
      "[45 40 98 98  5 70 84 50 25 65 27 78  5 66  4 72 42 46 20 13]\n",
      "[45 40 -1 -1  5 -1 -1 50 25 -1 27 -1  5 -1  4 -1 42 46 20 13]\n",
      "[[ 1  2  3  4  5]\n",
      " [ 6  7  8  9 10]\n",
      " [11 12 13 14 15]\n",
      " [16 17 18 19 20]\n",
      " [21 22 23 24 25]]\n",
      "[[ 2  2  3  4  5]\n",
      " [ 6 14  8  9 10]\n",
      " [11 12 26 14 15]\n",
      " [16 17 18 38 20]\n",
      " [21 22 23 24 50]]\n",
      "[  3  -4 -50]\n",
      "[ 26  -4 -50]\n",
      "[  1   2  26  -4 -50  -6  -7   8   9  10]\n"
     ]
    }
   ],
   "source": [
    "#Create an array with values from 1 to 10. Change the value of the fifth element to 50.\n",
    "array = np.arange(1, 11)\n",
    "print(array)\n",
    "array[4] = 50\n",
    "print(array)\n",
    "#Given an array of 10 elements, modify the elements from index 3 to 7 to be their negative equivalent.\n",
    "array[3:7] = -array[3:7]\n",
    "print(array)\n",
    "#Create an array with 20 random integers between 1 and 100. Set all values greater than 50 to -1.\n",
    "array2 = np.random.randint(1, 100, 20)\n",
    "print(array2)\n",
    "array2[array2 > 50] = -1\n",
    "print(array2)\n",
    "#Given a 2D array of shape (5, 5), modify the elements in the diagonal to be twice their original value.\n",
    "array_2D_2 = np.arange(1, 26).reshape(5,5)\n",
    "print(array_2D_2)\n",
    "np.fill_diagonal(array_2D_2, 2 * array_2D_2.diagonal())\n",
    "print(array_2D_2)\n",
    "#Create an array of 10 elements. Slice the array from index 2 to 5, and modify the first element of the slice. Observe the change in the original array.\n",
    "array_slice = array[2:5]\n",
    "print(array_slice)\n",
    "array_slice[0] = 26\n",
    "print(array_slice)\n",
    "print(array)"
   ]
  },
  {
   "cell_type": "markdown",
   "id": "1e74a0fb",
   "metadata": {},
   "source": [
    "1. Arithmetic Operations: Create two 1D arrays of 3 elements each and perform element-wise addition, subtraction, multiplication, and division.\n",
    "\n",
    "2. Aggregation Functions: For the arrays created above, find the sum, mean, minimum, and maximum of each array.\n",
    "\n",
    "3. Broadcasting with Scalar: Multiply one of the arrays by a scalar (e.g., 5) and observe the result."
   ]
  },
  {
   "cell_type": "code",
   "execution_count": 52,
   "id": "8c4a43f8",
   "metadata": {},
   "outputs": [
    {
     "name": "stdout",
     "output_type": "stream",
     "text": [
      "[ 5 25 37]\n",
      "[ 1 22 15]\n",
      "[ 6 47 52]\n",
      "[ 4  3 22]\n",
      "[  5 550 555]\n",
      "[5.         1.13636364 2.46666667]\n",
      "67 22.333333333333332 5 37\n",
      "38 12.666666666666666 1 22\n",
      "[ 25 125 185]\n"
     ]
    }
   ],
   "source": [
    "#1. Arithmetic Operations: Create two 1D arrays of 3 elements each and perform element-wise addition, subtraction, multiplication, and division.\n",
    "array_1D_ari_op_1 = np.random.randint(1, 50, 3)\n",
    "array_1D_ari_op_2 = np.random.randint(1, 50, 3)\n",
    "print(array_1D_ari_op_1)\n",
    "print(array_1D_ari_op_2)\n",
    "addition = array_1D_ari_op_1 + array_1D_ari_op_2\n",
    "print(addition)\n",
    "substraction = array_1D_ari_op_1 - array_1D_ari_op_2\n",
    "print(substraction)\n",
    "multplication = array_1D_ari_op_1 * array_1D_ari_op_2\n",
    "print(multplication)\n",
    "division = array_1D_ari_op_1 / array_1D_ari_op_2\n",
    "print(division)\n",
    "\n",
    "#2. Aggregation Functions: For the arrays created above, find the sum, mean, minimum, and maximum of each array.\n",
    "print(np.sum(array_1D_ari_op_1), np.mean(array_1D_ari_op_1), np.min(array_1D_ari_op_1), np.max(array_1D_ari_op_1))\n",
    "print(np.sum(array_1D_ari_op_2), np.mean(array_1D_ari_op_2), np.min(array_1D_ari_op_2), np.max(array_1D_ari_op_2))\n",
    "\n",
    "#3. Broadcasting with Scalar: Multiply one of the arrays by a scalar (e.g., 5) and observe the result.\n",
    "broadcast = array_1D_ari_op_1 * 5\n",
    "print(broadcast)"
   ]
  },
  {
   "cell_type": "markdown",
   "id": "db6889dd",
   "metadata": {},
   "source": [
    "1. Reshape Array: Create a 1D array with 12 elements and reshape it to a 4x3 matrix. Then reshape it to a 2x6 matrix.\n",
    "\n",
    "2. Transpose Matrix: Transpose the 2x6 matrix you created in the previous step.\n",
    "\n",
    "3. Combine Reshaping and Transposing: Create a 3x4 matrix, transpose it, and then reshape the transposed matrix to a 1D array."
   ]
  },
  {
   "cell_type": "code",
   "execution_count": 61,
   "id": "6ab36488",
   "metadata": {},
   "outputs": [
    {
     "name": "stdout",
     "output_type": "stream",
     "text": [
      "[ 0  1  2  3  4  5  6  7  8  9 10 11]\n",
      "[[ 0  1  2]\n",
      " [ 3  4  5]\n",
      " [ 6  7  8]\n",
      " [ 9 10 11]]\n",
      "[[ 0  3  6  9]\n",
      " [ 1  4  7 10]\n",
      " [ 2  5  8 11]]\n",
      "[[ 0  3  6  9  1  4  7 10  2  5  8 11]]\n",
      "[[ 0  3  6  9  1  4  7 10  2  5  8 11]]\n"
     ]
    }
   ],
   "source": [
    "array_2_reshape = np.arange(12)\n",
    "print(array_2_reshape)\n",
    "array_reshaped = array_2_reshape.reshape(4, 3)\n",
    "print(array_reshaped)\n",
    "\n",
    "transposed = array_reshaped.T\n",
    "print(transposed)\n",
    "\n",
    "new_1D = transposed.reshape(1, -1)\n",
    "new_1D_2 = transposed.reshape(1, 12)\n",
    "print(new_1D)\n",
    "print(new_1D_2)"
   ]
  }
 ],
 "metadata": {
  "kernelspec": {
   "display_name": "Python 3",
   "language": "python",
   "name": "python3"
  },
  "language_info": {
   "codemirror_mode": {
    "name": "ipython",
    "version": 3
   },
   "file_extension": ".py",
   "mimetype": "text/x-python",
   "name": "python",
   "nbconvert_exporter": "python",
   "pygments_lexer": "ipython3",
   "version": "3.13.2"
  }
 },
 "nbformat": 4,
 "nbformat_minor": 5
}
