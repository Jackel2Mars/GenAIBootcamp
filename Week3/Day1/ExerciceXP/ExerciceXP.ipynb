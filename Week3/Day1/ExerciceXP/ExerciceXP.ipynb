{
 "cells": [
  {
   "cell_type": "markdown",
   "id": "17e00792",
   "metadata": {},
   "source": [
    "Exercise 1 : Array Creation And Manipulation\n",
    "\n",
    "Instructions\n",
    "\n",
    "Create a 1D NumPy array containing numbers from 0 to 9.\n",
    "\n",
    "Expected Output:\n",
    "array([0, 1, 2, 3, 4, 5, 6, 7, 8, 9])"
   ]
  },
  {
   "cell_type": "code",
   "execution_count": 7,
   "id": "644a0c84",
   "metadata": {},
   "outputs": [
    {
     "data": {
      "text/plain": [
       "array([0, 1, 2, 3, 4, 5, 6, 7, 8, 9])"
      ]
     },
     "execution_count": 7,
     "metadata": {},
     "output_type": "execute_result"
    }
   ],
   "source": [
    "import numpy as np\n",
    "\n",
    "array_1D = np.arange(0, 10)\n",
    "array_1D"
   ]
  },
  {
   "cell_type": "markdown",
   "id": "08560f76",
   "metadata": {},
   "source": [
    "Exercise 2 : Type Conversion And Array Operations\n",
    "\n",
    "Instructions\n",
    "\n",
    "Convert a list [3.14, 2.17, 0, 1, 2] into a NumPy array and convert its data type to integer.\n",
    "\n",
    "Expected Output:\n",
    "\n",
    "\n",
    "\n",
    "array([3, 2, 0, 1, 2])"
   ]
  },
  {
   "cell_type": "code",
   "execution_count": 3,
   "id": "37da2d11",
   "metadata": {},
   "outputs": [
    {
     "data": {
      "text/plain": [
       "array([3, 2, 0, 1, 2])"
      ]
     },
     "execution_count": 3,
     "metadata": {},
     "output_type": "execute_result"
    }
   ],
   "source": [
    "list_to_convert = [3.14, 2.17, 0, 1, 2]\n",
    "list_2_array = np.array(list_to_convert, dtype='int')\n",
    "list_2_array"
   ]
  },
  {
   "cell_type": "markdown",
   "id": "1e6efcb9",
   "metadata": {},
   "source": [
    "Exercise 3 : Working With Multi-Dimensional Arrays\n",
    "\n",
    "Instructions\n",
    "\n",
    "Create a 3x3 NumPy array with values ranging from 1 to 9.\n",
    "\n",
    "Expected Output:\n",
    "\n",
    "\n",
    "\n",
    "array([[1, 2, 3],\n",
    "       [4, 5, 6],\n",
    "       [7, 8, 9]])"
   ]
  },
  {
   "cell_type": "code",
   "execution_count": 4,
   "id": "134fe14f",
   "metadata": {},
   "outputs": [
    {
     "data": {
      "text/plain": [
       "array([[1, 2, 3],\n",
       "       [4, 5, 6],\n",
       "       [7, 8, 9]])"
      ]
     },
     "execution_count": 4,
     "metadata": {},
     "output_type": "execute_result"
    }
   ],
   "source": [
    "array_3x3 = np.arange(start= 1, stop= 10).reshape(3, 3)\n",
    "array_3x3"
   ]
  },
  {
   "cell_type": "markdown",
   "id": "c37e20f2",
   "metadata": {},
   "source": [
    "Exercise 4 : Creating Multi-Dimensional Array With Random Numbers\n",
    "\n",
    "Instructions\n",
    "\n",
    "Create a 2D NumPy array of shape (4, 5) filled with random numbers.\n",
    "\n",
    "Expected Output:\n",
    "\n",
    "\n",
    "\n",
    "array([[0.56, 0.85, 0.01, 0.42, 0.68],\n",
    "       [0.22, 0.37, 0.73, 0.93, 0.39],\n",
    "       [0.44, 0.03, 0.87, 0.02, 0.83],\n",
    "       [0.78, 0.87, 0.98, 0.80, 0.46]])"
   ]
  },
  {
   "cell_type": "code",
   "execution_count": 16,
   "id": "16f743be",
   "metadata": {},
   "outputs": [
    {
     "data": {
      "text/plain": [
       "array([[0.87, 0.54, 0.51, 0.54, 0.26],\n",
       "       [0.29, 0.86, 0.79, 0.36, 0.88],\n",
       "       [0.43, 0.15, 0.66, 0.12, 0.23],\n",
       "       [0.98, 0.39, 0.19, 0.63, 0.62]])"
      ]
     },
     "execution_count": 16,
     "metadata": {},
     "output_type": "execute_result"
    }
   ],
   "source": [
    "array_4x5_random = np.around(np.random.rand(4, 5), 2)\n",
    "array_4x5_random"
   ]
  },
  {
   "cell_type": "markdown",
   "id": "f99694c9",
   "metadata": {},
   "source": [
    "Exercise 5 : Indexing Arrays\n",
    "\n",
    "Instructions\n",
    "\n",
    "Select the second row from a given 2D NumPy array.\n",
    "\n",
    "Expected Output:\n",
    "\n",
    "\n",
    "\n",
    "array = np.array([[21,22,23,22,22],[20, 21, 22, 23, 24],[21,22,23,22,22]])"
   ]
  },
  {
   "cell_type": "code",
   "execution_count": 8,
   "id": "ff9f7dd9",
   "metadata": {},
   "outputs": [
    {
     "data": {
      "text/plain": [
       "array([20, 21, 22, 23, 24])"
      ]
     },
     "execution_count": 8,
     "metadata": {},
     "output_type": "execute_result"
    }
   ],
   "source": [
    "array = np.array([[21,22,23,22,22],[20, 21, 22, 23, 24],[21,22,23,22,22]])\n",
    "array[1,:]\n"
   ]
  },
  {
   "cell_type": "markdown",
   "id": "8d0d7c8c",
   "metadata": {},
   "source": [
    "Exercise 6 : Reversing Elements\n",
    "\n",
    "Instructions\n",
    "\n",
    "Reverse the order of elements in a given 1D NumPy array (first element becomes last).\n",
    "\n",
    "Expected Output:\n",
    "\n",
    "\n",
    "\n",
    "array([9, 8, 7, 6, 5, 4, 3, 2, 1, 0])"
   ]
  },
  {
   "cell_type": "code",
   "execution_count": 12,
   "id": "5145c0f9",
   "metadata": {},
   "outputs": [
    {
     "data": {
      "text/plain": [
       "array([9, 8, 7, 6, 5, 4, 3, 2, 1, 0])"
      ]
     },
     "execution_count": 12,
     "metadata": {},
     "output_type": "execute_result"
    }
   ],
   "source": [
    "array_1D[::-1]"
   ]
  },
  {
   "cell_type": "markdown",
   "id": "0890c43f",
   "metadata": {},
   "source": [
    "Exercise 7 : Identity Matrix\n",
    "\n",
    "Instructions\n",
    "\n",
    "Create a 4x4 identity matrix using NumPy.\n",
    "\n",
    "Expected Output:\n",
    "\n",
    "\n",
    "\n",
    "array([[1., 0., 0., 0.],\n",
    "       [0., 1., 0., 0.],\n",
    "       [0., 0., 1., 0.],\n",
    "       [0., 0., 0., 1.]])"
   ]
  },
  {
   "cell_type": "code",
   "execution_count": 14,
   "id": "41758015",
   "metadata": {},
   "outputs": [
    {
     "data": {
      "text/plain": [
       "array([[1., 0., 0., 0.],\n",
       "       [0., 1., 0., 0.],\n",
       "       [0., 0., 1., 0.],\n",
       "       [0., 0., 0., 1.]])"
      ]
     },
     "execution_count": 14,
     "metadata": {},
     "output_type": "execute_result"
    }
   ],
   "source": [
    "identity_4x4 = np.around(np.identity(4, dtype='float'), 1)\n",
    "identity_4x4"
   ]
  },
  {
   "cell_type": "markdown",
   "id": "8fc41785",
   "metadata": {},
   "source": [
    "Exercise 8 : Simple Aggregate Funcs\n",
    "\n",
    "Instructions\n",
    "\n",
    "Find the sum and average of a given 1D array.\n",
    "\n",
    "Expected Output:\n",
    "\n",
    "\n",
    "\n",
    "Sum: 45, Average: 4.5"
   ]
  },
  {
   "cell_type": "code",
   "execution_count": 15,
   "id": "39188949",
   "metadata": {},
   "outputs": [
    {
     "name": "stdout",
     "output_type": "stream",
     "text": [
      "Sum: 45, Average:4.5\n"
     ]
    }
   ],
   "source": [
    "print(f\"Sum: {array_1D.sum()}, Average:{array_1D.mean()}\")"
   ]
  },
  {
   "cell_type": "markdown",
   "id": "c771ef0f",
   "metadata": {},
   "source": [
    "Exercise 9 : Create Array And Change Its Structure\n",
    "\n",
    "Instructions\n",
    "\n",
    "Create a NumPy array with elements from 1 to 20; then reshape it into a 4x5 matrix.\n",
    "\n",
    "Expected Output:\n",
    "\n",
    "\n",
    "\n",
    "array([[ 1,  2,  3,  4,  5],\n",
    "       [ 6,  7,  8,  9, 10],\n",
    "       [11, 12, 13, 14, 15],\n",
    "       [16, 17, 18, 19, 20]])"
   ]
  },
  {
   "cell_type": "code",
   "execution_count": 17,
   "id": "3adf4003",
   "metadata": {},
   "outputs": [
    {
     "data": {
      "text/plain": [
       "array([[ 1,  2,  3,  4,  5],\n",
       "       [ 6,  7,  8,  9, 10],\n",
       "       [11, 12, 13, 14, 15],\n",
       "       [16, 17, 18, 19, 20]])"
      ]
     },
     "execution_count": 17,
     "metadata": {},
     "output_type": "execute_result"
    }
   ],
   "source": [
    "array_4x5 = np.arange(1, 21).reshape(4, 5)\n",
    "array_4x5"
   ]
  },
  {
   "cell_type": "markdown",
   "id": "26981206",
   "metadata": {},
   "source": [
    "Exercise 10 : Conditional Selection Of Values\n",
    "\n",
    "Instructions\n",
    "\n",
    "Extract all odd numbers from a given NumPy array.\n",
    "\n",
    "Expected Output:\n",
    "\n",
    "\n",
    "\n",
    "array([1, 3, 5, 7, 9])"
   ]
  },
  {
   "cell_type": "code",
   "execution_count": 19,
   "id": "346d389e",
   "metadata": {},
   "outputs": [
    {
     "data": {
      "text/plain": [
       "array([1, 3, 5, 7, 9])"
      ]
     },
     "execution_count": 19,
     "metadata": {},
     "output_type": "execute_result"
    }
   ],
   "source": [
    "array_1D[array_1D%2 != 0]"
   ]
  }
 ],
 "metadata": {
  "kernelspec": {
   "display_name": "Python 3",
   "language": "python",
   "name": "python3"
  },
  "language_info": {
   "codemirror_mode": {
    "name": "ipython",
    "version": 3
   },
   "file_extension": ".py",
   "mimetype": "text/x-python",
   "name": "python",
   "nbconvert_exporter": "python",
   "pygments_lexer": "ipython3",
   "version": "3.13.2"
  }
 },
 "nbformat": 4,
 "nbformat_minor": 5
}
