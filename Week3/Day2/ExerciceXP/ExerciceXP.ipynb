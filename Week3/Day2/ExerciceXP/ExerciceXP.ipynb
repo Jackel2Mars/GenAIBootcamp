{
 "cells": [
  {
   "cell_type": "markdown",
   "id": "946d229f",
   "metadata": {},
   "source": [
    "Exercise 1 : Matrix Operations\n",
    "\n",
    "Instructions\n",
    "\n",
    "In this exercise, you’ll work with a 3x3 matrix. Here’s a brief explanation of the concepts:\n",
    "\n",
    "Determinant: The determinant is a value that can be computed from the elements of a square matrix. It provides important information about the matrix, such as whether it has an inverse, and is used in various areas like linear algebra and calculus. To understand more about it you can watch this video.\n",
    "Inverse of a Matrix: The inverse of a matrix is a matrix that, when multiplied with the original matrix, results in an identity matrix. Not all matrices have inverses. The inverse is crucial in solving systems of linear equations.\n",
    "Create a 3x3 matrix and perform the following operations:\n",
    "\n",
    "Calculate the determinant.\n",
    "Find the inverse of the matrix."
   ]
  },
  {
   "cell_type": "code",
   "execution_count": 5,
   "id": "6f5e17dd",
   "metadata": {},
   "outputs": [
    {
     "name": "stdout",
     "output_type": "stream",
     "text": [
      "[[80 75 43]\n",
      " [19 21 86]\n",
      " [12 10 93]]\n",
      "29649.000000000036\n",
      "[[ 0.03686465 -0.22074944  0.18708894]\n",
      " [-0.02479004  0.23353233 -0.20449256]\n",
      " [-0.00209113  0.0033728   0.00860063]]\n"
     ]
    }
   ],
   "source": [
    "import numpy as np\n",
    "\n",
    "matrix_3x3 = np.random.randint(1, 100, 9).reshape(3, 3)\n",
    "print(matrix_3x3)\n",
    "determinant = np.linalg.det(matrix_3x3)\n",
    "print(determinant)\n",
    "inverse = np.linalg.inv(matrix_3x3)\n",
    "print(inverse)"
   ]
  },
  {
   "cell_type": "markdown",
   "id": "788cb9c7",
   "metadata": {},
   "source": [
    "Exercise 2 : Statistical Analysis\n",
    "\n",
    "Instructions\n",
    "\n",
    "In this exercise, you’ll calculate statistical measures for a dataset:\n",
    "\n",
    "Mean: The average value of a dataset.\n",
    "Median: The middle value in a dataset when it is arranged in ascending or descending order.\n",
    "Standard Deviation: A measure of the amount of variation or dispersion in a set of values.\n",
    "Using NumPy, generate an array of 50 random numbers and compute:\n",
    "\n",
    "The mean and median.\n",
    "The standard deviation."
   ]
  },
  {
   "cell_type": "code",
   "execution_count": 6,
   "id": "6aaecfa2",
   "metadata": {},
   "outputs": [
    {
     "name": "stdout",
     "output_type": "stream",
     "text": [
      "[ 6.31525668 29.67579912 40.35512834 27.81058325 36.13046168 44.18428786\n",
      "  2.53815982 42.16784852 18.56280926 40.91910107 78.3877578  27.95887855\n",
      " 99.73666275 39.32379712 62.81053119 35.75438219 61.5040061  45.20279588\n",
      " 13.37098473 74.38857787 95.74249004 52.99335557 20.60545868  7.2626172\n",
      " 56.74208856 47.45100045 19.63677368 88.54206802 82.76842352 90.84568603\n",
      " 94.6521373  43.70634437 29.52233868 95.3287963  11.7927235  66.95115497\n",
      "  8.32631282 56.33788243 38.55264035  5.50438579 94.63695264 99.44218967\n",
      " 73.90790355 66.36216199 52.52579656 87.89459134  8.43016716 62.14625181\n",
      " 47.46478808 31.20237826]\n",
      "49.287513381538\n",
      "44.69354187019695\n",
      "28.95527786207522\n"
     ]
    }
   ],
   "source": [
    "array_50 = np.random.uniform(1, 100, 50)\n",
    "print(array_50)\n",
    "average = np.mean(array_50)\n",
    "print(average)\n",
    "mediane = np.median(array_50)\n",
    "print(mediane)\n",
    "strd_dev = np.std(array_50)\n",
    "print(strd_dev)"
   ]
  },
  {
   "cell_type": "markdown",
   "id": "6bb8bf53",
   "metadata": {},
   "source": [
    "Exercise 3 : Date Manipulation\n",
    "\n",
    "Instructions\n",
    "\n",
    "Create a NumPy array of dates for the month of January 2023. Convert these dates to another format (e.g., YYYY/MM/DD)."
   ]
  },
  {
   "cell_type": "code",
   "execution_count": null,
   "id": "2e1405ce",
   "metadata": {},
   "outputs": [
    {
     "name": "stdout",
     "output_type": "stream",
     "text": [
      "['2023-01-01' '2023-01-02' '2023-01-03' '2023-01-04' '2023-01-05'\n",
      " '2023-01-06' '2023-01-07' '2023-01-08' '2023-01-09' '2023-01-10'\n",
      " '2023-01-11' '2023-01-12' '2023-01-13' '2023-01-14' '2023-01-15'\n",
      " '2023-01-16' '2023-01-17' '2023-01-18' '2023-01-19' '2023-01-20'\n",
      " '2023-01-21' '2023-01-22' '2023-01-23' '2023-01-24' '2023-01-25'\n",
      " '2023-01-26' '2023-01-27' '2023-01-28' '2023-01-29' '2023-01-30'\n",
      " '2023-01-31']\n",
      "['2023/01/01' '2023/01/02' '2023/01/03' '2023/01/04' '2023/01/05'\n",
      " '2023/01/06' '2023/01/07' '2023/01/08' '2023/01/09' '2023/01/10'\n",
      " '2023/01/11' '2023/01/12' '2023/01/13' '2023/01/14' '2023/01/15'\n",
      " '2023/01/16' '2023/01/17' '2023/01/18' '2023/01/19' '2023/01/20'\n",
      " '2023/01/21' '2023/01/22' '2023/01/23' '2023/01/24' '2023/01/25'\n",
      " '2023/01/26' '2023/01/27' '2023/01/28' '2023/01/29' '2023/01/30'\n",
      " '2023/01/31']\n",
      "<U10\n"
     ]
    }
   ],
   "source": [
    "dates = np.arange('2023-01', '2023-02', dtype='datetime64[D]')\n",
    "print(dates)\n",
    "formatted_dates = np.array([str(date).replace('-', '/') for date in dates])\n",
    "print(formatted_dates)"
   ]
  },
  {
   "cell_type": "markdown",
   "id": "9534406b",
   "metadata": {},
   "source": [
    "Exercise 4 : Data Manipulation With NumPy And Pandas\n",
    "\n",
    "Instructions\n",
    "\n",
    "Create a DataFrame with random numbers and perform:\n",
    "\n",
    "Conditional selection of data.\n",
    "Aggregation functions like sum and average."
   ]
  },
  {
   "cell_type": "code",
   "execution_count": 14,
   "id": "d5e358fd",
   "metadata": {},
   "outputs": [
    {
     "name": "stdout",
     "output_type": "stream",
     "text": [
      "[67 49 72 84  3 14 48 24  5 15]\n",
      "[67 72 84]\n",
      "381\n",
      "38.1\n"
     ]
    }
   ],
   "source": [
    "random_numbers = np.random.randint(1, 100, 10)\n",
    "print(random_numbers)\n",
    "print(np.extract(random_numbers > 50, random_numbers))\n",
    "print(np.sum(random_numbers))\n",
    "print(np.mean(random_numbers))"
   ]
  },
  {
   "cell_type": "markdown",
   "id": "31629ad3",
   "metadata": {},
   "source": [
    "Exercise 5 : Image Representation\n",
    "\n",
    "Instructions\n",
    "\n",
    "Explain how images are represented in NumPy arrays and demonstrate with a simple example (e.g., creating a 5x5 grayscale image)."
   ]
  },
  {
   "cell_type": "code",
   "execution_count": 18,
   "id": "b11ed1c3",
   "metadata": {},
   "outputs": [
    {
     "data": {
      "image/png": "[encoded data removed]",
      "text/plain": [
       "<Figure size 640x480 with 1 Axes>"
      ]
     },
     "metadata": {},
     "output_type": "display_data"
    }
   ],
   "source": [
    "#A grayscale image will be represented as a matrix whose dimension are the actual number of pixels of the image.\n",
    "#As for the light intensity, it is encoded with a value between 0 (black) to 255 (black)\n",
    "image_matrix = np.random.randint(0, 255, 25).reshape(5, 5)\n",
    "\n",
    "from matplotlib import pyplot as plt\n",
    "plt.imshow(image_matrix, cmap='gray')\n",
    "plt.show()"
   ]
  },
  {
   "cell_type": "markdown",
   "id": "5fb3fcba",
   "metadata": {},
   "source": [
    "Exercise 6 : Basic Hypothesis Testing\n",
    "\n",
    "Instructions\n",
    "\n",
    "Create a sample dataset to test the effectiveness of a new training program on employee productivity:\n",
    "\n",
    "\n",
    "import numpy as np\n",
    "\n",
    "# Productivity scores of employees before the training program\n",
    "productivity_before = np.random.normal(loc=50, scale=10, size=30)\n",
    "\n",
    "# Productivity scores of the same employees after the training program\n",
    "productivity_after = productivity_before + np.random.normal(loc=5, scale=3, size=30)\n",
    "\n",
    "# Your task is to formulate a hypothesis regarding the training program's effectiveness \n",
    "# and test it using basic statistical functions in NumPy.\n",
    "\n",
    "\n",
    "Given a dataset, formulate a simple hypothesis and test it using basic statistical functions in NumPy."
   ]
  },
  {
   "cell_type": "code",
   "execution_count": 31,
   "id": "876a3b9d",
   "metadata": {},
   "outputs": [
    {
     "name": "stdout",
     "output_type": "stream",
     "text": [
      "Reject the null hypothesis\n"
     ]
    }
   ],
   "source": [
    "import numpy as np\n",
    "from scipy import stats\n",
    "\n",
    "# Productivity scores of employees before the training program\n",
    "productivity_before = np.random.normal(loc=50, scale=10, size=30)\n",
    "\n",
    "# Productivity scores of the same employees after the training program\n",
    "productivity_after = productivity_before + np.random.normal(loc=5, scale=3, size=30)\n",
    "\n",
    "#Null hypothesis: The average productivity after training is the same as before training\n",
    "# Performing a one-sample t-test\n",
    "t_statistic, p_value = stats.ttest_1samp(productivity_after, np.mean(productivity_before))\n",
    "\n",
    "# Interpreting the result\n",
    "alpha = 0.05  # Significance level\n",
    "if p_value < alpha:\n",
    "    print(\"Reject the null hypothesis\")\n",
    "else:\n",
    "    print(\"Fail to reject the null hypothesis\")\n",
    "\n"
   ]
  },
  {
   "cell_type": "markdown",
   "id": "db6d147a",
   "metadata": {},
   "source": [
    "Exercise 8 : Time Series Data Manipulation\n",
    "\n",
    "Instructions\n",
    "\n",
    "Generate time series data for the year 2023. Demonstrate slicing for the following intervals:\n",
    "\n",
    "January to March\n",
    "April to June\n",
    "July to September\n",
    "October to December\n",
    "Generate a time series data for a specific period and demonstrate how to slice this data for different intervals."
   ]
  },
  {
   "cell_type": "code",
   "execution_count": null,
   "id": "c0943f50",
   "metadata": {},
   "outputs": [
    {
     "data": {
      "text/plain": [
       "array(['2023-10-01', '2023-10-02', '2023-10-03', '2023-10-04',\n",
       "       '2023-10-05', '2023-10-06', '2023-10-07', '2023-10-08',\n",
       "       '2023-10-09', '2023-10-10', '2023-10-11', '2023-10-12',\n",
       "       '2023-10-13', '2023-10-14', '2023-10-15', '2023-10-16',\n",
       "       '2023-10-17', '2023-10-18', '2023-10-19', '2023-10-20',\n",
       "       '2023-10-21', '2023-10-22', '2023-10-23', '2023-10-24',\n",
       "       '2023-10-25', '2023-10-26', '2023-10-27', '2023-10-28',\n",
       "       '2023-10-29', '2023-10-30', '2023-10-31', '2023-11-01',\n",
       "       '2023-11-02', '2023-11-03', '2023-11-04', '2023-11-05',\n",
       "       '2023-11-06', '2023-11-07', '2023-11-08', '2023-11-09',\n",
       "       '2023-11-10', '2023-11-11', '2023-11-12', '2023-11-13',\n",
       "       '2023-11-14', '2023-11-15', '2023-11-16', '2023-11-17',\n",
       "       '2023-11-18', '2023-11-19', '2023-11-20', '2023-11-21',\n",
       "       '2023-11-22', '2023-11-23', '2023-11-24', '2023-11-25',\n",
       "       '2023-11-26', '2023-11-27', '2023-11-28', '2023-11-29',\n",
       "       '2023-11-30', '2023-12-01', '2023-12-02', '2023-12-03',\n",
       "       '2023-12-04', '2023-12-05', '2023-12-06', '2023-12-07',\n",
       "       '2023-12-08', '2023-12-09', '2023-12-10', '2023-12-11',\n",
       "       '2023-12-12', '2023-12-13', '2023-12-14', '2023-12-15',\n",
       "       '2023-12-16', '2023-12-17', '2023-12-18', '2023-12-19',\n",
       "       '2023-12-20', '2023-12-21', '2023-12-22', '2023-12-23',\n",
       "       '2023-12-24', '2023-12-25', '2023-12-26', '2023-12-27',\n",
       "       '2023-12-28', '2023-12-29', '2023-12-30', '2023-12-31'],\n",
       "      dtype='datetime64[D]')"
      ]
     },
     "execution_count": 42,
     "metadata": {},
     "output_type": "execute_result"
    }
   ],
   "source": [
    "dates_2023 = np.arange('2023', '2024', dtype='datetime64[D]')\n",
    "dates_2023[0:90:1]\n",
    "dates_2023[91:181:1]\n",
    "dates_2023[182:273:1]\n",
    "dates_2023[273:365:1]"
   ]
  },
  {
   "cell_type": "markdown",
   "id": "158b16ef",
   "metadata": {},
   "source": [
    "Exercise 9 : Data Conversion\n",
    "\n",
    "Instructions\n",
    "\n",
    "Demonstrate how to convert a NumPy array to a Pandas DataFrame and vice versa."
   ]
  },
  {
   "cell_type": "code",
   "execution_count": null,
   "id": "31fdb238",
   "metadata": {},
   "outputs": [
    {
     "name": "stdout",
     "output_type": "stream",
     "text": [
      "    A   B   C   D   E\n",
      "0   4  63  54  83  96\n",
      "1  66  33  61  10  75\n",
      "2  20  56  88  13  24\n",
      "3   6  53  46  65  60\n",
      "4  88  90  94  88  36\n",
      "[[ 4 63 54 83 96]\n",
      " [66 33 61 10 75]\n",
      " [20 56 88 13 24]\n",
      " [ 6 53 46 65 60]\n",
      " [88 90 94 88 36]]\n"
     ]
    }
   ],
   "source": [
    "import pandas as pd\n",
    "\n",
    "# Creating a DataFrame from an array\n",
    "data = pd.DataFrame(np.random.randint(1, 100, 25).reshape(5,5), columns=['A', 'B', 'C', 'D', 'E'])\n",
    "print(data)\n",
    "\n",
    "#Moving back from dataframe to array\n",
    "array = np.array(data)\n",
    "print(array)"
   ]
  },
  {
   "cell_type": "markdown",
   "id": "e1ea28da",
   "metadata": {},
   "source": [
    "Exercise 10 : Basic Visualization\n",
    "\n",
    "Instructions\n",
    "\n",
    "Use Matplotlib to visualize a simple dataset created with NumPy (e.g., a line graph of random numbers)."
   ]
  },
  {
   "cell_type": "code",
   "execution_count": 49,
   "id": "b11f3790",
   "metadata": {},
   "outputs": [
    {
     "data": {
      "image/png": "[encoded data removed]",
      "text/plain": [
       "<Figure size 640x480 with 1 Axes>"
      ]
     },
     "metadata": {},
     "output_type": "display_data"
    }
   ],
   "source": [
    "data_2_plot = np.random.randint(1, 100, 25)\n",
    "\n",
    "# Plot line chart: index (cities) as separate lines, columns (months) on x-axis\n",
    "plt.plot(data_2_plot)  # Transpose so months are x-axis and cities are lines\n",
    "plt.show()"
   ]
  }
 ],
 "metadata": {
  "kernelspec": {
   "display_name": "Python 3",
   "language": "python",
   "name": "python3"
  },
  "language_info": {
   "codemirror_mode": {
    "name": "ipython",
    "version": 3
   },
   "file_extension": ".py",
   "mimetype": "text/x-python",
   "name": "python",
   "nbconvert_exporter": "python",
   "pygments_lexer": "ipython3",
   "version": "3.13.2"
  }
 },
 "nbformat": 4,
 "nbformat_minor": 5
}
