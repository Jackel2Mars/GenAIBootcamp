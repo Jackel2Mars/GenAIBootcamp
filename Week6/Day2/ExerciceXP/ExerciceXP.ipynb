{
  "nbformat": 4,
  "nbformat_minor": 0,
  "metadata": {
    "colab": {
      "provenance": []
    },
    "kernelspec": {
      "name": "python3",
      "display_name": "Python 3"
    },
    "language_info": {
      "name": "python"
    },
    "widgets": {
      "application/vnd.jupyter.widget-state+json": {
        "3463360229814ffd9e59bd26b4b6111a": {
          "model_module": "@jupyter-widgets/controls",
          "model_name": "HBoxModel",
          "model_module_version": "1.5.0",
          "state": {
            "_dom_classes": [],
            "_model_module": "@jupyter-widgets/controls",
            "_model_module_version": "1.5.0",
            "_model_name": "HBoxModel",
            "_view_count": null,
            "_view_module": "@jupyter-widgets/controls",
            "_view_module_version": "1.5.0",
            "_view_name": "HBoxView",
            "box_style": "",
            "children": [
              "IPY_MODEL_460b6c64fa7b404aafcdf31ebb49c48d",
              "IPY_MODEL_b765f7da328a4dbcb7fcc47b6c1e6082",
              "IPY_MODEL_a23f94c3b71f4ba5a7a5fa6ece971fb7"
            ],
            "layout": "IPY_MODEL_dac1a1e7eb17401e8ddc952f933baa9e"
          }
        },
        "460b6c64fa7b404aafcdf31ebb49c48d": {
          "model_module": "@jupyter-widgets/controls",
          "model_name": "HTMLModel",
          "model_module_version": "1.5.0",
          "state": {
            "_dom_classes": [],
            "_model_module": "@jupyter-widgets/controls",
            "_model_module_version": "1.5.0",
            "_model_name": "HTMLModel",
            "_view_count": null,
            "_view_module": "@jupyter-widgets/controls",
            "_view_module_version": "1.5.0",
            "_view_name": "HTMLView",
            "description": "",
            "description_tooltip": null,
            "layout": "IPY_MODEL_a26974df76e541b185d42d1df1c88ed8",
            "placeholder": "​",
            "style": "IPY_MODEL_3cb728078734413991c1edf83b7e0eb5",
            "value": "generation_config.json: 100%"
          }
        },
        "b765f7da328a4dbcb7fcc47b6c1e6082": {
          "model_module": "@jupyter-widgets/controls",
          "model_name": "FloatProgressModel",
          "model_module_version": "1.5.0",
          "state": {
            "_dom_classes": [],
            "_model_module": "@jupyter-widgets/controls",
            "_model_module_version": "1.5.0",
            "_model_name": "FloatProgressModel",
            "_view_count": null,
            "_view_module": "@jupyter-widgets/controls",
            "_view_module_version": "1.5.0",
            "_view_name": "ProgressView",
            "bar_style": "success",
            "description": "",
            "description_tooltip": null,
            "layout": "IPY_MODEL_ef808377d4d14d9ebccd5be52d2fea07",
            "max": 124,
            "min": 0,
            "orientation": "horizontal",
            "style": "IPY_MODEL_6953367a84564bf4be8277009497b1ee",
            "value": 124
          }
        },
        "a23f94c3b71f4ba5a7a5fa6ece971fb7": {
          "model_module": "@jupyter-widgets/controls",
          "model_name": "HTMLModel",
          "model_module_version": "1.5.0",
          "state": {
            "_dom_classes": [],
            "_model_module": "@jupyter-widgets/controls",
            "_model_module_version": "1.5.0",
            "_model_name": "HTMLModel",
            "_view_count": null,
            "_view_module": "@jupyter-widgets/controls",
            "_view_module_version": "1.5.0",
            "_view_name": "HTMLView",
            "description": "",
            "description_tooltip": null,
            "layout": "IPY_MODEL_69609aa589e94ea4b0ac5e637f71eb32",
            "placeholder": "​",
            "style": "IPY_MODEL_0f6816b2294042819013bf55d5f158d1",
            "value": " 124/124 [00:00&lt;00:00, 9.81kB/s]"
          }
        },
        "dac1a1e7eb17401e8ddc952f933baa9e": {
          "model_module": "@jupyter-widgets/base",
          "model_name": "LayoutModel",
          "model_module_version": "1.2.0",
          "state": {
            "_model_module": "@jupyter-widgets/base",
            "_model_module_version": "1.2.0",
            "_model_name": "LayoutModel",
            "_view_count": null,
            "_view_module": "@jupyter-widgets/base",
            "_view_module_version": "1.2.0",
            "_view_name": "LayoutView",
            "align_content": null,
            "align_items": null,
            "align_self": null,
            "border": null,
            "bottom": null,
            "display": null,
            "flex": null,
            "flex_flow": null,
            "grid_area": null,
            "grid_auto_columns": null,
            "grid_auto_flow": null,
            "grid_auto_rows": null,
            "grid_column": null,
            "grid_gap": null,
            "grid_row": null,
            "grid_template_areas": null,
            "grid_template_columns": null,
            "grid_template_rows": null,
            "height": null,
            "justify_content": null,
            "justify_items": null,
            "left": null,
            "margin": null,
            "max_height": null,
            "max_width": null,
            "min_height": null,
            "min_width": null,
            "object_fit": null,
            "object_position": null,
            "order": null,
            "overflow": null,
            "overflow_x": null,
            "overflow_y": null,
            "padding": null,
            "right": null,
            "top": null,
            "visibility": null,
            "width": null
          }
        },
        "a26974df76e541b185d42d1df1c88ed8": {
          "model_module": "@jupyter-widgets/base",
          "model_name": "LayoutModel",
          "model_module_version": "1.2.0",
          "state": {
            "_model_module": "@jupyter-widgets/base",
            "_model_module_version": "1.2.0",
            "_model_name": "LayoutModel",
            "_view_count": null,
            "_view_module": "@jupyter-widgets/base",
            "_view_module_version": "1.2.0",
            "_view_name": "LayoutView",
            "align_content": null,
            "align_items": null,
            "align_self": null,
            "border": null,
            "bottom": null,
            "display": null,
            "flex": null,
            "flex_flow": null,
            "grid_area": null,
            "grid_auto_columns": null,
            "grid_auto_flow": null,
            "grid_auto_rows": null,
            "grid_column": null,
            "grid_gap": null,
            "grid_row": null,
            "grid_template_areas": null,
            "grid_template_columns": null,
            "grid_template_rows": null,
            "height": null,
            "justify_content": null,
            "justify_items": null,
            "left": null,
            "margin": null,
            "max_height": null,
            "max_width": null,
            "min_height": null,
            "min_width": null,
            "object_fit": null,
            "object_position": null,
            "order": null,
            "overflow": null,
            "overflow_x": null,
            "overflow_y": null,
            "padding": null,
            "right": null,
            "top": null,
            "visibility": null,
            "width": null
          }
        },
        "3cb728078734413991c1edf83b7e0eb5": {
          "model_module": "@jupyter-widgets/controls",
          "model_name": "DescriptionStyleModel",
          "model_module_version": "1.5.0",
          "state": {
            "_model_module": "@jupyter-widgets/controls",
            "_model_module_version": "1.5.0",
            "_model_name": "DescriptionStyleModel",
            "_view_count": null,
            "_view_module": "@jupyter-widgets/base",
            "_view_module_version": "1.2.0",
            "_view_name": "StyleView",
            "description_width": ""
          }
        },
        "ef808377d4d14d9ebccd5be52d2fea07": {
          "model_module": "@jupyter-widgets/base",
          "model_name": "LayoutModel",
          "model_module_version": "1.2.0",
          "state": {
            "_model_module": "@jupyter-widgets/base",
            "_model_module_version": "1.2.0",
            "_model_name": "LayoutModel",
            "_view_count": null,
            "_view_module": "@jupyter-widgets/base",
            "_view_module_version": "1.2.0",
            "_view_name": "LayoutView",
            "align_content": null,
            "align_items": null,
            "align_self": null,
            "border": null,
            "bottom": null,
            "display": null,
            "flex": null,
            "flex_flow": null,
            "grid_area": null,
            "grid_auto_columns": null,
            "grid_auto_flow": null,
            "grid_auto_rows": null,
            "grid_column": null,
            "grid_gap": null,
            "grid_row": null,
            "grid_template_areas": null,
            "grid_template_columns": null,
            "grid_template_rows": null,
            "height": null,
            "justify_content": null,
            "justify_items": null,
            "left": null,
            "margin": null,
            "max_height": null,
            "max_width": null,
            "min_height": null,
            "min_width": null,
            "object_fit": null,
            "object_position": null,
            "order": null,
            "overflow": null,
            "overflow_x": null,
            "overflow_y": null,
            "padding": null,
            "right": null,
            "top": null,
            "visibility": null,
            "width": null
          }
        },
        "6953367a84564bf4be8277009497b1ee": {
          "model_module": "@jupyter-widgets/controls",
          "model_name": "ProgressStyleModel",
          "model_module_version": "1.5.0",
          "state": {
            "_model_module": "@jupyter-widgets/controls",
            "_model_module_version": "1.5.0",
            "_model_name": "ProgressStyleModel",
            "_view_count": null,
            "_view_module": "@jupyter-widgets/base",
            "_view_module_version": "1.2.0",
            "_view_name": "StyleView",
            "bar_color": null,
            "description_width": ""
          }
        },
        "69609aa589e94ea4b0ac5e637f71eb32": {
          "model_module": "@jupyter-widgets/base",
          "model_name": "LayoutModel",
          "model_module_version": "1.2.0",
          "state": {
            "_model_module": "@jupyter-widgets/base",
            "_model_module_version": "1.2.0",
            "_model_name": "LayoutModel",
            "_view_count": null,
            "_view_module": "@jupyter-widgets/base",
            "_view_module_version": "1.2.0",
            "_view_name": "LayoutView",
            "align_content": null,
            "align_items": null,
            "align_self": null,
            "border": null,
            "bottom": null,
            "display": null,
            "flex": null,
            "flex_flow": null,
            "grid_area": null,
            "grid_auto_columns": null,
            "grid_auto_flow": null,
            "grid_auto_rows": null,
            "grid_column": null,
            "grid_gap": null,
            "grid_row": null,
            "grid_template_areas": null,
            "grid_template_columns": null,
            "grid_template_rows": null,
            "height": null,
            "justify_content": null,
            "justify_items": null,
            "left": null,
            "margin": null,
            "max_height": null,
            "max_width": null,
            "min_height": null,
            "min_width": null,
            "object_fit": null,
            "object_position": null,
            "order": null,
            "overflow": null,
            "overflow_x": null,
            "overflow_y": null,
            "padding": null,
            "right": null,
            "top": null,
            "visibility": null,
            "width": null
          }
        },
        "0f6816b2294042819013bf55d5f158d1": {
          "model_module": "@jupyter-widgets/controls",
          "model_name": "DescriptionStyleModel",
          "model_module_version": "1.5.0",
          "state": {
            "_model_module": "@jupyter-widgets/controls",
            "_model_module_version": "1.5.0",
            "_model_name": "DescriptionStyleModel",
            "_view_count": null,
            "_view_module": "@jupyter-widgets/base",
            "_view_module_version": "1.2.0",
            "_view_name": "StyleView",
            "description_width": ""
          }
        }
      }
    }
  },
  "cells": [
    {
      "cell_type": "markdown",
      "source": [
        "🌟 Exercise 1 : What Are Large Language Models (LLMs)?\n",
        "\n",
        "1. Explain with your words what are LLMs and what they are designed for."
      ],
      "metadata": {
        "id": "L1vqW2GmJlXU"
      }
    },
    {
      "cell_type": "markdown",
      "source": [
        "Large Language Models (LLMs) are powerful NLP models based on the Transformer architecture, which uses self-attention to understand and generate human language. Unlike earlier models designed for specific tasks, LLMs are trained on vast amounts of text to perform a wide range of language-related tasks—including translation, summarization, question answering, and conversation—often without needing task-specific tuning."
      ],
      "metadata": {
        "id": "kWW77IHBJnIg"
      }
    },
    {
      "cell_type": "markdown",
      "source": [
        "2. One popular LLMs is GPT (Generative Pretrained Transformer) which is known for powerful text generation capabilities. We will implement it. Copy/Paste this code to a colab notebook:"
      ],
      "metadata": {
        "id": "56mzg6qcJn9a"
      }
    },
    {
      "cell_type": "code",
      "execution_count": 2,
      "metadata": {
        "id": "ka9RsQlcJQow"
      },
      "outputs": [],
      "source": [
        "# Install necessary libraries\n",
        "!pip install transformers matplotlib --quiet\n",
        "\n",
        "# Import required libraries\n",
        "from transformers import AutoTokenizer, AutoModelForCausalLM, pipeline\n",
        "import torch\n",
        "import matplotlib.pyplot as plt\n",
        "import warnings\n",
        "warnings.filterwarnings(\"ignore\")"
      ]
    },
    {
      "cell_type": "markdown",
      "source": [
        "3. Now, we want to load a pretrained model and a tokeniner, fill in this partial code :\n"
      ],
      "metadata": {
        "id": "QrnejpMwP7j1"
      }
    },
    {
      "cell_type": "code",
      "source": [
        "# 2. Loading a pretrained model and tokenizer\n",
        "#from transformers import GPT2Model, GPT2Tokenizer\n",
        "\n",
        "model_name =  \"openai-community/gpt2\"# GPT-2 is used here for demonstration; can be replaced with models like \"bert-base-uncased\"\n",
        "tokenizer = AutoTokenizer.from_pretrained(model_name)\n",
        "model = AutoModelForCausalLM.from_pretrained(model_name)\n",
        "\n",
        "print(f\"\\nModel '{model_name}' loaded successfully!\")\n",
        "print(\"\"\"\n",
        "GPT-2 is a causal language model, meaning it predicts the next word in a sequence.\n",
        "It has been trained on a diverse dataset and can generate coherent, contextually relevant text.\n",
        "\"\"\")"
      ],
      "metadata": {
        "colab": {
          "base_uri": "https://localhost:8080/",
          "height": 151,
          "referenced_widgets": [
            "3463360229814ffd9e59bd26b4b6111a",
            "460b6c64fa7b404aafcdf31ebb49c48d",
            "b765f7da328a4dbcb7fcc47b6c1e6082",
            "a23f94c3b71f4ba5a7a5fa6ece971fb7",
            "dac1a1e7eb17401e8ddc952f933baa9e",
            "a26974df76e541b185d42d1df1c88ed8",
            "3cb728078734413991c1edf83b7e0eb5",
            "ef808377d4d14d9ebccd5be52d2fea07",
            "6953367a84564bf4be8277009497b1ee",
            "69609aa589e94ea4b0ac5e637f71eb32",
            "0f6816b2294042819013bf55d5f158d1"
          ]
        },
        "id": "r9oZY4tqP-dx",
        "outputId": "f73b43d0-d708-449f-fbd0-8bb984d8ef40"
      },
      "execution_count": 8,
      "outputs": [
        {
          "output_type": "display_data",
          "data": {
            "text/plain": [
              "generation_config.json:   0%|          | 0.00/124 [00:00<?, ?B/s]"
            ],
            "application/vnd.jupyter.widget-view+json": {
              "version_major": 2,
              "version_minor": 0,
              "model_id": "3463360229814ffd9e59bd26b4b6111a"
            }
          },
          "metadata": {}
        },
        {
          "output_type": "stream",
          "name": "stdout",
          "text": [
            "\n",
            "Model 'openai-community/gpt2' loaded successfully!\n",
            "\n",
            "GPT-2 is a causal language model, meaning it predicts the next word in a sequence. \n",
            "It has been trained on a diverse dataset and can generate coherent, contextually relevant text.\n",
            "\n"
          ]
        }
      ]
    },
    {
      "cell_type": "markdown",
      "source": [
        "🌟 Exercise 2 : Transformer Architecture And Tokenization\n",
        "\n",
        "Explain with your own words the process of tokenization. Create a new variable text that the sentence of your choice.\n",
        "Tokenize the input text\n",
        "Visualize the tokenisation process."
      ],
      "metadata": {
        "id": "aJGGCHsGSiiw"
      }
    },
    {
      "cell_type": "code",
      "source": [
        "# 2. Tokenize input text\n",
        "text = \"\"\"Tokenization is the process of transforming a raw text input into a sequence of discrete tokens, where each token is a unique, identifiable unit—often a word, subword, or character—that the language model can process.\n",
        "This involves encoding the text by quantifying its linguistic features within the context of the tokenizer’s vocabulary and segmentation strategy, enabling efficient and meaningful input representation for downstream tasks.\"\"\"\n",
        "tokens = tokenizer.tokenize(text)\n",
        "token_ids = tokenizer.convert_tokens_to_ids(tokens)\n",
        "\n",
        "print(f\"Original Text: {text}\")\n",
        "print(f\"Tokens: {tokens}\")\n",
        "print(f\"Token IDs: {token_ids}\")\n",
        "\n",
        "# 3. Visualizing the tokenization process\n",
        "plt.figure(figsize=(12, 6))\n",
        "plt.bar(range(len(tokens)), token_ids, color=\"skyblue\")\n",
        "plt.xticks(range(len(tokens)), tokens, rotation=90)\n",
        "plt.xlabel(\"Tokens\")\n",
        "plt.ylabel(\"Token IDs\")\n",
        "plt.title(\"Tokenization Visualization: Tokens and their IDs\")\n",
        "plt.show()"
      ],
      "metadata": {
        "colab": {
          "base_uri": "https://localhost:8080/",
          "height": 751
        },
        "id": "jA29yInVSluR",
        "outputId": "221e2e2a-f51d-446d-f183-1117f128dc40"
      },
      "execution_count": 9,
      "outputs": [
        {
          "output_type": "stream",
          "name": "stdout",
          "text": [
            "Original Text: Tokenization is the process of transforming a raw text input into a sequence of discrete tokens, where each token is a unique, identifiable unit—often a word, subword, or character—that the language model can process.\n",
            "This involves encoding the text by quantifying its linguistic features within the context of the tokenizer’s vocabulary and segmentation strategy, enabling efficient and meaningful input representation for downstream tasks.\n",
            "Tokens: ['Token', 'ization', 'Ġis', 'Ġthe', 'Ġprocess', 'Ġof', 'Ġtransforming', 'Ġa', 'Ġraw', 'Ġtext', 'Ġinput', 'Ġinto', 'Ġa', 'Ġsequence', 'Ġof', 'Ġdiscrete', 'Ġtokens', ',', 'Ġwhere', 'Ġeach', 'Ġtoken', 'Ġis', 'Ġa', 'Ġunique', ',', 'Ġidentifiable', 'Ġunit', 'âĢĶ', 'often', 'Ġa', 'Ġword', ',', 'Ġsub', 'word', ',', 'Ġor', 'Ġcharacter', 'âĢĶ', 'that', 'Ġthe', 'Ġlanguage', 'Ġmodel', 'Ġcan', 'Ġprocess', '.', 'Ċ', 'This', 'Ġinvolves', 'Ġencoding', 'Ġthe', 'Ġtext', 'Ġby', 'Ġquant', 'ifying', 'Ġits', 'Ġlinguistic', 'Ġfeatures', 'Ġwithin', 'Ġthe', 'Ġcontext', 'Ġof', 'Ġthe', 'Ġtoken', 'izer', 'âĢ', 'Ļ', 's', 'Ġvocabulary', 'Ġand', 'Ġsegment', 'ation', 'Ġstrategy', ',', 'Ġenabling', 'Ġefficient', 'Ġand', 'Ġmeaningful', 'Ġinput', 'Ġrepresentation', 'Ġfor', 'Ġdownstream', 'Ġtasks', '.']\n",
            "Token IDs: [30642, 1634, 318, 262, 1429, 286, 25449, 257, 8246, 2420, 5128, 656, 257, 8379, 286, 28810, 16326, 11, 810, 1123, 11241, 318, 257, 3748, 11, 34450, 4326, 960, 28950, 257, 1573, 11, 850, 4775, 11, 393, 2095, 960, 5562, 262, 3303, 2746, 460, 1429, 13, 198, 1212, 9018, 21004, 262, 2420, 416, 5554, 4035, 663, 29929, 3033, 1626, 262, 4732, 286, 262, 11241, 7509, 447, 247, 82, 25818, 290, 10618, 341, 4811, 11, 15882, 6942, 290, 11570, 5128, 10552, 329, 33218, 8861, 13]\n"
          ]
        },
        {
          "output_type": "display_data",
          "data": {
            "text/plain": [
              "<Figure size 1200x600 with 1 Axes>"
            ],
            "image/png": "[encoded data removed]"
          },
          "metadata": {}
        }
      ]
    },
    {
      "cell_type": "markdown",
      "source": [
        "Exercise 3 : Understanding Token IDs And Special Prefixes\n",
        "\n",
        "Print the ID of each tokens from text\n",
        "What does special prefixes like ‘Ġ’ indicate ?"
      ],
      "metadata": {
        "id": "wttqV24_VnSN"
      }
    },
    {
      "cell_type": "code",
      "source": [
        "print(token_ids)\n",
        "# ‘Ġ’ is for \"space\"."
      ],
      "metadata": {
        "colab": {
          "base_uri": "https://localhost:8080/"
        },
        "id": "-NN9a2D5Vo5Q",
        "outputId": "a111087d-1482-44d5-f2dd-d06eb59a692c"
      },
      "execution_count": 6,
      "outputs": [
        {
          "output_type": "stream",
          "name": "stdout",
          "text": [
            "[30642, 1634, 318, 262, 1429, 286, 25449, 257, 8246, 2420, 5128, 656, 257, 8379, 286, 28810, 16326, 11, 810, 1123, 11241, 318, 257, 3748, 11, 34450, 4326, 960, 28950, 257, 1573, 11, 850, 4775, 11, 393, 2095, 960, 5562, 262, 3303, 2746, 460, 1429, 13, 198, 1212, 9018, 21004, 262, 2420, 416, 5554, 4035, 663, 29929, 3033, 1626, 262, 4732, 286, 262, 11241, 7509, 447, 247, 82, 25818, 290, 10618, 341, 4811, 11, 15882, 6942, 290, 11570, 5128, 10552, 329, 33218, 8861, 13]\n"
          ]
        }
      ]
    },
    {
      "cell_type": "markdown",
      "source": [
        "🌟 Exercise 4 : Pretraining Vs. Fine-Tuning\n",
        "\n",
        "Explain with your own words the two phases of Pretraining and FineTuning in Transformers."
      ],
      "metadata": {
        "id": "0u2wGnQCWpAh"
      }
    },
    {
      "cell_type": "markdown",
      "source": [
        "Pretraining is where the model learns the fundamentals of language by being exposed to massive amounts of general-purpose text. It's not taught specific tasks — instead, it learns patterns, structure, grammar, semantics, and even some reasoning just by predicting or filling in text.\n",
        "\n",
        "Fine-tuning is where the pretrained model is adapted to a specific task (like summarization, sentiment analysis, or legal QA). Here, it's not learning \"language\" anymore — it's learning how to apply its language skills to get a desired type of output."
      ],
      "metadata": {
        "id": "r8Fhae4CXu1V"
      }
    },
    {
      "cell_type": "markdown",
      "source": [
        "🌟 Exercise 5 : Generate Simple Text\n",
        "\n",
        "Create a variable text with the sentence of your choice (another one)\n",
        "The model generates text by predicting the next word sequentially, based on the given input text (prompt). Generate output using the model."
      ],
      "metadata": {
        "id": "oa8dh7pFYuDA"
      }
    },
    {
      "cell_type": "code",
      "source": [
        "input_text= \"I feel unsure of what is expected of this part. It ain't like I actually requested a task!\"\n",
        "input_ids= tokenizer.encode(input_text, return_tensors=\"pt\")\n",
        "output_ids = model.generate(input_ids, max_length=50, num_return_sequences=1)\n",
        "output_text = tokenizer.decode(output_ids[0], skip_special_tokens=True)\n",
        "\n",
        "print(f\"Input: {input_text}\")\n",
        "print(f\"Generated Output: {output_text}\")"
      ],
      "metadata": {
        "colab": {
          "base_uri": "https://localhost:8080/"
        },
        "id": "zRCcblCdYyZF",
        "outputId": "4daf79bf-a028-4df5-8145-74000e02a744"
      },
      "execution_count": 10,
      "outputs": [
        {
          "output_type": "stream",
          "name": "stderr",
          "text": [
            "The attention mask and the pad token id were not set. As a consequence, you may observe unexpected behavior. Please pass your input's `attention_mask` to obtain reliable results.\n",
            "Setting `pad_token_id` to `eos_token_id`:50256 for open-end generation.\n",
            "The attention mask is not set and cannot be inferred from input because pad token is same as eos token. As a consequence, you may observe unexpected behavior. Please pass your input's `attention_mask` to obtain reliable results.\n"
          ]
        },
        {
          "output_type": "stream",
          "name": "stdout",
          "text": [
            "Input: I feel unsure of what is expected of this part. It ain't like I actually requested a task!\n",
            "Generated Output: I feel unsure of what is expected of this part. It ain't like I actually requested a task! I'm just trying to figure out what I'm supposed to do. I'm not sure if I'm supposed to do anything, but I'm\n"
          ]
        }
      ]
    }
  ]
}