{
  "nbformat": 4,
  "nbformat_minor": 0,
  "metadata": {
    "colab": {
      "provenance": []
    },
    "kernelspec": {
      "name": "python3",
      "display_name": "Python 3"
    },
    "language_info": {
      "name": "python"
    },
    "widgets": {
      "application/vnd.jupyter.widget-state+json": {
        "bc60159dc68e40139d2c779830659dd3": {
          "model_module": "@jupyter-widgets/controls",
          "model_name": "HBoxModel",
          "model_module_version": "1.5.0",
          "state": {
            "_dom_classes": [],
            "_model_module": "@jupyter-widgets/controls",
            "_model_module_version": "1.5.0",
            "_model_name": "HBoxModel",
            "_view_count": null,
            "_view_module": "@jupyter-widgets/controls",
            "_view_module_version": "1.5.0",
            "_view_name": "HBoxView",
            "box_style": "",
            "children": [
              "IPY_MODEL_bdc357a8415a4e03a65f5f2085840585",
              "IPY_MODEL_853b7555aba1418a935efa8f90c5082d",
              "IPY_MODEL_95e4015fb8b545ff9f349e89d6a6cda0"
            ],
            "layout": "IPY_MODEL_16b7c150358b4cb380e0b144493f0c01"
          }
        },
        "bdc357a8415a4e03a65f5f2085840585": {
          "model_module": "@jupyter-widgets/controls",
          "model_name": "HTMLModel",
          "model_module_version": "1.5.0",
          "state": {
            "_dom_classes": [],
            "_model_module": "@jupyter-widgets/controls",
            "_model_module_version": "1.5.0",
            "_model_name": "HTMLModel",
            "_view_count": null,
            "_view_module": "@jupyter-widgets/controls",
            "_view_module_version": "1.5.0",
            "_view_name": "HTMLView",
            "description": "",
            "description_tooltip": null,
            "layout": "IPY_MODEL_ace76550da3d48ad90236413a0b0b3e2",
            "placeholder": "​",
            "style": "IPY_MODEL_906f4d3a1b5349968e7b28d5f78c8611",
            "value": "sending upsert requests: 100%"
          }
        },
        "853b7555aba1418a935efa8f90c5082d": {
          "model_module": "@jupyter-widgets/controls",
          "model_name": "FloatProgressModel",
          "model_module_version": "1.5.0",
          "state": {
            "_dom_classes": [],
            "_model_module": "@jupyter-widgets/controls",
            "_model_module_version": "1.5.0",
            "_model_name": "FloatProgressModel",
            "_view_count": null,
            "_view_module": "@jupyter-widgets/controls",
            "_view_module_version": "1.5.0",
            "_view_name": "ProgressView",
            "bar_style": "success",
            "description": "",
            "description_tooltip": null,
            "layout": "IPY_MODEL_48c8fae05bcf45a196457741b4a6d8b7",
            "max": 100,
            "min": 0,
            "orientation": "horizontal",
            "style": "IPY_MODEL_952842ff37244f41ba5f08d569b8bc18",
            "value": 100
          }
        },
        "95e4015fb8b545ff9f349e89d6a6cda0": {
          "model_module": "@jupyter-widgets/controls",
          "model_name": "HTMLModel",
          "model_module_version": "1.5.0",
          "state": {
            "_dom_classes": [],
            "_model_module": "@jupyter-widgets/controls",
            "_model_module_version": "1.5.0",
            "_model_name": "HTMLModel",
            "_view_count": null,
            "_view_module": "@jupyter-widgets/controls",
            "_view_module_version": "1.5.0",
            "_view_name": "HTMLView",
            "description": "",
            "description_tooltip": null,
            "layout": "IPY_MODEL_16914646e15947bca6d8fc1c5d1ca113",
            "placeholder": "​",
            "style": "IPY_MODEL_3aff87193e434f5d984c3652e68bcc6e",
            "value": " 100/100 [01:57&lt;00:00, 88.23it/s]"
          }
        },
        "16b7c150358b4cb380e0b144493f0c01": {
          "model_module": "@jupyter-widgets/base",
          "model_name": "LayoutModel",
          "model_module_version": "1.2.0",
          "state": {
            "_model_module": "@jupyter-widgets/base",
            "_model_module_version": "1.2.0",
            "_model_name": "LayoutModel",
            "_view_count": null,
            "_view_module": "@jupyter-widgets/base",
            "_view_module_version": "1.2.0",
            "_view_name": "LayoutView",
            "align_content": null,
            "align_items": null,
            "align_self": null,
            "border": null,
            "bottom": null,
            "display": null,
            "flex": null,
            "flex_flow": null,
            "grid_area": null,
            "grid_auto_columns": null,
            "grid_auto_flow": null,
            "grid_auto_rows": null,
            "grid_column": null,
            "grid_gap": null,
            "grid_row": null,
            "grid_template_areas": null,
            "grid_template_columns": null,
            "grid_template_rows": null,
            "height": null,
            "justify_content": null,
            "justify_items": null,
            "left": null,
            "margin": null,
            "max_height": null,
            "max_width": null,
            "min_height": null,
            "min_width": null,
            "object_fit": null,
            "object_position": null,
            "order": null,
            "overflow": null,
            "overflow_x": null,
            "overflow_y": null,
            "padding": null,
            "right": null,
            "top": null,
            "visibility": null,
            "width": null
          }
        },
        "ace76550da3d48ad90236413a0b0b3e2": {
          "model_module": "@jupyter-widgets/base",
          "model_name": "LayoutModel",
          "model_module_version": "1.2.0",
          "state": {
            "_model_module": "@jupyter-widgets/base",
            "_model_module_version": "1.2.0",
            "_model_name": "LayoutModel",
            "_view_count": null,
            "_view_module": "@jupyter-widgets/base",
            "_view_module_version": "1.2.0",
            "_view_name": "LayoutView",
            "align_content": null,
            "align_items": null,
            "align_self": null,
            "border": null,
            "bottom": null,
            "display": null,
            "flex": null,
            "flex_flow": null,
            "grid_area": null,
            "grid_auto_columns": null,
            "grid_auto_flow": null,
            "grid_auto_rows": null,
            "grid_column": null,
            "grid_gap": null,
            "grid_row": null,
            "grid_template_areas": null,
            "grid_template_columns": null,
            "grid_template_rows": null,
            "height": null,
            "justify_content": null,
            "justify_items": null,
            "left": null,
            "margin": null,
            "max_height": null,
            "max_width": null,
            "min_height": null,
            "min_width": null,
            "object_fit": null,
            "object_position": null,
            "order": null,
            "overflow": null,
            "overflow_x": null,
            "overflow_y": null,
            "padding": null,
            "right": null,
            "top": null,
            "visibility": null,
            "width": null
          }
        },
        "906f4d3a1b5349968e7b28d5f78c8611": {
          "model_module": "@jupyter-widgets/controls",
          "model_name": "DescriptionStyleModel",
          "model_module_version": "1.5.0",
          "state": {
            "_model_module": "@jupyter-widgets/controls",
            "_model_module_version": "1.5.0",
            "_model_name": "DescriptionStyleModel",
            "_view_count": null,
            "_view_module": "@jupyter-widgets/base",
            "_view_module_version": "1.2.0",
            "_view_name": "StyleView",
            "description_width": ""
          }
        },
        "48c8fae05bcf45a196457741b4a6d8b7": {
          "model_module": "@jupyter-widgets/base",
          "model_name": "LayoutModel",
          "model_module_version": "1.2.0",
          "state": {
            "_model_module": "@jupyter-widgets/base",
            "_model_module_version": "1.2.0",
            "_model_name": "LayoutModel",
            "_view_count": null,
            "_view_module": "@jupyter-widgets/base",
            "_view_module_version": "1.2.0",
            "_view_name": "LayoutView",
            "align_content": null,
            "align_items": null,
            "align_self": null,
            "border": null,
            "bottom": null,
            "display": null,
            "flex": null,
            "flex_flow": null,
            "grid_area": null,
            "grid_auto_columns": null,
            "grid_auto_flow": null,
            "grid_auto_rows": null,
            "grid_column": null,
            "grid_gap": null,
            "grid_row": null,
            "grid_template_areas": null,
            "grid_template_columns": null,
            "grid_template_rows": null,
            "height": null,
            "justify_content": null,
            "justify_items": null,
            "left": null,
            "margin": null,
            "max_height": null,
            "max_width": null,
            "min_height": null,
            "min_width": null,
            "object_fit": null,
            "object_position": null,
            "order": null,
            "overflow": null,
            "overflow_x": null,
            "overflow_y": null,
            "padding": null,
            "right": null,
            "top": null,
            "visibility": null,
            "width": null
          }
        },
        "952842ff37244f41ba5f08d569b8bc18": {
          "model_module": "@jupyter-widgets/controls",
          "model_name": "ProgressStyleModel",
          "model_module_version": "1.5.0",
          "state": {
            "_model_module": "@jupyter-widgets/controls",
            "_model_module_version": "1.5.0",
            "_model_name": "ProgressStyleModel",
            "_view_count": null,
            "_view_module": "@jupyter-widgets/base",
            "_view_module_version": "1.2.0",
            "_view_name": "StyleView",
            "bar_color": null,
            "description_width": ""
          }
        },
        "16914646e15947bca6d8fc1c5d1ca113": {
          "model_module": "@jupyter-widgets/base",
          "model_name": "LayoutModel",
          "model_module_version": "1.2.0",
          "state": {
            "_model_module": "@jupyter-widgets/base",
            "_model_module_version": "1.2.0",
            "_model_name": "LayoutModel",
            "_view_count": null,
            "_view_module": "@jupyter-widgets/base",
            "_view_module_version": "1.2.0",
            "_view_name": "LayoutView",
            "align_content": null,
            "align_items": null,
            "align_self": null,
            "border": null,
            "bottom": null,
            "display": null,
            "flex": null,
            "flex_flow": null,
            "grid_area": null,
            "grid_auto_columns": null,
            "grid_auto_flow": null,
            "grid_auto_rows": null,
            "grid_column": null,
            "grid_gap": null,
            "grid_row": null,
            "grid_template_areas": null,
            "grid_template_columns": null,
            "grid_template_rows": null,
            "height": null,
            "justify_content": null,
            "justify_items": null,
            "left": null,
            "margin": null,
            "max_height": null,
            "max_width": null,
            "min_height": null,
            "min_width": null,
            "object_fit": null,
            "object_position": null,
            "order": null,
            "overflow": null,
            "overflow_x": null,
            "overflow_y": null,
            "padding": null,
            "right": null,
            "top": null,
            "visibility": null,
            "width": null
          }
        },
        "3aff87193e434f5d984c3652e68bcc6e": {
          "model_module": "@jupyter-widgets/controls",
          "model_name": "DescriptionStyleModel",
          "model_module_version": "1.5.0",
          "state": {
            "_model_module": "@jupyter-widgets/controls",
            "_model_module_version": "1.5.0",
            "_model_name": "DescriptionStyleModel",
            "_view_count": null,
            "_view_module": "@jupyter-widgets/base",
            "_view_module_version": "1.2.0",
            "_view_name": "StyleView",
            "description_width": ""
          }
        }
      }
    }
  },
  "cells": [
    {
      "cell_type": "markdown",
      "source": [
        "Part 1: Load Documents & Execute Reranking Model\n",
        "1. Install Pinecone libraries"
      ],
      "metadata": {
        "id": "khokvlgnvcu1"
      }
    },
    {
      "cell_type": "code",
      "execution_count": 16,
      "metadata": {
        "colab": {
          "base_uri": "https://localhost:8080/"
        },
        "id": "onq4ohiOvWXu",
        "outputId": "bf4e64c3-b42d-47ff-9fd0-1756d529cbb5"
      },
      "outputs": [
        {
          "output_type": "stream",
          "name": "stdout",
          "text": [
            "Requirement already satisfied: pinecone==6.0.1 in /usr/local/lib/python3.11/dist-packages (6.0.1)\n",
            "Requirement already satisfied: pinecone-notebooks in /usr/local/lib/python3.11/dist-packages (0.1.1)\n",
            "Requirement already satisfied: certifi>=2019.11.17 in /usr/local/lib/python3.11/dist-packages (from pinecone==6.0.1) (2025.7.14)\n",
            "Requirement already satisfied: pinecone-plugin-interface<0.0.8,>=0.0.7 in /usr/local/lib/python3.11/dist-packages (from pinecone==6.0.1) (0.0.7)\n",
            "Requirement already satisfied: python-dateutil>=2.5.3 in /usr/local/lib/python3.11/dist-packages (from pinecone==6.0.1) (2.9.0.post0)\n",
            "Requirement already satisfied: typing-extensions>=3.7.4 in /usr/local/lib/python3.11/dist-packages (from pinecone==6.0.1) (4.14.1)\n",
            "Requirement already satisfied: urllib3>=1.26.0 in /usr/local/lib/python3.11/dist-packages (from pinecone==6.0.1) (2.4.0)\n",
            "Requirement already satisfied: six>=1.5 in /usr/local/lib/python3.11/dist-packages (from python-dateutil>=2.5.3->pinecone==6.0.1) (1.17.0)\n"
          ]
        }
      ],
      "source": [
        "!pip install pinecone==6.0.1 pinecone-notebooks"
      ]
    },
    {
      "cell_type": "markdown",
      "source": [
        "2. Authenticate with Pinecone"
      ],
      "metadata": {
        "id": "w3cJSBQyvkdp"
      }
    },
    {
      "cell_type": "code",
      "source": [
        "import os\n",
        "if not os.environ.get(\"PINECONE_API_KEY\"):\n",
        "   from pinecone_notebooks.colab import Authenticate\n",
        "   Authenticate()"
      ],
      "metadata": {
        "id": "-lc7JUU5vthG"
      },
      "execution_count": 17,
      "outputs": []
    },
    {
      "cell_type": "markdown",
      "source": [
        "3. Instantiate the Pinecone client\n"
      ],
      "metadata": {
        "id": "cfj_KBaivxYf"
      }
    },
    {
      "cell_type": "code",
      "source": [
        "from pinecone import Pinecone\n",
        "api_key = os.environ[\"PINECONE_API_KEY\"]\n",
        "environment = \"us-west1-gcp\"  # e.g., \"us-west1-gcp\"\n",
        "pc = Pinecone(api_key=api_key)"
      ],
      "metadata": {
        "id": "vmFsuTNYv113"
      },
      "execution_count": 18,
      "outputs": []
    },
    {
      "cell_type": "markdown",
      "source": [
        "4. Define your query & documents"
      ],
      "metadata": {
        "id": "tTlgot2wv42j"
      }
    },
    {
      "cell_type": "code",
      "source": [
        "query = \"Tell me about Apple's products\"\n",
        "documents = [\n",
        "   \"An apple made Snow-white comatose\",\n",
        "   \"My I-Pod broke after I attempted to use is as a hard-drive\",\n",
        "   \"My previous Macboook has remained relevant for 10 years\",\n",
        "   \"I stopped using I-Phones because of battery issues\",\n",
        "   \"I add apricot jam as glazing in my apple pies\"\n",
        "]"
      ],
      "metadata": {
        "id": "xTRvoM7Xv8zL"
      },
      "execution_count": 19,
      "outputs": []
    },
    {
      "cell_type": "markdown",
      "source": [
        "5. Call the reranker"
      ],
      "metadata": {
        "id": "hm-BciswwA4f"
      }
    },
    {
      "cell_type": "code",
      "source": [
        "from pinecone import RerankModel\n",
        "reranked = pc.inference.rerank(\n",
        "   model=\"bge-reranker-v2-m3\",\n",
        "   query=query,\n",
        "   documents=[{\"id\": str(i), \"text\": doc} for i, doc in enumerate(documents)],\n",
        "   top_n=3  # e.g., 3\n",
        ")"
      ],
      "metadata": {
        "id": "WKXx24XrwB_o"
      },
      "execution_count": 20,
      "outputs": []
    },
    {
      "cell_type": "markdown",
      "source": [
        "6. Inspect reranked results"
      ],
      "metadata": {
        "id": "us9_DQSgwEt0"
      }
    },
    {
      "cell_type": "code",
      "source": [
        "def show_reranked(query, matches):\n",
        "   print(f\"Query: {query}\")\n",
        "   for i in range(len(matches.data)):\n",
        "    print(f\"{i+1}, {matches.data[i].score}, {matches.data[i].document.text}\")  # Print the position (i+1), m.score, and m.document.text\n",
        "show_reranked(query, reranked.rerank_result)"
      ],
      "metadata": {
        "colab": {
          "base_uri": "https://localhost:8080/"
        },
        "id": "T40xpE0VwKD9",
        "outputId": "a1e0d2ed-43d0-4f8e-f65c-8532d65f67f4"
      },
      "execution_count": 40,
      "outputs": [
        {
          "output_type": "stream",
          "name": "stdout",
          "text": [
            "Query: Tell me about Apple's products\n",
            "1, 0.00092538487, My previous Macboook has remained relevant for 10 years\n",
            "2, 0.0005399804, An apple made Snow-white comatose\n",
            "3, 2.4682904e-05, I add apricot jam as glazing in my apple pies\n"
          ]
        }
      ]
    },
    {
      "cell_type": "markdown",
      "source": [
        "Part 2: Setup A Serverless Index For Medical Notes\n",
        "\n",
        "1. Install data & model libraries"
      ],
      "metadata": {
        "id": "3b3rDsoJwMnK"
      }
    },
    {
      "cell_type": "code",
      "source": [
        "!pip install pandas torch transformers"
      ],
      "metadata": {
        "colab": {
          "base_uri": "https://localhost:8080/"
        },
        "id": "QqQ0MbxPwTg2",
        "outputId": "ac9a353e-a590-4c0d-e15f-5ae23a69ebec"
      },
      "execution_count": 41,
      "outputs": [
        {
          "output_type": "stream",
          "name": "stdout",
          "text": [
            "Requirement already satisfied: pandas in /usr/local/lib/python3.11/dist-packages (2.2.2)\n",
            "Requirement already satisfied: torch in /usr/local/lib/python3.11/dist-packages (2.6.0+cu124)\n",
            "Requirement already satisfied: transformers in /usr/local/lib/python3.11/dist-packages (4.53.2)\n",
            "Requirement already satisfied: numpy>=1.23.2 in /usr/local/lib/python3.11/dist-packages (from pandas) (2.0.2)\n",
            "Requirement already satisfied: python-dateutil>=2.8.2 in /usr/local/lib/python3.11/dist-packages (from pandas) (2.9.0.post0)\n",
            "Requirement already satisfied: pytz>=2020.1 in /usr/local/lib/python3.11/dist-packages (from pandas) (2025.2)\n",
            "Requirement already satisfied: tzdata>=2022.7 in /usr/local/lib/python3.11/dist-packages (from pandas) (2025.2)\n",
            "Requirement already satisfied: filelock in /usr/local/lib/python3.11/dist-packages (from torch) (3.18.0)\n",
            "Requirement already satisfied: typing-extensions>=4.10.0 in /usr/local/lib/python3.11/dist-packages (from torch) (4.14.1)\n",
            "Requirement already satisfied: networkx in /usr/local/lib/python3.11/dist-packages (from torch) (3.5)\n",
            "Requirement already satisfied: jinja2 in /usr/local/lib/python3.11/dist-packages (from torch) (3.1.6)\n",
            "Requirement already satisfied: fsspec in /usr/local/lib/python3.11/dist-packages (from torch) (2025.3.2)\n",
            "Collecting nvidia-cuda-nvrtc-cu12==12.4.127 (from torch)\n",
            "  Downloading nvidia_cuda_nvrtc_cu12-12.4.127-py3-none-manylinux2014_x86_64.whl.metadata (1.5 kB)\n",
            "Collecting nvidia-cuda-runtime-cu12==12.4.127 (from torch)\n",
            "  Downloading nvidia_cuda_runtime_cu12-12.4.127-py3-none-manylinux2014_x86_64.whl.metadata (1.5 kB)\n",
            "Collecting nvidia-cuda-cupti-cu12==12.4.127 (from torch)\n",
            "  Downloading nvidia_cuda_cupti_cu12-12.4.127-py3-none-manylinux2014_x86_64.whl.metadata (1.6 kB)\n",
            "Collecting nvidia-cudnn-cu12==9.1.0.70 (from torch)\n",
            "  Downloading nvidia_cudnn_cu12-9.1.0.70-py3-none-manylinux2014_x86_64.whl.metadata (1.6 kB)\n",
            "Collecting nvidia-cublas-cu12==12.4.5.8 (from torch)\n",
            "  Downloading nvidia_cublas_cu12-12.4.5.8-py3-none-manylinux2014_x86_64.whl.metadata (1.5 kB)\n",
            "Collecting nvidia-cufft-cu12==11.2.1.3 (from torch)\n",
            "  Downloading nvidia_cufft_cu12-11.2.1.3-py3-none-manylinux2014_x86_64.whl.metadata (1.5 kB)\n",
            "Collecting nvidia-curand-cu12==10.3.5.147 (from torch)\n",
            "  Downloading nvidia_curand_cu12-10.3.5.147-py3-none-manylinux2014_x86_64.whl.metadata (1.5 kB)\n",
            "Collecting nvidia-cusolver-cu12==11.6.1.9 (from torch)\n",
            "  Downloading nvidia_cusolver_cu12-11.6.1.9-py3-none-manylinux2014_x86_64.whl.metadata (1.6 kB)\n",
            "Collecting nvidia-cusparse-cu12==12.3.1.170 (from torch)\n",
            "  Downloading nvidia_cusparse_cu12-12.3.1.170-py3-none-manylinux2014_x86_64.whl.metadata (1.6 kB)\n",
            "Requirement already satisfied: nvidia-cusparselt-cu12==0.6.2 in /usr/local/lib/python3.11/dist-packages (from torch) (0.6.2)\n",
            "Requirement already satisfied: nvidia-nccl-cu12==2.21.5 in /usr/local/lib/python3.11/dist-packages (from torch) (2.21.5)\n",
            "Requirement already satisfied: nvidia-nvtx-cu12==12.4.127 in /usr/local/lib/python3.11/dist-packages (from torch) (12.4.127)\n",
            "Collecting nvidia-nvjitlink-cu12==12.4.127 (from torch)\n",
            "  Downloading nvidia_nvjitlink_cu12-12.4.127-py3-none-manylinux2014_x86_64.whl.metadata (1.5 kB)\n",
            "Requirement already satisfied: triton==3.2.0 in /usr/local/lib/python3.11/dist-packages (from torch) (3.2.0)\n",
            "Requirement already satisfied: sympy==1.13.1 in /usr/local/lib/python3.11/dist-packages (from torch) (1.13.1)\n",
            "Requirement already satisfied: mpmath<1.4,>=1.1.0 in /usr/local/lib/python3.11/dist-packages (from sympy==1.13.1->torch) (1.3.0)\n",
            "Requirement already satisfied: huggingface-hub<1.0,>=0.30.0 in /usr/local/lib/python3.11/dist-packages (from transformers) (0.33.4)\n",
            "Requirement already satisfied: packaging>=20.0 in /usr/local/lib/python3.11/dist-packages (from transformers) (25.0)\n",
            "Requirement already satisfied: pyyaml>=5.1 in /usr/local/lib/python3.11/dist-packages (from transformers) (6.0.2)\n",
            "Requirement already satisfied: regex!=2019.12.17 in /usr/local/lib/python3.11/dist-packages (from transformers) (2024.11.6)\n",
            "Requirement already satisfied: requests in /usr/local/lib/python3.11/dist-packages (from transformers) (2.32.3)\n",
            "Requirement already satisfied: tokenizers<0.22,>=0.21 in /usr/local/lib/python3.11/dist-packages (from transformers) (0.21.2)\n",
            "Requirement already satisfied: safetensors>=0.4.3 in /usr/local/lib/python3.11/dist-packages (from transformers) (0.5.3)\n",
            "Requirement already satisfied: tqdm>=4.27 in /usr/local/lib/python3.11/dist-packages (from transformers) (4.67.1)\n",
            "Requirement already satisfied: hf-xet<2.0.0,>=1.1.2 in /usr/local/lib/python3.11/dist-packages (from huggingface-hub<1.0,>=0.30.0->transformers) (1.1.5)\n",
            "Requirement already satisfied: six>=1.5 in /usr/local/lib/python3.11/dist-packages (from python-dateutil>=2.8.2->pandas) (1.17.0)\n",
            "Requirement already satisfied: MarkupSafe>=2.0 in /usr/local/lib/python3.11/dist-packages (from jinja2->torch) (3.0.2)\n",
            "Requirement already satisfied: charset-normalizer<4,>=2 in /usr/local/lib/python3.11/dist-packages (from requests->transformers) (3.4.2)\n",
            "Requirement already satisfied: idna<4,>=2.5 in /usr/local/lib/python3.11/dist-packages (from requests->transformers) (3.10)\n",
            "Requirement already satisfied: urllib3<3,>=1.21.1 in /usr/local/lib/python3.11/dist-packages (from requests->transformers) (2.4.0)\n",
            "Requirement already satisfied: certifi>=2017.4.17 in /usr/local/lib/python3.11/dist-packages (from requests->transformers) (2025.7.14)\n",
            "Downloading nvidia_cublas_cu12-12.4.5.8-py3-none-manylinux2014_x86_64.whl (363.4 MB)\n",
            "\u001b[2K   \u001b[90m━━━━━━━━━━━━━━━━━━━━━━━━━━━━━━━━━━━━━━━━\u001b[0m \u001b[32m363.4/363.4 MB\u001b[0m \u001b[31m4.4 MB/s\u001b[0m eta \u001b[36m0:00:00\u001b[0m\n",
            "\u001b[?25hDownloading nvidia_cuda_cupti_cu12-12.4.127-py3-none-manylinux2014_x86_64.whl (13.8 MB)\n",
            "\u001b[2K   \u001b[90m━━━━━━━━━━━━━━━━━━━━━━━━━━━━━━━━━━━━━━━━\u001b[0m \u001b[32m13.8/13.8 MB\u001b[0m \u001b[31m51.4 MB/s\u001b[0m eta \u001b[36m0:00:00\u001b[0m\n",
            "\u001b[?25hDownloading nvidia_cuda_nvrtc_cu12-12.4.127-py3-none-manylinux2014_x86_64.whl (24.6 MB)\n",
            "\u001b[2K   \u001b[90m━━━━━━━━━━━━━━━━━━━━━━━━━━━━━━━━━━━━━━━━\u001b[0m \u001b[32m24.6/24.6 MB\u001b[0m \u001b[31m30.4 MB/s\u001b[0m eta \u001b[36m0:00:00\u001b[0m\n",
            "\u001b[?25hDownloading nvidia_cuda_runtime_cu12-12.4.127-py3-none-manylinux2014_x86_64.whl (883 kB)\n",
            "\u001b[2K   \u001b[90m━━━━━━━━━━━━━━━━━━━━━━━━━━━━━━━━━━━━━━━━\u001b[0m \u001b[32m883.7/883.7 kB\u001b[0m \u001b[31m21.9 MB/s\u001b[0m eta \u001b[36m0:00:00\u001b[0m\n",
            "\u001b[?25hDownloading nvidia_cudnn_cu12-9.1.0.70-py3-none-manylinux2014_x86_64.whl (664.8 MB)\n",
            "\u001b[2K   \u001b[90m━━━━━━━━━━━━━━━━━━━━━━━━━━━━━━━━━━━━━━━━\u001b[0m \u001b[32m664.8/664.8 MB\u001b[0m \u001b[31m2.6 MB/s\u001b[0m eta \u001b[36m0:00:00\u001b[0m\n",
            "\u001b[?25hDownloading nvidia_cufft_cu12-11.2.1.3-py3-none-manylinux2014_x86_64.whl (211.5 MB)\n",
            "\u001b[2K   \u001b[90m━━━━━━━━━━━━━━━━━━━━━━━━━━━━━━━━━━━━━━━━\u001b[0m \u001b[32m211.5/211.5 MB\u001b[0m \u001b[31m5.9 MB/s\u001b[0m eta \u001b[36m0:00:00\u001b[0m\n",
            "\u001b[?25hDownloading nvidia_curand_cu12-10.3.5.147-py3-none-manylinux2014_x86_64.whl (56.3 MB)\n",
            "\u001b[2K   \u001b[90m━━━━━━━━━━━━━━━━━━━━━━━━━━━━━━━━━━━━━━━━\u001b[0m \u001b[32m56.3/56.3 MB\u001b[0m \u001b[31m12.4 MB/s\u001b[0m eta \u001b[36m0:00:00\u001b[0m\n",
            "\u001b[?25hDownloading nvidia_cusolver_cu12-11.6.1.9-py3-none-manylinux2014_x86_64.whl (127.9 MB)\n",
            "\u001b[2K   \u001b[90m━━━━━━━━━━━━━━━━━━━━━━━━━━━━━━━━━━━━━━━━\u001b[0m \u001b[32m127.9/127.9 MB\u001b[0m \u001b[31m8.6 MB/s\u001b[0m eta \u001b[36m0:00:00\u001b[0m\n",
            "\u001b[?25hDownloading nvidia_cusparse_cu12-12.3.1.170-py3-none-manylinux2014_x86_64.whl (207.5 MB)\n",
            "\u001b[2K   \u001b[90m━━━━━━━━━━━━━━━━━━━━━━━━━━━━━━━━━━━━━━━━\u001b[0m \u001b[32m207.5/207.5 MB\u001b[0m \u001b[31m6.7 MB/s\u001b[0m eta \u001b[36m0:00:00\u001b[0m\n",
            "\u001b[?25hDownloading nvidia_nvjitlink_cu12-12.4.127-py3-none-manylinux2014_x86_64.whl (21.1 MB)\n",
            "\u001b[2K   \u001b[90m━━━━━━━━━━━━━━━━━━━━━━━━━━━━━━━━━━━━━━━━\u001b[0m \u001b[32m21.1/21.1 MB\u001b[0m \u001b[31m81.3 MB/s\u001b[0m eta \u001b[36m0:00:00\u001b[0m\n",
            "\u001b[?25hInstalling collected packages: nvidia-nvjitlink-cu12, nvidia-curand-cu12, nvidia-cufft-cu12, nvidia-cuda-runtime-cu12, nvidia-cuda-nvrtc-cu12, nvidia-cuda-cupti-cu12, nvidia-cublas-cu12, nvidia-cusparse-cu12, nvidia-cudnn-cu12, nvidia-cusolver-cu12\n",
            "  Attempting uninstall: nvidia-nvjitlink-cu12\n",
            "    Found existing installation: nvidia-nvjitlink-cu12 12.5.82\n",
            "    Uninstalling nvidia-nvjitlink-cu12-12.5.82:\n",
            "      Successfully uninstalled nvidia-nvjitlink-cu12-12.5.82\n",
            "  Attempting uninstall: nvidia-curand-cu12\n",
            "    Found existing installation: nvidia-curand-cu12 10.3.6.82\n",
            "    Uninstalling nvidia-curand-cu12-10.3.6.82:\n",
            "      Successfully uninstalled nvidia-curand-cu12-10.3.6.82\n",
            "  Attempting uninstall: nvidia-cufft-cu12\n",
            "    Found existing installation: nvidia-cufft-cu12 11.2.3.61\n",
            "    Uninstalling nvidia-cufft-cu12-11.2.3.61:\n",
            "      Successfully uninstalled nvidia-cufft-cu12-11.2.3.61\n",
            "  Attempting uninstall: nvidia-cuda-runtime-cu12\n",
            "    Found existing installation: nvidia-cuda-runtime-cu12 12.5.82\n",
            "    Uninstalling nvidia-cuda-runtime-cu12-12.5.82:\n",
            "      Successfully uninstalled nvidia-cuda-runtime-cu12-12.5.82\n",
            "  Attempting uninstall: nvidia-cuda-nvrtc-cu12\n",
            "    Found existing installation: nvidia-cuda-nvrtc-cu12 12.5.82\n",
            "    Uninstalling nvidia-cuda-nvrtc-cu12-12.5.82:\n",
            "      Successfully uninstalled nvidia-cuda-nvrtc-cu12-12.5.82\n",
            "  Attempting uninstall: nvidia-cuda-cupti-cu12\n",
            "    Found existing installation: nvidia-cuda-cupti-cu12 12.5.82\n",
            "    Uninstalling nvidia-cuda-cupti-cu12-12.5.82:\n",
            "      Successfully uninstalled nvidia-cuda-cupti-cu12-12.5.82\n",
            "  Attempting uninstall: nvidia-cublas-cu12\n",
            "    Found existing installation: nvidia-cublas-cu12 12.5.3.2\n",
            "    Uninstalling nvidia-cublas-cu12-12.5.3.2:\n",
            "      Successfully uninstalled nvidia-cublas-cu12-12.5.3.2\n",
            "  Attempting uninstall: nvidia-cusparse-cu12\n",
            "    Found existing installation: nvidia-cusparse-cu12 12.5.1.3\n",
            "    Uninstalling nvidia-cusparse-cu12-12.5.1.3:\n",
            "      Successfully uninstalled nvidia-cusparse-cu12-12.5.1.3\n",
            "  Attempting uninstall: nvidia-cudnn-cu12\n",
            "    Found existing installation: nvidia-cudnn-cu12 9.3.0.75\n",
            "    Uninstalling nvidia-cudnn-cu12-9.3.0.75:\n",
            "      Successfully uninstalled nvidia-cudnn-cu12-9.3.0.75\n",
            "  Attempting uninstall: nvidia-cusolver-cu12\n",
            "    Found existing installation: nvidia-cusolver-cu12 11.6.3.83\n",
            "    Uninstalling nvidia-cusolver-cu12-11.6.3.83:\n",
            "      Successfully uninstalled nvidia-cusolver-cu12-11.6.3.83\n",
            "Successfully installed nvidia-cublas-cu12-12.4.5.8 nvidia-cuda-cupti-cu12-12.4.127 nvidia-cuda-nvrtc-cu12-12.4.127 nvidia-cuda-runtime-cu12-12.4.127 nvidia-cudnn-cu12-9.1.0.70 nvidia-cufft-cu12-11.2.1.3 nvidia-curand-cu12-10.3.5.147 nvidia-cusolver-cu12-11.6.1.9 nvidia-cusparse-cu12-12.3.1.170 nvidia-nvjitlink-cu12-12.4.127\n"
          ]
        }
      ]
    },
    {
      "cell_type": "markdown",
      "source": [
        "2. Import modules & define environment settings"
      ],
      "metadata": {
        "id": "m6Eq5U6RwZc_"
      }
    },
    {
      "cell_type": "code",
      "source": [
        "import os, time, pandas as pd, torch\n",
        "from pinecone import Pinecone, ServerlessSpec\n",
        "\n",
        "# Define cloud and region\n",
        "cloud = \"aws\"              # e.g., \"aws\", \"gcp\"\n",
        "region = \"us-east-1\"       # e.g., \"us-east-1\"\n",
        "\n",
        "# Create the correct ServerlessSpec — NO cpu/memory here\n",
        "spec = ServerlessSpec(cloud=cloud, region=region)\n",
        "\n",
        "# Initialize Pinecone client — note: NO 'environment' for serverless\n",
        "pc = Pinecone(api_key=os.environ[\"PINECONE_API_KEY\"])\n",
        "index_name = \"pinecone-reranker\""
      ],
      "metadata": {
        "id": "dkqHwpylwb7a"
      },
      "execution_count": 43,
      "outputs": []
    },
    {
      "cell_type": "markdown",
      "source": [
        "3. Create or recreate the index"
      ],
      "metadata": {
        "id": "ppJPo7sdwfSc"
      }
    },
    {
      "cell_type": "code",
      "source": [
        "if pc.has_index(index_name):\n",
        "   pc.delete_index(index_name)\n",
        "pc.create_index(\n",
        "   name=index_name,\n",
        "   dimension=384,           # must match embedding vector size\n",
        "   spec=spec\n",
        ")"
      ],
      "metadata": {
        "colab": {
          "base_uri": "https://localhost:8080/"
        },
        "id": "4v1KWjgx6huL",
        "outputId": "234460f2-fea9-4de4-acfd-32c55f23627c"
      },
      "execution_count": 45,
      "outputs": [
        {
          "output_type": "execute_result",
          "data": {
            "text/plain": [
              "{\n",
              "    \"name\": \"pinecone-reranker\",\n",
              "    \"metric\": \"cosine\",\n",
              "    \"host\": \"pinecone-reranker-n15ek1d.svc.aped-4627-b74a.pinecone.io\",\n",
              "    \"spec\": {\n",
              "        \"serverless\": {\n",
              "            \"cloud\": \"aws\",\n",
              "            \"region\": \"us-east-1\"\n",
              "        }\n",
              "    },\n",
              "    \"status\": {\n",
              "        \"ready\": true,\n",
              "        \"state\": \"Ready\"\n",
              "    },\n",
              "    \"vector_type\": \"dense\",\n",
              "    \"dimension\": 384,\n",
              "    \"deletion_protection\": \"disabled\",\n",
              "    \"tags\": null\n",
              "}"
            ]
          },
          "metadata": {},
          "execution_count": 45
        }
      ]
    },
    {
      "cell_type": "markdown",
      "source": [
        "Part 3: Load The Sample Data\n",
        "\n",
        "1. Download & read JSONL"
      ],
      "metadata": {
        "id": "oYhyXSrE8dqB"
      }
    },
    {
      "cell_type": "code",
      "source": [
        "import requests, tempfile\n",
        "\n",
        "with tempfile.TemporaryDirectory() as tmpdir:\n",
        "   file_path = os.path.join(tmpdir, \"sample_notes_data.jsonl\")\n",
        "   url = \"https://raw.githubusercontent.com/pinecone-io/examples/refs/heads/master/docs/data/sample_notes_data.jsonl\"  # raw GitHub URL to JSONL file\n",
        "   resp = requests.get(url)\n",
        "   resp.raise_for_status()\n",
        "   open(file_path, \"wb\").write(resp.content)\n",
        "   df = pd.read_json(file_path, orient='records', lines=True)"
      ],
      "metadata": {
        "id": "Z2e7IRph8e3Z"
      },
      "execution_count": 46,
      "outputs": []
    },
    {
      "cell_type": "markdown",
      "source": [
        "2. Preview the DataFrame"
      ],
      "metadata": {
        "id": "zJ0FyES481Dy"
      }
    },
    {
      "cell_type": "code",
      "source": [
        "print(df.head())"
      ],
      "metadata": {
        "colab": {
          "base_uri": "https://localhost:8080/"
        },
        "id": "TB0_6oc5844M",
        "outputId": "c3aa123a-e379-475c-8d8b-651b50c60a63"
      },
      "execution_count": 47,
      "outputs": [
        {
          "output_type": "stream",
          "name": "stdout",
          "text": [
            "     id                                             values  \\\n",
            "0  P011  [-0.2027486265, 0.2769146562, -0.1509393603, 0...   \n",
            "1  P001  [0.1842793673, 0.4459365904, -0.0770567134, 0....   \n",
            "2  P002  [-0.2040648609, -0.1739618927, -0.2897160649, ...   \n",
            "3  P003  [0.1889383644, 0.2924542725, -0.2335938066, -0...   \n",
            "4  P004  [-0.12171068040000001, 0.1674752235, -0.231888...   \n",
            "\n",
            "                                            metadata  \n",
            "0  {'advice': 'rest, hydrate', 'symptoms': 'heada...  \n",
            "1  {'tests': 'EKG, stress test', 'symptoms': 'che...  \n",
            "2  {'HbA1c': '7.2', 'condition': 'diabetes', 'med...  \n",
            "3  {'symptoms': 'cough, wheezing', 'diagnosis': '...  \n",
            "4  {'referral': 'dermatology', 'condition': 'susp...  \n"
          ]
        }
      ]
    },
    {
      "cell_type": "markdown",
      "source": [
        "Part 4: Upsert Data Into The Index\n",
        "\n",
        "1. Instantiate index client & upsert"
      ],
      "metadata": {
        "id": "i1_r-bCD8869"
      }
    },
    {
      "cell_type": "code",
      "source": [
        "index = pc.Index(index_name)\n",
        "index.upsert_from_dataframe(df)"
      ],
      "metadata": {
        "colab": {
          "base_uri": "https://localhost:8080/",
          "height": 66,
          "referenced_widgets": [
            "bc60159dc68e40139d2c779830659dd3",
            "bdc357a8415a4e03a65f5f2085840585",
            "853b7555aba1418a935efa8f90c5082d",
            "95e4015fb8b545ff9f349e89d6a6cda0",
            "16b7c150358b4cb380e0b144493f0c01",
            "ace76550da3d48ad90236413a0b0b3e2",
            "906f4d3a1b5349968e7b28d5f78c8611",
            "48c8fae05bcf45a196457741b4a6d8b7",
            "952842ff37244f41ba5f08d569b8bc18",
            "16914646e15947bca6d8fc1c5d1ca113",
            "3aff87193e434f5d984c3652e68bcc6e"
          ]
        },
        "id": "BUMDadga9CM8",
        "outputId": "02e9be4f-a580-4d24-bbf3-9e981376c44c"
      },
      "execution_count": 48,
      "outputs": [
        {
          "output_type": "display_data",
          "data": {
            "text/plain": [
              "sending upsert requests:   0%|          | 0/100 [00:00<?, ?it/s]"
            ],
            "application/vnd.jupyter.widget-view+json": {
              "version_major": 2,
              "version_minor": 0,
              "model_id": "bc60159dc68e40139d2c779830659dd3"
            }
          },
          "metadata": {}
        },
        {
          "output_type": "execute_result",
          "data": {
            "text/plain": [
              "{'upserted_count': 100}"
            ]
          },
          "metadata": {},
          "execution_count": 48
        }
      ]
    },
    {
      "cell_type": "markdown",
      "source": [
        "2. Wait for availability"
      ],
      "metadata": {
        "id": "Fqwnjq7N9HNy"
      }
    },
    {
      "cell_type": "code",
      "source": [
        "def is_ready(idx):\n",
        "   stats = idx.describe_index_stats()\n",
        "   return stats.total_vector_count > 0\n",
        "\n",
        "while not is_ready(index):\n",
        "   time.sleep(5)\n",
        "print(index.describe_index_stats())"
      ],
      "metadata": {
        "colab": {
          "base_uri": "https://localhost:8080/"
        },
        "id": "nI3xHIHi9M4n",
        "outputId": "b503a75e-2522-4996-ccb4-3ad44407c123"
      },
      "execution_count": 49,
      "outputs": [
        {
          "output_type": "stream",
          "name": "stdout",
          "text": [
            "{'dimension': 384,\n",
            " 'index_fullness': 0.0,\n",
            " 'metric': 'cosine',\n",
            " 'namespaces': {'': {'vector_count': 100}},\n",
            " 'total_vector_count': 100,\n",
            " 'vector_type': 'dense'}\n"
          ]
        }
      ]
    },
    {
      "cell_type": "markdown",
      "source": [
        "Part 5: Query & Embedding Function\n",
        "\n",
        "1. Define your embedding function"
      ],
      "metadata": {
        "id": "7ZqreGpE9YbM"
      }
    },
    {
      "cell_type": "code",
      "source": [
        "from sentence_transformers import SentenceTransformer\n",
        "\n",
        "def get_embedding(text):\n",
        "   model = SentenceTransformer(\"all-MiniLM-L6-v2\")  # e.g., \"all-MiniLM-L6-v2\"\n",
        "   return model.encode(text)"
      ],
      "metadata": {
        "id": "wcbMV5hF9bmT"
      },
      "execution_count": 50,
      "outputs": []
    },
    {
      "cell_type": "markdown",
      "source": [
        "2. Run a semantic search query"
      ],
      "metadata": {
        "id": "G6-ogyn09ipQ"
      }
    },
    {
      "cell_type": "code",
      "source": [
        "question = \"what if my patient has leg pain\"  # e.g., \"what if my patient has leg pain\"\n",
        "emb = get_embedding(question)\n",
        "results = index.query(vector=emb.tolist(), top_k=5, include_metadata=True)\n",
        "matches = sorted(results.matches, key=lambda m: m.score, reverse=True)"
      ],
      "metadata": {
        "id": "AO2NkKMB9mmx"
      },
      "execution_count": 53,
      "outputs": []
    },
    {
      "cell_type": "markdown",
      "source": [
        "Part 6: Display & Rerank Clinical Notes\n",
        "\n",
        "1. Display initial search results"
      ],
      "metadata": {
        "id": "dKGoH0Ws-Q-X"
      }
    },
    {
      "cell_type": "code",
      "source": [
        "def show_results(q, matches):\n",
        "   print(f\"Question: {q}\")\n",
        "   for i, m in enumerate(matches):\n",
        "       print(f\"{i+1}, {m['id']}, {m['score']}, {m['metadata']}\")  # print i+1, m.id, m.score, m.metadata\n",
        "show_results(question, matches)"
      ],
      "metadata": {
        "colab": {
          "base_uri": "https://localhost:8080/"
        },
        "id": "PjffEJ-T-eIl",
        "outputId": "8d40e6ce-8a8d-4814-d388-58c0b445fce0"
      },
      "execution_count": 57,
      "outputs": [
        {
          "output_type": "stream",
          "name": "stdout",
          "text": [
            "Question: what if my patient has leg pain\n",
            "1, P0100, 0.518134892, {'advice': 'over-the-counter pain relief, stretching', 'symptoms': 'muscle pain'}\n",
            "2, P047, 0.50096035, {'symptoms': 'back pain', 'treatment': 'physical therapy'}\n",
            "3, P095, 0.50096035, {'symptoms': 'back pain', 'treatment': 'physical therapy'}\n",
            "4, P007, 0.459599316, {'surgery': 'knee arthroscopy', 'symptoms': 'pain, swelling', 'treatment': 'physical therapy'}\n",
            "5, P028, 0.446535289, {'condition': 'knee pain', 'referral': 'orthopedics'}\n"
          ]
        }
      ]
    },
    {
      "cell_type": "markdown",
      "source": [
        "2. Prepare documents for reranking\n",
        "\n"
      ],
      "metadata": {
        "id": "MiS9OIN2AqpN"
      }
    },
    {
      "cell_type": "code",
      "source": [
        "rerank_docs = [\n",
        "   {\"id\": m.id, \"reranking_field\": \"; \".join([f\"{k}: {v}\" for k, v in m.metadata.items()])}\n",
        "   for m in matches\n",
        "]\n",
        "rerank_query = \"what about an articular pain in the knee?\"  # e.g., a more specific clinical question"
      ],
      "metadata": {
        "id": "RgssyEmOAuY8"
      },
      "execution_count": 58,
      "outputs": []
    },
    {
      "cell_type": "markdown",
      "source": [
        "3. Execute serverless reranking"
      ],
      "metadata": {
        "id": "tR3PDMM7BMe5"
      }
    },
    {
      "cell_type": "code",
      "source": [
        "reranked = pc.inference.rerank(\n",
        "   model=\"bge-reranker-v2-m3\",\n",
        "   query=rerank_query,\n",
        "   documents=rerank_docs,\n",
        "   rank_fields=[\"reranking_field\"],\n",
        "   top_n=5  # number of top reranked notes to view\n",
        ")"
      ],
      "metadata": {
        "id": "x-oOVciLBNqL"
      },
      "execution_count": 65,
      "outputs": []
    },
    {
      "cell_type": "code",
      "source": [
        "print(reranked.data)"
      ],
      "metadata": {
        "colab": {
          "base_uri": "https://localhost:8080/"
        },
        "id": "dBru9ek1Bc3c",
        "outputId": "b490e83a-38dd-4c45-fb6b-a8e8f04bd38f"
      },
      "execution_count": 79,
      "outputs": [
        {
          "output_type": "stream",
          "name": "stdout",
          "text": [
            "[{\n",
            "    index=4,\n",
            "    score=0.06791668,\n",
            "    document={\n",
            "        id='P028',\n",
            "        reranking_field='condition: knee pain; referral: orthopedics'\n",
            "    }\n",
            "  }, {\n",
            "    index=3,\n",
            "    score=0.01384861,\n",
            "    document={\n",
            "        id='P007',\n",
            "        reranking_field='surgery: knee arthroscopy; symptoms: pain, swelling; treatment: physical therapy'\n",
            "    }\n",
            "  }, {\n",
            "    index=0,\n",
            "    score=0.004848533,\n",
            "    document={\n",
            "        id='P0100',\n",
            "        reranking_field='advice: over-the-counter pain relief, stretching; symptoms: muscle pain'\n",
            "    }\n",
            "  }, {\n",
            "    index=2,\n",
            "    score=0.0042315875,\n",
            "    document={\n",
            "        id='P095',\n",
            "        reranking_field='symptoms: back pain; treatment: physical therapy'\n",
            "    }\n",
            "  }, {\n",
            "    index=1,\n",
            "    score=0.004166256,\n",
            "    document={\n",
            "        id='P047',\n",
            "        reranking_field='symptoms: back pain; treatment: physical therapy'\n",
            "    }\n",
            "  }]\n"
          ]
        }
      ]
    },
    {
      "cell_type": "markdown",
      "source": [
        " 4. Show reranked results"
      ],
      "metadata": {
        "id": "jSvjj-BGBVfy"
      }
    },
    {
      "cell_type": "code",
      "source": [
        "def show_reranked(q, matches):\n",
        "    print(f\"\\n🔍 Refined Query: {q}\\n\")\n",
        "    for i, m in enumerate(matches):\n",
        "        doc = m[\"document\"]\n",
        "        print(f\"{i+1}. ID: {doc['id']}\")\n",
        "        print(f\"   Score: {m['score']:.6f}\")\n",
        "        print(f\"   Fields: {doc['reranking_field']}\\n\")\n",
        "show_reranked(rerank_query, reranked.data)"
      ],
      "metadata": {
        "colab": {
          "base_uri": "https://localhost:8080/"
        },
        "id": "LEjqustnBXvn",
        "outputId": "f16395fa-260e-4a1e-9b73-b19f6abe813a"
      },
      "execution_count": 82,
      "outputs": [
        {
          "output_type": "stream",
          "name": "stdout",
          "text": [
            "\n",
            "🔍 Refined Query: what about an articular pain in the knee?\n",
            "\n",
            "1. ID: P028\n",
            "   Score: 0.067917\n",
            "   Fields: condition: knee pain; referral: orthopedics\n",
            "\n",
            "2. ID: P007\n",
            "   Score: 0.013849\n",
            "   Fields: surgery: knee arthroscopy; symptoms: pain, swelling; treatment: physical therapy\n",
            "\n",
            "3. ID: P0100\n",
            "   Score: 0.004849\n",
            "   Fields: advice: over-the-counter pain relief, stretching; symptoms: muscle pain\n",
            "\n",
            "4. ID: P095\n",
            "   Score: 0.004232\n",
            "   Fields: symptoms: back pain; treatment: physical therapy\n",
            "\n",
            "5. ID: P047\n",
            "   Score: 0.004166\n",
            "   Fields: symptoms: back pain; treatment: physical therapy\n",
            "\n"
          ]
        }
      ]
    }
  ]
}