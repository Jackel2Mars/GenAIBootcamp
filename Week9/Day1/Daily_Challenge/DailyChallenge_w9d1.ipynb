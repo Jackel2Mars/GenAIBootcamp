{
 "cells": [
  {
   "cell_type": "markdown",
   "id": "bf9a689b",
   "metadata": {},
   "source": [
    "Step 1: Craft A Prompt That Controls Output Tone, Format, And Length\n",
    "\n",
    "Using the following original text excerpt, write a prompt that:\n",
    "\n",
    "Rewrites it in a friendly and clear tone\n",
    "Uses bullet points to organize information\n",
    "Paraphrases the original, avoiding direct quotations\n",
    "Stays under 75 words total"
   ]
  },
  {
   "cell_type": "markdown",
   "id": "2b42ab2a",
   "metadata": {},
   "source": [
    "You are a cybersecurity executive. Rewrite these instructions as organized bullet points. Use a friendly and clear tone. Make it up to 75 words. Do not quote.\n",
    "Instructions: Employees must ensure that all remote access to internal systems is established via the approved secure VPN. Under no circumstances should unsecured connections or personal devices lacking endpoint protection be used to access proprietary data or sensitive communications."
   ]
  },
  {
   "cell_type": "markdown",
   "id": "dcf91a56",
   "metadata": {},
   "source": [
    "Step 2: Evaluate The Output\n",
    "\n",
    "Once you’ve generated the response, review it using the following criteria:\n",
    "\n",
    "Criteria\tGuiding Questions\n",
    "Relevance\tDoes the output stick to the message of the source content?\n",
    "Clarity\tIs the message easier to understand for non-technical staff?\n",
    "Structure\tIs the information formatted into clear bullet points?\n",
    "Tone\tIs the language appropriate for internal employee communication?\n",
    "Length\tDoes it stay under 75 words?\n",
    "Factual Accuracy\tDid the model make up or remove any critical security details?"
   ]
  },
  {
   "cell_type": "markdown",
   "id": "042ae368",
   "metadata": {},
   "source": [
    "Réponse:\n",
    "- Accès sécurisé : Utilisez uniquement le VPN approuvé pour toute connexion distante aux systèmes internes.\n",
    "- Évitez les connexions non sécurisées : Ne jamais utiliser de connexions non sécurisées pour accéder aux données sensibles.\n",
    "- Protection des appareils : Ne connectez pas d’appareils personnels sans protection de points de terminaison pour accéder aux données ou communications confidentielles.\n",
    "\n",
    "Evaluation: En terme de clarté, le terme de \"point de terminaison\" risque de ne pas être interlligible pour les non-initiés. Du coup, on peut considérer que l'objectif de paraphrase n'est pas complètment rempli."
   ]
  },
  {
   "cell_type": "markdown",
   "id": "31726128",
   "metadata": {},
   "source": [
    "Step 3: Detect And Mitigate Hallucinations\n",
    "\n",
    "If the model adds extra content (e.g., new policy terms, technologies not in the input), write a revised version of your original prompt that strictly limits the model to the input only.\n",
    "\n",
    "For example, you might add:\n",
    "\n",
    "“Only paraphrase the content in the input text. Do not add new recommendations or technologies.”"
   ]
  },
  {
   "cell_type": "markdown",
   "id": "449d8d2e",
   "metadata": {},
   "source": [
    "No such hallucination."
   ]
  },
  {
   "cell_type": "markdown",
   "id": "942d8eaf",
   "metadata": {},
   "source": [
    "Step 4: Paraphrasing Deep Dive\n",
    "\n",
    "Now write a second version of the prompt that paraphrases the policy paragraph for a junior intern audience, using plain language and short phrases.\n",
    "\n",
    "Use no more than 4 bullet points\n",
    "Avoid any corporate or legal jargon\n",
    "Keep the tone supportive and informative"
   ]
  },
  {
   "cell_type": "markdown",
   "id": "05478160",
   "metadata": {},
   "source": [
    "Prompt: \n",
    "You are a cybersecurity executive. Rewrite these instructions for a junior intern audiance. Use plain language and short phrases. Make it no more than 4 bullet points. Use a supportive and informatice tone. Make it up to 75 words. Do not quote. Avoid corporate or legal vernacular.\n",
    "Instructions: Employees must ensure that all remote access to internal systems is established via the approved secure VPN. Under no circumstances should unsecured connections or personal devices lacking endpoint protection be used to access proprietary data or sensitive communications.\n",
    "Réponse:\n",
    "- Always use the secure VPN when accessing company systems remotely.\n",
    "- Don’t use personal devices that don’t have proper security protection.\n",
    "- Never connect to the system through unsecured networks (like public Wi-Fi).\n",
    "- Keep sensitive data safe by following these security steps every time."
   ]
  },
  {
   "cell_type": "markdown",
   "id": "e98b6ec2",
   "metadata": {},
   "source": [
    "Step 5: Quote Extraction Variant\n",
    "\n",
    "Sometimes, quoting is more effective than paraphrasing. Write a new prompt that extracts one direct quote from the original text that best captures the core security policy.\n",
    "\n",
    "Then answer:\n",
    "\n",
    "In what kind of internal communication would quoting be more appropriate than paraphrasing?\n",
    "When might quoting pose a risk?"
   ]
  },
  {
   "cell_type": "markdown",
   "id": "8a09cd86",
   "metadata": {},
   "source": [
    "Promp: You are a cybersecurity executive. Extract a quote from the following instructions that best captures the core security policies. Do not rewrite.\n",
    "Instructions: Employees must ensure that all remote access to internal systems is established via the approved secure VPN. Under no circumstances should unsecured connections or personal devices lacking endpoint protection be used to access proprietary data or sensitive communications.\n",
    "Réponse: \"Employees must ensure that all remote access to internal systems is established via the approved secure VPN.\"\n",
    "\n",
    "When Quoting Is More Appropriate:\n",
    "Policy and Compliance Communications:\n",
    "For legal or regulatory requirements, quoting the exact language of the policy ensures there's no ambiguity. For example, quoting a security policy verbatim to emphasize an important requirement, like using the secure VPN for remote access.\n",
    "Instructions or Procedures:\n",
    "When communicating specific procedures, quoting can clarify exactly how something should be done. This minimizes the chance of misinterpretation, especially with step-by-step instructions.\n",
    "Formal Notices or Announcements:\n",
    "When issuing statements that need to be referenced later or where there's a need for official accuracy—for instance, quoting security policies or guidelines in an internal memo about upcoming audits.\n",
    "Critical Security Warnings:\n",
    "If an urgent security breach occurs, quoting the exact response protocol or incident response steps is crucial for consistency and clarity.\n",
    "When Quoting Might Pose a Risk:\n",
    "Overloading with Formality:\n",
    "If an internal communication is informal (e.g., a quick reminder or update), quoting might seem overly rigid or formal. This could create confusion or make the message feel less approachable, especially for younger or less experienced employees.\n",
    "Lack of Context:\n",
    "Quoting out of context could lead to misunderstandings, especially if the quote isn’t fully explained. For instance, quoting a part of a security policy without providing a context for why it’s relevant could confuse people, especially if they don’t know the bigger picture.\n",
    "Misinterpretation of Legal Terms:\n",
    "Quoting dense legal or technical language without paraphrasing might cause confusion or misinterpretation, especially for non-experts. It could also unintentionally create misunderstandings if the employees don’t fully grasp the importance or ramifications of the quoted policy.\n",
    "Repetition or Redundancy:\n",
    "Quoting too much can make the communication longer than necessary, potentially losing the audience's attention or diluting the importance of the message. Too many quotes can overwhelm the reader."
   ]
  }
 ],
 "metadata": {
  "language_info": {
   "name": "python"
  }
 },
 "nbformat": 4,
 "nbformat_minor": 5
}
