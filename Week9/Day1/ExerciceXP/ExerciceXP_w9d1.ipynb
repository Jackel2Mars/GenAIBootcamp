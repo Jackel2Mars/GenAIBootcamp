{
 "cells": [
  {
   "cell_type": "markdown",
   "id": "187474c5",
   "metadata": {},
   "source": [
    "Exercise 1: Rewrite And Optimize A Vague Prompt\n",
    "\n",
    "Scenario:\n",
    "You’re an AI Prompt Engineer at a productivity startup. Your manager asks you to use ChatGPT to create a LinkedIn post promoting their new focus app, FlowNest. They send you this vague prompt:\n",
    "\n",
    "“Write something about productivity tips.”\n",
    "\n",
    "\n",
    "Tasks\n",
    "\n",
    "Identify 3 critical issues with this prompt.\n",
    "(Hint: Think about brand voice, target users, and platform engagement.)\n",
    "\n",
    "Rewrite the prompt using all three techniques:\n",
    "\n",
    "Role prompting (e.g., “Act as a…”)\n",
    "Instruction-based prompting (e.g., “Give 3 actionable…”)\n",
    "Format/tone/length constraint (e.g., “Use bullet points” or “max 280 characters”)\n",
    "\n",
    "Add a final line that makes the prompt reusable (e.g., “Use this format whenever we promote productivity tools on social media”)."
   ]
  },
  {
   "cell_type": "markdown",
   "id": "92187b52",
   "metadata": {},
   "source": [
    "Critical Issues:\n",
    "- Brand Voice: We don't know which persona or tone to take. Is it a promotional message from marketing? A testimony from a user?\n",
    "- Target users: We have no idea of the target user and therefore whether we can use particular vernacular or the tone to use.\n",
    "- Platform Engagement: Depending on the platform, we may face limitations, best practices, etc... that will impact the form of the expected result.\n",
    "\n",
    "Rewrite the prompt using all three techniques:\n",
    "\"You are a marketing executive. You want to promote our newest focus app, FlowNest, towards Finance Executives on LinkedIn platform. Write a post giving 3 actionable productivity tips to promote our product. Use a formal tone, bullet points and make it up to 280 characters. Use this format whenever we promote productivity tools on social media\""
   ]
  },
  {
   "cell_type": "markdown",
   "id": "a3c6db22",
   "metadata": {},
   "source": [
    "Exercise 2: Multi-Part Prompt For Quiz Generation\n",
    "\n",
    "Scenario:\n",
    "A 7th-grade science teacher uploads a short article on volcanic eruptions. You are tasked with writing a prompt for ChatGPT to create engaging educational content.\n",
    "\n",
    "\n",
    "\n",
    "Tasks\n",
    "\n",
    "Write a complete prompt that asks the model to:\n",
    "Summarize the article in 2 simple bullet points\n",
    "Generate 3 age-appropriate multiple-choice questions, each with 1 correct and 2 distractors\n",
    "Include a friendly tone and simple vocabulary for 11–13-year-olds\n",
    "Output everything in a format suitable for Google Slides\n",
    "\n",
    "Compare your prompt to this vague one:\n",
    "\n",
    "“Make a quiz for kids about this article.”\n",
    "Explain three key ways your version prevents irrelevant or low-quality output."
   ]
  },
  {
   "cell_type": "markdown",
   "id": "c8f6181d",
   "metadata": {
    "vscode": {
     "languageId": "plaintext"
    }
   },
   "source": [
    "\"You are a 7-th grade science teacher. Summarize the following article into 2 simple bullet points. From the same the same article, create 3 multiple choice questions with 1 correct answer and 2 distractors. Write them with a friendly tone. Write them with a vocabulary that is both accessible and age appropriate for kids between 11 and 13 years old. Format needs to be suitable for Google Slides\"\n",
    "\n",
    "With indicating the role, we restrict concepts and therfore decrease risk of hallucination.\n",
    "With indicating audiance, with specifying the approximate age of audiance, we enable more precision on tone and concepts.\n",
    "With indicating format, we make sure our work is not to heavy to read."
   ]
  },
  {
   "cell_type": "markdown",
   "id": "0bdc7864",
   "metadata": {},
   "source": [
    "Exercise 3: Add Context, Get Better Results\n",
    "\n",
    "Scenario:\n",
    "An intern is preparing a 3-minute summary for a monthly finance update presentation. They give the AI this prompt:\n",
    "\n",
    "“Summarize this report.”\n",
    "The AI gives a generic summary without any useful financial figures or structure.\n",
    "\n",
    "\n",
    "\n",
    "Tasks\n",
    "\n",
    "1. Fill in the table by identifying missing context and what should be added:\n",
    "\n",
    "\n",
    "\n",
    "Context Type\tIs it Missing? (Yes/No)\tWhat Should Be Added?\n",
    "Role\t\t            Yes             You are a financial analyst...\n",
    "Audience\t\t        Yes             Summarize this report for executive team...\n",
    "Purpose\t\t            No             \n",
    "Input Source\t\t    No\n",
    "Format/Style\t\t    Yes             Limit to 3 key takeaways, each with supporting data…\n",
    "Constraints\t\t        Yes             Do not use finance specific vocabulary.\n",
    "\n",
    "\n",
    "2. Rewrite the intern’s prompt to include at least 4 context types, such as:\n",
    "\n",
    "“Act as a financial analyst…”\n",
    "“This summary is for a non-technical executive team…”\n",
    "“Limit to 3 key takeaways, each with supporting data…”\n",
    "\n",
    "Prompt:\n",
    "\"You are a financial analyst. Summarize this report for presentation to executive team. Limit to 3 key takeaways, each with supporting data. Do not use finance specific vocabulary.\""
   ]
  },
  {
   "cell_type": "code",
   "execution_count": null,
   "id": "b86482a3",
   "metadata": {
    "vscode": {
     "languageId": "plaintext"
    }
   },
   "outputs": [],
   "source": [
    "Exercise 4: Match Prompt To Purpose\n",
    "\n",
    "Scenario:\n",
    "\n",
    "You’re building prompt templates for a customer support chatbot at an e-commerce company. Pick one of the following styles and use it to write a complete prompt for the chatbot.\n",
    "\n",
    "Exploratory: Helps the model brainstorm options or generate ideas\n",
    "Structured: Follows a fixed format (lists, sections, steps)\n",
    "Conversational: Mimics a human, chatty tone\n",
    "Functional: Executes a task with precision (e.g., summarizing or transforming input)\n",
    "\n",
    "\n",
    "Tasks\n",
    "\n",
    "Write your prompt using the selected style.\n",
    "Identify 2 key features that make your prompt a match for the style.\n",
    "Justify your choice: Why is this style better than the others for your specific case?"
   ]
  },
  {
   "cell_type": "markdown",
   "id": "779b2990",
   "metadata": {},
   "source": [
    "Exercise 4: Match Prompt To Purpose\n",
    "\n",
    "Scenario:\n",
    "\n",
    "You’re building prompt templates for a customer support chatbot at an e-commerce company. Pick one of the following styles and use it to write a complete prompt for the chatbot.\n",
    "\n",
    "Exploratory: Helps the model brainstorm options or generate ideas\n",
    "Structured: Follows a fixed format (lists, sections, steps)\n",
    "Conversational: Mimics a human, chatty tone\n",
    "Functional: Executes a task with precision (e.g., summarizing or transforming input)\n",
    "\n",
    "\n",
    "Tasks\n",
    "\n",
    "Write your prompt using the selected style.\n",
    "Conversational: \"You are a customer care representative. Answer customer's request to the best of your knowledge. Use only information pour public audiance et which was validated by our company. Respond in a supportive and caring tone.\"\n",
    "\n",
    "Identify 2 key features that make your prompt a match for the style.\n",
    "Role and response guidlines.\n",
    "\n",
    "Justify your choice: Why is this style better than the others for your specific case?\n",
    "In my case, we are responding people that reach for customer care service. Since they most probably are in a difficult situation, it's better for them to feel supported, like with a real human interaction.\n"
   ]
  },
  {
   "cell_type": "markdown",
   "id": "e5dc6f07",
   "metadata": {},
   "source": [
    "Exercise 5: Prompt Refinement Challenge – Control The Style, Structure, And Length\n",
    "\n",
    "Scenario:\n",
    "\n",
    "You work for a wearable tech company launching a new smartwatch called PulseOne Mini. The marketing team is preparing content for an email campaign and wants you to use ChatGPT to write a product blurb with these constraints:\n",
    "\n",
    "Friendly tone\n",
    "Bullet point format\n",
    "Max 50 words total\n",
    "Must mention battery life, fitness tracking, and Bluetooth compatibility\n",
    "\n",
    "\n",
    "Tasks\n",
    "\n",
    "1. Write a prompt that strictly enforces these constraints.\n",
    "\"You are a marketing executive writing a product blurb for our next PulseOne Mini smartwatch. This blur is detined to our next email campaign towards clients who have previously purchased or viewed our smartwatches. this blurb needs to be in bullet point format with a total of 50 words top. Write it in a friendly tone. Insist on battery life, fitness tracking and Bluetooth compatibility\"\n",
    "\n",
    "2. Run the prompt and evaluate:\n",
    "Response:\n",
    "- Meet the PulseOne Mini – small in size, big on performance\n",
    "- Up to 10 days of battery life for nonstop tracking\n",
    "- Advanced fitness insights to keep you moving\n",
    "- Bluetooth compatible – syncs easily with your devices\n",
    "\n",
    "Did the model stick to the word count? Yes\n",
    "Were all 3 product features mentioned? Yes\n",
    "Is the tone friendly and engaging? Yes\n",
    "\n",
    "3. If not, revise your prompt with stronger constraint language (e.g., “Do not exceed 50 words. List exactly 3 bullet points.”)"
   ]
  },
  {
   "cell_type": "markdown",
   "id": "ab72324f",
   "metadata": {},
   "source": [
    "Exercise 6: Hallucination Spotting And Mitigation\n",
    "\n",
    "Scenario:\n",
    "You’re preparing a summary of a peer-reviewed article on climate change and marine biodiversity. ChatGPT inserts this claim:\n",
    "\n",
    "“Over 50% of marine species are projected to go extinct by 2050.”\n",
    "This claim does not appear in the original article.\n",
    "\n",
    "\n",
    "\n",
    "Tasks\n",
    "\n",
    "1. Write a precise prompt instructing the model to avoid hallucinations and use only the provided text.\n",
    "\"You are a scientist and a specialist of climate change and marine biodiversity. Summarize the following peer-reviewed article. Use only information that appears in the article or can be infered from the sole data presented in this article. Write it in an academic tone and make it up to 300 words.\"\n",
    "\n",
    "2. Rewrite the prompt using verification language, like:\n",
    "“Only include claims explicitly stated in the article.”\n",
    "“If uncertain, state that the information is not available.”\n",
    "\n",
    "\"You are a scientist and a specialist of climate change and marine biodiversity. Summarize the following peer-reviewed article. Write it in an academic tone and make it up to 300 words. Only include claims explicitly stated in the article. If uncertain, state that the information is not available\".`\n",
    "\n",
    "3. List 2 mitigation strategies you used to reduce hallucination risk.\n",
    "- Add specific context or constraints\n",
    "- Use grounding phrases\n",
    "\n",
    "4. Name 2 professional domains (e.g., legal, healthcare) where hallucinations are especially risky, and explain why.\n",
    "- Finance: wrong projections can generate dramatic losses, bankrupcy even.\n",
    "- Marketing: false claims are legally liable"
   ]
  },
  {
   "cell_type": "markdown",
   "id": "6ec64b29",
   "metadata": {},
   "source": []
  }
 ],
 "metadata": {
  "language_info": {
   "name": "python"
  }
 },
 "nbformat": 4,
 "nbformat_minor": 5
}
