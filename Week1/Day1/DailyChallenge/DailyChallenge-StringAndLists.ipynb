{
 "cells": [
  {
   "cell_type": "markdown",
   "id": "0da8aa91",
   "metadata": {},
   "source": [
    "Daily Challenge : String And Lists"
   ]
  },
  {
   "cell_type": "code",
   "execution_count": 8,
   "id": "c62c6a1a",
   "metadata": {},
   "outputs": [
    {
     "name": "stdout",
     "output_type": "stream",
     "text": [
      "number: 7 - length 5 -> [7, 14, 21, 28, 35]\n",
      "user's word : cccccaaarrrbbonnnnn ➞ carbon\n"
     ]
    }
   ],
   "source": [
    "\"\"\"Challenge 1\n",
    "Ask the user for a number and a length.\n",
    "Create a program that prints a list of multiples of the number until the list length reaches length.\n",
    "Examples\n",
    "number: 7 - length 5 ➞ [7, 14, 21, 28, 35]\n",
    "number: 12 - length 10 ➞ [12, 24, 36, 48, 60, 72, 84, 96, 108, 120]\n",
    "number: 17 - length 6 ➞ [17, 34, 51, 68, 85, 102]\"\"\"\n",
    "number = int(input(\"Choose the number you want to know its multiples\"))\n",
    "length = int(input(\"How many multiples do you want?\"))\n",
    "multiples = [(i+1)* number for i in range(length)]\n",
    "print(f\"number: {number} - length {length} -> {multiples}\")\n",
    "\n",
    "\"\"\"Challenge 2\n",
    "Write a program that asks a string to the user, and display a new string with any duplicate consecutive letters removed.\n",
    "Examples\n",
    "user's word : \"ppoeemm\" ➞ \"poem\"\n",
    "user's word : \"wiiiinnnnd\" ➞ \"wind\"\n",
    "user's word : \"ttiiitllleeee\" ➞ \"title\"\n",
    "user's word : \"cccccaaarrrbbonnnnn\" ➞ \"carbon\"\"\"\n",
    "user_word = input(\"Enter a word\")\n",
    "corrected_word = user_word[0]\n",
    "for index in range(1,len(user_word)):\n",
    "    if user_word[index] != user_word[index-1]:\n",
    "        corrected_word += user_word[index]\n",
    "print(f\"user's word : {user_word} ➞ {corrected_word}\")"
   ]
  }
 ],
 "metadata": {
  "kernelspec": {
   "display_name": "Python 3",
   "language": "python",
   "name": "python3"
  },
  "language_info": {
   "codemirror_mode": {
    "name": "ipython",
    "version": 3
   },
   "file_extension": ".py",
   "mimetype": "text/x-python",
   "name": "python",
   "nbconvert_exporter": "python",
   "pygments_lexer": "ipython3",
   "version": "3.10.16"
  }
 },
 "nbformat": 4,
 "nbformat_minor": 5
}
