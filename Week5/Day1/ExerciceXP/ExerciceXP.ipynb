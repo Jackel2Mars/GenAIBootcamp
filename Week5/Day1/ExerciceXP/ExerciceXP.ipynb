{
  "cells": [
    {
      "cell_type": "markdown",
      "id": "6f1ae270",
      "metadata": {
        "id": "6f1ae270"
      },
      "source": [
        "Exercise 1 : Small Quizz\n",
        "\n",
        "What is the key difference between traditional machine learning and deep learning?\n",
        "\n",
        "Traditional Machine Learning:\n",
        "Often relies on handcrafted features and pre-established rules created by humans to transform input data before feeding it to the model.\n",
        "The models themselves are usually simpler (like decision trees, SVMs, or linear regression), making it easier to interpret what’s happening inside — you can often see how data transforms step-by-step.\n",
        "Outputs tend to be more explicitly defined or constrained by the model structure and feature engineering.\n",
        "\n",
        "Deep Learning:\n",
        "Uses neural networks with multiple layers that automatically learn hierarchical features directly from raw data, without manual feature engineering.\n",
        "Functions like a “black box”: you see inputs and outputs, but it’s very hard to interpret or understand the internal transformations or how exactly decisions are made.\n",
        "While the task is predetermined (e.g., image classification, speech recognition), the network learns to produce outputs that aren’t explicitly pre-specified by humans — it discovers complex patterns on its own.\n"
      ]
    },
    {
      "cell_type": "markdown",
      "id": "18e07f56",
      "metadata": {
        "id": "18e07f56"
      },
      "source": [
        "How do artificial neural networks (ANNs) mimic the human brain?\n",
        "Same as human neurons carries an electrical signal coming from upstream neurons through their axone and transmits it to neurons downstream through synapses, perceptors in ANNs carry a digital signal coming from the upper layer under the form of a linear function and transmits is to the lower layer thanks to an an activation function.\n",
        "\n",
        "Biological neurons:\n",
        "Neurons receive electrical signals from upstream neurons through dendrites.\n",
        "The signal travels along the neuron’s axon.\n",
        "At the end, the neuron transmits signals to downstream neurons via synapses.\n",
        "Whether the neuron “fires” (sends a signal) depends on whether the input signals exceed a certain threshold.\n",
        "\n",
        "Artificial neurons (perceptrons) in ANNs:\n",
        "Each artificial neuron receives numerical inputs from neurons in the previous layer.\n",
        "These inputs are combined via a weighted sum (a linear function): each input is multiplied by a weight and summed.\n",
        "This sum is passed through an activation function (like ReLU, sigmoid, or tanh) that mimics the firing decision by introducing non-linearity.\n",
        "The output is then passed as input to neurons in the next layer."
      ]
    },
    {
      "cell_type": "markdown",
      "id": "f9189e8f",
      "metadata": {
        "id": "f9189e8f"
      },
      "source": [
        "Why does deep learning perform better on large datasets compared to traditional machine learning?\n",
        "Traditional Machine Learning:\n",
        "Often relies on explicit features engineered by humans.\n",
        "These features try to capture correlations or patterns between inputs and the target.\n",
        "The model’s performance depends heavily on the quality of these features and how well correlations are captured.\n",
        "Because features are fixed and fewer in number, it’s often less effective at capturing complex, high-dimensional patterns when the dataset grows large and diverse.\n",
        "\n",
        "Deep Learning:\n",
        "Learns hierarchical features automatically from raw data by adjusting weights and biases across many layers.\n",
        "Each perceptron receives all input features, but with different weights and biases, allowing the network to learn subtle patterns and complex interactions without manual feature engineering.\n",
        "This weight tuning lets the network smoothly balance and combine correlations between features and the target during training.\n",
        "With large datasets, deep networks have the capacity to extract richer representations, capturing complex, nonlinear relationships that traditional models struggle with.\n",
        "Because deep learning models have many parameters, they need lots of data to avoid overfitting and generalize well — that’s why their performance shines with large-scale data."
      ]
    },
    {
      "cell_type": "markdown",
      "id": "0323cec9",
      "metadata": {
        "id": "0323cec9"
      },
      "source": [
        "What are some challenges of deep learning, and how can they be addressed?\n",
        "✅ 1. Need for large amounts of high-quality data\n",
        "Challenge:\n",
        "Deep learning models require massive amounts of labeled, clean, diverse data to learn meaningful patterns and generalize well. Low-quality or biased data can lead to poor performance.\n",
        "\n",
        "How to address it:\n",
        "\n",
        "Data warehouses & data lakes: Centralized storage solutions help collect and manage huge datasets from different sources.\n",
        "Data augmentation: For images, audio, or text, you can artificially expand your dataset by adding noise, flipping, rotating, or paraphrasing.\n",
        "Synthetic data: Generate realistic data using simulations or generative models (like GANs).\n",
        "Semi-supervised & self-supervised learning: Leverage unlabeled data to improve performance.\n",
        "Transfer learning: Use pre-trained models and fine-tune them on smaller, task-specific datasets.\n",
        "✅ 2. Need for powerful computational resources\n",
        "Challenge:\n",
        "Training deep neural networks — especially large models — requires massive compute power, memory, and energy.\n",
        "\n",
        "How to address it:\n",
        "\n",
        "Specialized hardware: GPUs, TPUs, and AI accelerators dramatically speed up training.\n",
        "Distributed computing: Use clusters or cloud-based solutions for parallel processing.\n",
        "Model optimization: Techniques like quantization, pruning, or knowledge distillation can reduce model size and computation needs.\n",
        "Quantum computing: Still experimental for deep learning — promising for some tasks but not yet practical at scale.\n",
        "✅ 3. Interpretability (black-box problem)\n",
        "Challenge:\n",
        "Deep learning models can be hard to interpret, making it difficult to understand decisions or gain trust.\n",
        "\n",
        "How to address it:\n",
        "\n",
        "Explainable AI (XAI): Use techniques like SHAP, LIME, or attention visualization to interpret predictions.\n",
        "Design interpretable models: Use simpler architectures or hybrid models when explainability is crucial (e.g., healthcare, finance).\n",
        "✅ 4. Risk of overfitting\n",
        "Challenge:\n",
        "Deep networks with many parameters can overfit small or noisy datasets.\n",
        "\n",
        "How to address it:\n",
        "\n",
        "Use regularization (dropout, weight decay).\n",
        "Gather more data or augment existing data.\n",
        "Monitor performance with validation sets and early stopping.\n",
        "✅ 5. High development and deployment costs\n",
        "Challenge:\n",
        "Developing, training, and maintaining deep learning systems can be expensive.\n",
        "\n",
        "How to address it:\n",
        "\n",
        "Use pre-trained models: Save time and resources.\n",
        "Optimize inference: Deploy lightweight versions of models (e.g., using ONNX, TensorRT).\n",
        "AutoML: Automate model selection and hyperparameter tuning."
      ]
    },
    {
      "cell_type": "markdown",
      "id": "f8d87f47",
      "metadata": {
        "id": "f8d87f47"
      },
      "source": [
        "What is feature engineering, and why is it not needed in deep learning?\n",
        "✅ What is feature engineering?\n",
        "Feature engineering is the process of manually selecting, creating, or transforming input variables (features) to help a machine learning model learn patterns more effectively.\n",
        "\n",
        "Examples include normalizing data, combining variables, creating ratios, or extracting domain-specific metrics.\n",
        "Good feature engineering often determines how well traditional ML models (like decision trees or logistic regression) perform.\n",
        "✅ Why is it not needed in deep learning?\n",
        "Unlike traditional ML models that rely on these handcrafted features, deep learning models automatically learn useful representations and complex patterns from raw data.\n",
        "\n",
        "Each layer in a deep neural network extracts higher-level, abstract features on its own.\n",
        "Instead of manually “trimming” or transforming features, the network adjusts its weights and biases during training to capture important relationships.\n",
        "This makes deep learning very powerful for unstructured data like images, audio, or natural language, where feature engineering would be extremely difficult or subjective."
      ]
    },
    {
      "cell_type": "markdown",
      "id": "419500fc",
      "metadata": {
        "id": "419500fc"
      },
      "source": [
        "What role do hidden layers play in a deep learning model?\n",
        "✅ What do hidden layers do?\n",
        "\n",
        "Hidden layers transform the input data step by step to extract and learn increasingly complex features.\n",
        "Each hidden layer learns to detect patterns or representations at different levels of abstraction.\n",
        "For example, in image recognition:\n",
        "The first layers might learn edges or simple shapes.\n",
        "Deeper layers combine these into textures, parts, and finally whole objects.\n",
        "✅ How do they work?\n",
        "\n",
        "Each neuron in a hidden layer receives inputs, applies a weighted sum, passes it through an activation function, and outputs it to the next layer.\n",
        "This process allows the network to capture non-linear relationships that simpler models can’t."
      ]
    },
    {
      "cell_type": "markdown",
      "id": "449d60af",
      "metadata": {
        "vscode": {
          "languageId": "plaintext"
        },
        "id": "449d60af"
      },
      "source": [
        "In an artificial neural network (ANN), what is the function of an activation function?\n",
        "✅ What does an activation function do?\n",
        "\n",
        "An activation function determines whether a neuron should “fire” by transforming the neuron’s input (weighted sum) into an output signal.\n",
        "It introduces non-linearity into the network — without this, the entire network would behave like a simple linear function, no matter how many layers you add.\n",
        "✅ Why is non-linearity important?\n",
        "\n",
        "Non-linear activation functions (like ReLU, sigmoid, or tanh) let the network learn complex patterns, such as curves, interactions, and intricate relationships in data.\n",
        "✅ How does it “screen” the information?\n",
        "\n",
        "The activation function filters the signal by shrinking, squashing, or thresholding it.\n",
        "For example:\n",
        "ReLU sets all negative inputs to zero (filtering out weak signals).\n",
        "Sigmoid squashes inputs to a range between 0 and 1."
      ]
    },
    {
      "cell_type": "markdown",
      "id": "af19a281",
      "metadata": {
        "id": "af19a281"
      },
      "source": [
        "Exercise 2 : Building A Simple Perceptron Decision System\n",
        "\n",
        "You will manually create a simple perceptron-based decision system to determine whether you should go outside based on two inputs:\n",
        "\n",
        "Temperature (°F)\n",
        "Rainy (Yes = 1, No = 0)\n",
        "You will assign weights, compute the weighted sum, apply an activation function, and determine the final decision.\n",
        "\n",
        "Temperature weight = 0.6\n",
        "Rain weight = 0.4\n",
        "Bias = 2\n",
        "Compute the weighted sum using the formula:\n",
        "\n",
        "Weighted Sum=(Temperature×0.6)+(Rain×0.4)+Bias\n",
        "Weighted Sum=(Temperature×0.6)+(Rain×0.4)+Bias\n",
        "Apply a Step Activation Function:\n",
        "\n",
        "If Weighted Sum > 20, output 1 (Yes, go outside)\n",
        "If Weighted Sum ≤ 20, output 0 (No, stay inside)\n",
        "1. Calculate the output for the following conditions:\n",
        "\n",
        "Case 1: Temperature = 70°F, Rain = 0 (No)\n",
        "Case 2: Temperature = 50°F, Rain = 1 (Yes)\n",
        "2. Interpret the results: Did the perceptron suggest going outside in both cases? Why or why not?"
      ]
    },
    {
      "cell_type": "code",
      "execution_count": null,
      "id": "3e5e88fe",
      "metadata": {
        "id": "3e5e88fe",
        "outputId": "1f745998-879c-4d38-b1aa-c44c7fd3dbb4"
      },
      "outputs": [
        {
          "name": "stdout",
          "output_type": "stream",
          "text": [
            "Case 1:  1\n",
            "Case 2:  1\n"
          ]
        }
      ],
      "source": [
        "def weighted_sum(temperature, rainy):\n",
        "    weighted_sum = (temperature * 0.6) + (rainy * 0.4) + 2\n",
        "    return weighted_sum\n",
        "\n",
        "def step_activation(weighted_sum):\n",
        "    if weighted_sum > 20:\n",
        "        return 1\n",
        "    else:\n",
        "        return 0\n",
        "\n",
        "def simple_perceptron(temperature, rainy):\n",
        "    weighted_sum_result = weighted_sum(temperature, rainy)\n",
        "    output = step_activation(weighted_sum_result)\n",
        "    return output\n",
        "\n",
        "print(\"Case 1: \", simple_perceptron(70, 0))\n",
        "print(\"Case 2: \", simple_perceptron(50, 1))\n",
        "\n",
        "#The result depends mostly on the temperature, because its weight (0.6) is much larger than the weight for rain (0.4).\n",
        "#Even when it’s rainy (rainy = 1), the temperature has a bigger influence on the decision.\n",
        "#Also, the bias (+2) pushes the sum slightly higher, making it easier to cross the threshold of 20."
      ]
    },
    {
      "cell_type": "markdown",
      "source": [
        "Exercise 3 : Building A Simple Neural Network With TensorFlow/Keras\n",
        "\n",
        "Build a simple neural network using TensorFlow/Keras to classify handwritten digits from the MNIST dataset. The network should have:\n",
        "\n",
        "One input layer.\n",
        "One hidden layer with 128 neurons and ReLU activation.\n",
        "One output layer with 10 neurons (for 10 classes) and softmax activation.\n",
        "Steps:\n",
        "\n",
        "1. Import TensorFlow and other necessary modules such as layers, models, and utility functions from tensorflow.keras\n",
        "2. Load the MNIST Dataset\n",
        "3. Normalize the Data by scaling the pixel values of the images to the range [0, 1] by dividing by 255.0.\n",
        "4. One-Hot Encode the Labels by converting the digit labels (0–9) into one-hot encoded vectors.\n",
        "5. To build the Neural Network Model, create a sequential model with the following architecture:\n",
        "\n",
        "A Flatten layer to convert each 28x28 image into a 1D vector.\n",
        "A Dense hidden layer with 128 neurons and ReLU activation.\n",
        "An output Dense layer with 10 neurons and softmax activation (for the 10 classes).\n",
        "6. Compile the model with the following settings:\n",
        "\n",
        "Optimizer: ‘adam’\n",
        "Loss function: ‘categorical_crossentropy’\n",
        "Metrics: [‘accuracy’]\n",
        "7. Train the Model and Evaluate it on the test dataset.\n",
        "\n",
        "Dataset: The MNIST dataset is included in TensorFlow/Keras and can be loaded using:"
      ],
      "metadata": {
        "id": "VqqQc8BlLH9Z"
      },
      "id": "VqqQc8BlLH9Z"
    },
    {
      "cell_type": "code",
      "source": [
        "#Import TensorFlow and other necessary modules such as layers, models, and utility functions from tensorflow.keras\n",
        "import tensorflow as tf\n",
        "from tensorflow import keras\n",
        "import numpy as np\n",
        "from sklearn.metrics import ConfusionMatrixDisplay\n",
        "from sklearn.metrics import accuracy_score, precision_score, recall_score, f1_score, confusion_matrix\n",
        "\n",
        "np.random.seed(42)\n",
        "tf.random.set_seed(42)\n",
        "\n",
        "#Load the MNIST Dataset\n",
        "(x_train_data, y_train_data), (x_val_data, y_val_data) = keras.datasets.mnist.load_data()\n",
        "\n",
        "#Normalize the Data by scaling the pixel values of the images to the range [0, 1] by dividing by 255.0.\n",
        "x_train_data = tf.cast(x_train_data, tf.float32) / 255.0  # Normalize pixel values\n",
        "x_val_data = tf.cast(x_val_data, tf.float32) / 255.0\n",
        "\n",
        "#One-Hot Encode the Labels by converting the digit labels (0–9) into one-hot encoded vectors.\n",
        "y_train_data = tf.one_hot(y_train_data, depth=10)\n",
        "y_val_data = tf.one_hot(y_val_data, depth=10)\n",
        "\n",
        "#To build the Neural Network Model, create a sequential model with the following architecture:\n",
        "#A Flatten layer to convert each 28x28 image into a 1D vector.\n",
        "#A Dense hidden layer with 128 neurons and ReLU activation.\n",
        "#An output Dense layer with 10 neurons and softmax activation (for the 10 classes).\n",
        "model = keras.Sequential([\n",
        "    keras.layers.Reshape(target_shape=(28 * 28,), input_shape=(28, 28)),\n",
        "    keras.layers.Dense(units=128, activation='relu'),\n",
        "    keras.layers.Dense(units=10, activation='softmax')\n",
        "])\n",
        "\n",
        "#Compile the model with the following settings: Optimizer: ‘adam’ Loss function: ‘categorical_crossentropy’ Metrics: [‘accuracy’]\n",
        "model.compile(optimizer='adam',\n",
        "              loss=tf.losses.CategoricalCrossentropy(from_logits=True),\n",
        "              metrics=['accuracy'])\n",
        "\n",
        "#Train the Model and Evaluate it on the test dataset.\n",
        "history = model.fit(\n",
        "    x = x_train_data,\n",
        "    y = y_train_data,\n",
        "    batch_size = 32,\n",
        "    epochs=10,\n",
        "    steps_per_epoch=500,\n",
        "    validation_data=(x_val_data, y_val_data),\n",
        "    validation_steps=2\n",
        ")\n",
        "\n",
        "test_loss, test_accuracy = model.evaluate(x = x_val_data, y = y_val_data)\n",
        "print(f\"Test Accuracy: {test_accuracy:.2f}\")\n",
        "\n",
        "y_pred = model.predict(x_val_data)\n",
        "y_pred = np.argmax(y_pred, axis=1)\n",
        "y_val_data = np.argmax(y_val_data, axis=1)\n",
        "metrics = {\n",
        "    'accuracy': accuracy_score(y_val_data, y_pred),\n",
        "    'precision': precision_score(y_val_data, y_pred, average='weighted'),\n",
        "    'recall': recall_score(y_val_data, y_pred, average='weighted'),\n",
        "    'f1': f1_score(y_val_data, y_pred, average='weighted')\n",
        "}\n",
        "\n",
        "print(metrics)\n",
        "\n",
        "# Compute confusion matrix\n",
        "cm = confusion_matrix(y_val_data, y_pred)\n",
        "\n",
        "# Display the confusion matrix\n",
        "disp = ConfusionMatrixDisplay(confusion_matrix=cm)\n",
        "disp.plot(cmap='Blues')"
      ],
      "metadata": {
        "colab": {
          "base_uri": "https://localhost:8080/",
          "height": 996
        },
        "id": "Xh4QGmSiLQNY",
        "outputId": "1f1ccf6c-9391-469b-c6aa-775f1b070269"
      },
      "id": "Xh4QGmSiLQNY",
      "execution_count": 2,
      "outputs": [
        {
          "output_type": "stream",
          "name": "stdout",
          "text": [
            "Epoch 1/10\n"
          ]
        },
        {
          "output_type": "stream",
          "name": "stderr",
          "text": [
            "/usr/local/lib/python3.11/dist-packages/keras/src/layers/reshaping/reshape.py:39: UserWarning: Do not pass an `input_shape`/`input_dim` argument to a layer. When using Sequential models, prefer using an `Input(shape)` object as the first layer in the model instead.\n",
            "  super().__init__(**kwargs)\n",
            "/usr/local/lib/python3.11/dist-packages/keras/src/backend/tensorflow/nn.py:666: UserWarning: \"`categorical_crossentropy` received `from_logits=True`, but the `output` argument was produced by a Softmax activation and thus does not represent logits. Was this intended?\n",
            "  output, from_logits = _get_logits(\n"
          ]
        },
        {
          "output_type": "stream",
          "name": "stdout",
          "text": [
            "\u001b[1m500/500\u001b[0m \u001b[32m━━━━━━━━━━━━━━━━━━━━\u001b[0m\u001b[37m\u001b[0m \u001b[1m3s\u001b[0m 4ms/step - accuracy: 0.7917 - loss: 0.7319 - val_accuracy: 0.9688 - val_loss: 0.2046\n",
            "Epoch 2/10\n",
            "\u001b[1m500/500\u001b[0m \u001b[32m━━━━━━━━━━━━━━━━━━━━\u001b[0m\u001b[37m\u001b[0m \u001b[1m2s\u001b[0m 3ms/step - accuracy: 0.9288 - loss: 0.2480 - val_accuracy: 0.9688 - val_loss: 0.1200\n",
            "Epoch 3/10\n",
            "\u001b[1m500/500\u001b[0m \u001b[32m━━━━━━━━━━━━━━━━━━━━\u001b[0m\u001b[37m\u001b[0m \u001b[1m2s\u001b[0m 3ms/step - accuracy: 0.9436 - loss: 0.1951 - val_accuracy: 0.9844 - val_loss: 0.0957\n",
            "Epoch 4/10\n",
            "\u001b[1m500/500\u001b[0m \u001b[32m━━━━━━━━━━━━━━━━━━━━\u001b[0m\u001b[37m\u001b[0m \u001b[1m1s\u001b[0m 3ms/step - accuracy: 0.9520 - loss: 0.1605 - val_accuracy: 0.9844 - val_loss: 0.1342\n",
            "Epoch 5/10\n",
            "\u001b[1m 33/500\u001b[0m \u001b[32m━\u001b[0m\u001b[37m━━━━━━━━━━━━━━━━━━━\u001b[0m \u001b[1m1s\u001b[0m 3ms/step - accuracy: 0.9631 - loss: 0.1431"
          ]
        },
        {
          "output_type": "stream",
          "name": "stderr",
          "text": [
            "/usr/local/lib/python3.11/dist-packages/keras/src/trainers/epoch_iterator.py:107: UserWarning: Your input ran out of data; interrupting training. Make sure that your dataset or generator can generate at least `steps_per_epoch * epochs` batches. You may need to use the `.repeat()` function when building your dataset.\n",
            "  self._interrupted_warning()\n"
          ]
        },
        {
          "output_type": "stream",
          "name": "stdout",
          "text": [
            "\u001b[1m500/500\u001b[0m \u001b[32m━━━━━━━━━━━━━━━━━━━━\u001b[0m\u001b[37m\u001b[0m \u001b[1m2s\u001b[0m 4ms/step - accuracy: 0.9601 - loss: 0.1411 - val_accuracy: 0.9688 - val_loss: 0.0867\n",
            "Epoch 6/10\n",
            "\u001b[1m500/500\u001b[0m \u001b[32m━━━━━━━━━━━━━━━━━━━━\u001b[0m\u001b[37m\u001b[0m \u001b[1m3s\u001b[0m 5ms/step - accuracy: 0.9651 - loss: 0.1193 - val_accuracy: 0.9844 - val_loss: 0.0680\n",
            "Epoch 7/10\n",
            "\u001b[1m500/500\u001b[0m \u001b[32m━━━━━━━━━━━━━━━━━━━━\u001b[0m\u001b[37m\u001b[0m \u001b[1m3s\u001b[0m 5ms/step - accuracy: 0.9668 - loss: 0.1115 - val_accuracy: 0.9844 - val_loss: 0.0412\n",
            "Epoch 8/10\n",
            "\u001b[1m500/500\u001b[0m \u001b[32m━━━━━━━━━━━━━━━━━━━━\u001b[0m\u001b[37m\u001b[0m \u001b[1m1s\u001b[0m 3ms/step - accuracy: 0.9673 - loss: 0.1018 - val_accuracy: 0.9844 - val_loss: 0.0662\n",
            "Epoch 9/10\n",
            "\u001b[1m500/500\u001b[0m \u001b[32m━━━━━━━━━━━━━━━━━━━━\u001b[0m\u001b[37m\u001b[0m \u001b[1m4s\u001b[0m 4ms/step - accuracy: 0.9731 - loss: 0.0899 - val_accuracy: 0.9844 - val_loss: 0.0600\n",
            "Epoch 10/10\n",
            "\u001b[1m500/500\u001b[0m \u001b[32m━━━━━━━━━━━━━━━━━━━━\u001b[0m\u001b[37m\u001b[0m \u001b[1m3s\u001b[0m 5ms/step - accuracy: 0.9761 - loss: 0.0796 - val_accuracy: 0.9844 - val_loss: 0.0385\n",
            "\u001b[1m313/313\u001b[0m \u001b[32m━━━━━━━━━━━━━━━━━━━━\u001b[0m\u001b[37m\u001b[0m \u001b[1m1s\u001b[0m 3ms/step - accuracy: 0.9667 - loss: 0.1072\n",
            "Test Accuracy: 0.97\n",
            "\u001b[1m313/313\u001b[0m \u001b[32m━━━━━━━━━━━━━━━━━━━━\u001b[0m\u001b[37m\u001b[0m \u001b[1m1s\u001b[0m 2ms/step\n",
            "{'accuracy': 0.9712, 'precision': 0.9713003740271472, 'recall': 0.9712, 'f1': 0.971184777732812}\n"
          ]
        },
        {
          "output_type": "execute_result",
          "data": {
            "text/plain": [
              "<sklearn.metrics._plot.confusion_matrix.ConfusionMatrixDisplay at 0x7f810e6d2250>"
            ]
          },
          "metadata": {},
          "execution_count": 2
        },
        {
          "output_type": "display_data",
          "data": {
            "text/plain": [
              "<Figure size 640x480 with 2 Axes>"
            ],
            "image/png": "[encoded data removed]"
          },
          "metadata": {}
        }
      ]
    },
    {
      "cell_type": "markdown",
      "source": [
        "In this exercise, you will manually compute the forward propagation of a simple neural network that predicts house prices based on:\n",
        "\n",
        "Square Footage (x₁)\n",
        "Number of Bedrooms (x₂)\n",
        "We will calculate the output using the following given values:\n",
        "\n",
        "Input Values:\n",
        "    x₁ = 2000 (Square Footage)\n",
        "    x₂ = 3 (Number of Bedrooms)\n",
        "Initial Weights:\n",
        "    w₁ = 0.5 (Weight for Square Footage)\n",
        "    w₂ = 0.7 (Weight for Bedrooms)\n",
        "Bias: b = 50,000\n",
        "Activation Function: ReLU (Rectified Linear Unit)\n",
        "Calculate the output value “z” before activation.\n",
        "Apply the ReLU function to compute the final prediction.\n",
        "Interpret the result: What is the predicted house price?"
      ],
      "metadata": {
        "id": "UY9mkP5BN65F"
      },
      "id": "UY9mkP5BN65F"
    },
    {
      "cell_type": "code",
      "source": [
        "z = 0.5 * 2000 + 0.7 * 3 + 50000\n",
        "price = max(0, z)\n",
        "print(\"Price is: \", price) #51002.10\n",
        "\n"
      ],
      "metadata": {
        "colab": {
          "base_uri": "https://localhost:8080/"
        },
        "id": "jMOs7SkiODUe",
        "outputId": "94d86f7e-d39e-4b47-ba3b-0f654b53694c"
      },
      "id": "jMOs7SkiODUe",
      "execution_count": 3,
      "outputs": [
        {
          "output_type": "stream",
          "name": "stdout",
          "text": [
            "Price is:  51002.1\n"
          ]
        }
      ]
    }
  ],
  "metadata": {
    "kernelspec": {
      "display_name": "Python 3",
      "language": "python",
      "name": "python3"
    },
    "language_info": {
      "codemirror_mode": {
        "name": "ipython",
        "version": 3
      },
      "file_extension": ".py",
      "mimetype": "text/x-python",
      "name": "python",
      "nbconvert_exporter": "python",
      "pygments_lexer": "ipython3",
      "version": "3.13.2"
    },
    "colab": {
      "provenance": []
    }
  },
  "nbformat": 4,
  "nbformat_minor": 5
}