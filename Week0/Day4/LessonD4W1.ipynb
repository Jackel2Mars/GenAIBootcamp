{
 "cells": [
  {
   "cell_type": "markdown",
   "id": "b4f73a47",
   "metadata": {},
   "source": [
    "1. Define a function called say_hello() that prints \"Hello, world!\" when called.\n",
    "\n",
    "2. Now modify the function to return \"Hello, world!\" instead of printing it.."
   ]
  },
  {
   "cell_type": "code",
   "execution_count": 1,
   "id": "2634ffc9",
   "metadata": {},
   "outputs": [
    {
     "name": "stdout",
     "output_type": "stream",
     "text": [
      "Hello World!\n"
     ]
    }
   ],
   "source": [
    "def say_hello():\n",
    "    print(\"Hello World!\")\n",
    "\n",
    "say_hello()"
   ]
  },
  {
   "cell_type": "code",
   "execution_count": 2,
   "id": "e771fce7",
   "metadata": {},
   "outputs": [
    {
     "name": "stdout",
     "output_type": "stream",
     "text": [
      "Hello World!\n"
     ]
    }
   ],
   "source": [
    "def say_hello():\n",
    "    return \"Hello World!\"\n",
    "\n",
    "print(say_hello())"
   ]
  },
  {
   "cell_type": "markdown",
   "id": "3cab8100",
   "metadata": {},
   "source": [
    "1. Create a function called check_weather.\n",
    "\n",
    "2. Inside the function, define a variable called weather and set it to \"sunny\".\n",
    "\n",
    "3. Use an if statement to check if the value of weather is \"sunny\". If it is, print \"It's a sunny day! Enjoy!\".\n",
    "\n",
    "4. If the weather is anything else, print \"It might rain. Take an umbrella!\".\n",
    "\n",
    "5. Call the function check_weather to see the result.\n",
    "\n",
    "6. Change the weather variable to \"raining\" and call the function again. What is the output?"
   ]
  },
  {
   "cell_type": "code",
   "execution_count": 4,
   "id": "3afb85a3",
   "metadata": {},
   "outputs": [
    {
     "name": "stdout",
     "output_type": "stream",
     "text": [
      "It might rain. Take an umbrella!\n"
     ]
    }
   ],
   "source": [
    "def check_weather():\n",
    "    weather = \"raining\"\n",
    "    if weather == \"sunny\":\n",
    "        print(\"It's a sunny day! Enjoy!\")\n",
    "    else:\n",
    "        print(\"It might rain. Take an umbrella!\")\n",
    "\n",
    "check_weather()"
   ]
  },
  {
   "cell_type": "markdown",
   "id": "0af43cda",
   "metadata": {},
   "source": [
    "Define a function called introduce_pet that takes two keyword arguments: cat_name and dog_name. The function should return a sentence introducing both pets.\n",
    "\n",
    "Call the function twice:\n",
    "\n",
    "1. Using non-keyword arguments in the correct order.\n",
    "\n",
    "2. Using keyword arguments in any order."
   ]
  },
  {
   "cell_type": "code",
   "execution_count": 5,
   "id": "dba58d9f",
   "metadata": {},
   "outputs": [
    {
     "name": "stdout",
     "output_type": "stream",
     "text": [
      "I got a cat whose name is Kitty that doesn't fight with my dog Knuckles\n",
      "I got a cat whose name is Chipie that doesn't fight with my dog Clyde\n"
     ]
    }
   ],
   "source": [
    "def introduce_pet(cat_name, dog_name):\n",
    "    return f\"I got a cat whose name is {cat_name} that doesn't fight with my dog {dog_name}\"\n",
    "\n",
    "print(introduce_pet(\"Kitty\", \"Knuckles\"))\n",
    "print(introduce_pet(dog_name=\"Clyde\", cat_name=\"Chipie\"))"
   ]
  },
  {
   "cell_type": "markdown",
   "id": "4712d9b5",
   "metadata": {},
   "source": [
    "1. Write a function greet_person that takes two parameters: name (string) and age (integer). The function should return a message that says:\n",
    "\n",
    "\"Hello, [name]! You are [age] years old.\"\n",
    "2. Modify the function greet_person to accept a default age of 25 if no age is provided.\n",
    "\n",
    "Example Outputs:\n",
    "For greet_person(\"Alice\", 30), the output should be: \"Hello, Alice! You are 30 years old.\"\n",
    "For greet_person(\"Bob\"), the output should be: \"Hello, Bob! You are 25 years old.\""
   ]
  },
  {
   "cell_type": "code",
   "execution_count": 6,
   "id": "9fc5ca33",
   "metadata": {},
   "outputs": [
    {
     "name": "stdout",
     "output_type": "stream",
     "text": [
      "Hello, Alice! You are 30 years old.\n",
      "Hello, Bob! You are 25 years old.\n"
     ]
    }
   ],
   "source": [
    "def greet_person(name, age = 25):\n",
    "    return f\"Hello, {name}! You are {age} years old.\"\n",
    "\n",
    "print(greet_person(\"Alice\", 30))\n",
    "print(greet_person(\"Bob\"))"
   ]
  },
  {
   "cell_type": "markdown",
   "id": "13f40713",
   "metadata": {},
   "source": [
    "Define a function increment_global_counter() that modifies a global variable counter using the global keyword.\n",
    "\n",
    "The function should increase counter by 1 each time it's called."
   ]
  },
  {
   "cell_type": "code",
   "execution_count": 27,
   "id": "7c9e37f5",
   "metadata": {},
   "outputs": [],
   "source": [
    "counter = 0"
   ]
  },
  {
   "cell_type": "code",
   "execution_count": 44,
   "id": "0eb6ec2e",
   "metadata": {},
   "outputs": [
    {
     "name": "stdout",
     "output_type": "stream",
     "text": [
      "17\n"
     ]
    }
   ],
   "source": [
    "def increment_global_counter():\n",
    "    global counter\n",
    "    counter += 1\n",
    "\n",
    "\n",
    "increment_global_counter()\n",
    "print(counter)\n"
   ]
  }
 ],
 "metadata": {
  "kernelspec": {
   "display_name": "Python 3",
   "language": "python",
   "name": "python3"
  },
  "language_info": {
   "codemirror_mode": {
    "name": "ipython",
    "version": 3
   },
   "file_extension": ".py",
   "mimetype": "text/x-python",
   "name": "python",
   "nbconvert_exporter": "python",
   "pygments_lexer": "ipython3",
   "version": "3.10.16"
  }
 },
 "nbformat": 4,
 "nbformat_minor": 5
}
