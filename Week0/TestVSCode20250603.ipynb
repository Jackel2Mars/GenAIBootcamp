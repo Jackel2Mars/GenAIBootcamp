{
 "cells": [
  {
   "cell_type": "markdown",
   "id": "1f1b49ca",
   "metadata": {},
   "source": [
    "test1"
   ]
  },
  {
   "cell_type": "code",
   "execution_count": 1,
   "id": "e26af474",
   "metadata": {},
   "outputs": [
    {
     "name": "stdout",
     "output_type": "stream",
     "text": [
      "Hello, world!\n",
      "42\n",
      "3.14\n",
      "The answer is 42\n",
      "3.14 is a float\n",
      "True\n"
     ]
    }
   ],
   "source": [
    "print(\"Hello, world!\")\n",
    "print(42)\n",
    "print(3.14)\n",
    "print(\"The answer is\", 42)  # String and integer\n",
    "print(3.14, \"is a float\")  # Float and string\n",
    "print(True)  # Boolean (True/False)"
   ]
  },
  {
   "cell_type": "code",
   "execution_count": null,
   "id": "9f8ce194",
   "metadata": {},
   "outputs": [],
   "source": [
    "x = 5\n",
    "print(x)"
   ]
  },
  {
   "cell_type": "markdown",
   "id": "31577288",
   "metadata": {},
   "source": [
    "Exercice varaiables"
   ]
  },
  {
   "cell_type": "code",
   "execution_count": 8,
   "id": "0f4704d8",
   "metadata": {},
   "outputs": [
    {
     "name": "stdout",
     "output_type": "stream",
     "text": [
      "You are  43  years old.\n"
     ]
    }
   ],
   "source": [
    "age = input(\"May I know your age, pretty please with sugar on top? \")\n",
    "print(\"You are \", age, \" years old.\")"
   ]
  },
  {
   "cell_type": "markdown",
   "id": "4812befd",
   "metadata": {},
   "source": [
    "Exercice 1 Datatypes"
   ]
  },
  {
   "cell_type": "code",
   "execution_count": 3,
   "id": "6b092df8",
   "metadata": {},
   "outputs": [
    {
     "name": "stdout",
     "output_type": "stream",
     "text": [
      "13\n",
      "8\n",
      "32\n",
      "6.0\n",
      "2\n",
      "1\n",
      "216\n",
      "-12\n"
     ]
    }
   ],
   "source": [
    "variable_sum = 10 + 3\n",
    "print(variable_sum)\n",
    "variable_difference = 15 - 7\n",
    "print(variable_difference)\n",
    "variable_multiply = 4 * 8\n",
    "print(variable_multiply)\n",
    "variable_divide = 18 / 3\n",
    "print(variable_divide)\n",
    "variable_floor_divide = 11 // 4\n",
    "print(variable_floor_divide)\n",
    "variable_modulo = 9 % 4\n",
    "print(variable_modulo)\n",
    "variable_power = 6 ** 3\n",
    "print(variable_power)\n",
    "variable_negative = -12\n",
    "print(variable_negative)"
   ]
  },
  {
   "cell_type": "markdown",
   "id": "7b2bc61b",
   "metadata": {},
   "source": [
    "Exercice 2 Datatypes"
   ]
  },
  {
   "cell_type": "code",
   "execution_count": 20,
   "id": "49596aa7",
   "metadata": {},
   "outputs": [
    {
     "name": "stdout",
     "output_type": "stream",
     "text": [
      "peach\n",
      "6\n",
      "Asohka Tano\n"
     ]
    }
   ],
   "source": [
    "fruits = [\"banana\", \"peach\", \"cherry\", \"apricot\", \"fig\"]\n",
    "print(fruits[1])\n",
    "set_of_numbers = {1, 2, 3, 4, 5, 6}\n",
    "#print(set_of_numbers[5]) --> TypeError: 'set' object is not subscriptable, Need  to cast as list?\n",
    "print(list(set_of_numbers)[-1])\n",
    "star_wars_characters = (\"Leïa Organa\", \"Padme Amidala\", \"Asohka Tano\", \"Darth Talon\", \"Shaak' Ti\")\n",
    "print(star_wars_characters[2])\n",
    "girl_a = {\n",
    "    \"name\" : \"Alice\",\n",
    "    \"age\" : 23,\n",
    "    \"city of residence\" : \"New York\"\n",
    "}"
   ]
  },
  {
   "cell_type": "markdown",
   "id": "0dd647ee",
   "metadata": {},
   "source": [
    "Exercice 1 \"Conditionals and If statements\""
   ]
  },
  {
   "cell_type": "code",
   "execution_count": 23,
   "id": "5f197a50",
   "metadata": {},
   "outputs": [
    {
     "name": "stdout",
     "output_type": "stream",
     "text": [
      "Your name is John\n",
      "Bye!\n"
     ]
    }
   ],
   "source": [
    "name = \"John\"\n",
    "if name == \"Matt\":\n",
    "    print(\"Your name is Matt\")\n",
    "elif name == \"John\":\n",
    "    print(\"Your name is John\")\n",
    "print(\"Bye!\")"
   ]
  },
  {
   "cell_type": "markdown",
   "id": "7a16b797",
   "metadata": {},
   "source": [
    "Exercice 1 \"Conditionals and If statements\""
   ]
  },
  {
   "cell_type": "code",
   "execution_count": 26,
   "id": "289f0de7",
   "metadata": {},
   "outputs": [
    {
     "name": "stdout",
     "output_type": "stream",
     "text": [
      "Try again!\n"
     ]
    }
   ],
   "source": [
    "# Prompt the user for input\n",
    "secret_word = input(\"Guess the secret word: \")\n",
    "\n",
    "# Check the input and respond accordingly\n",
    "if secret_word == \"Python\":\n",
    "    print(\"Correct! You guessed the secret word!\")\n",
    "elif secret_word == \"Java\":\n",
    "    print(\"Not quite, but close!\")\n",
    "else:\n",
    "    print(\"Try again!\")"
   ]
  },
  {
   "cell_type": "markdown",
   "id": "6280bab9",
   "metadata": {},
   "source": [
    "Exercice 1 \"For Loops\""
   ]
  },
  {
   "cell_type": "code",
   "execution_count": 28,
   "id": "c2a36ba6",
   "metadata": {},
   "outputs": [
    {
     "name": "stdout",
     "output_type": "stream",
     "text": [
      "I love  apple\n",
      "I love  banana\n",
      "I love  cherry\n",
      "I love  kiwi\n",
      "I love  peach\n",
      "I love  fig\n",
      "I love  apricot\n"
     ]
    }
   ],
   "source": [
    "# Example: Looping through a list\n",
    "fruits = [\"apple\", \"banana\", \"cherry\", \"kiwi\", \"peach\", \"fig\", \"apricot\"]\n",
    "\n",
    "for fruit in fruits:\n",
    "    print(\"I love \", fruit)"
   ]
  },
  {
   "cell_type": "markdown",
   "id": "438e470f",
   "metadata": {},
   "source": [
    "Exercice 2 \"For Loops\""
   ]
  },
  {
   "cell_type": "code",
   "execution_count": 31,
   "id": "473efb57",
   "metadata": {},
   "outputs": [
    {
     "name": "stdout",
     "output_type": "stream",
     "text": [
      "I love the movie gladiator\n",
      "I love the movie eastern promises\n",
      "I love the movie the wisdom of crocodiles\n",
      "I love the movie salt\n",
      "I love the movie ash\n",
      "I love the movie everytime, everywhere, all at once\n"
     ]
    }
   ],
   "source": [
    "# Example: Looping through a list\n",
    "movies = [\"gladiator\", \"eastern promises\", \"the wisdom of crocodiles\", \"salt\", \"ash\", \"everytime, everywhere, all at once\"]\n",
    "\n",
    "for movie in movies:\n",
    "    print(\"I love the movie\", movie)"
   ]
  }
 ],
 "metadata": {
  "kernelspec": {
   "display_name": "Python 3",
   "language": "python",
   "name": "python3"
  },
  "language_info": {
   "codemirror_mode": {
    "name": "ipython",
    "version": 3
   },
   "file_extension": ".py",
   "mimetype": "text/x-python",
   "name": "python",
   "nbconvert_exporter": "python",
   "pygments_lexer": "ipython3",
   "version": "3.10.16"
  }
 },
 "nbformat": 4,
 "nbformat_minor": 5
}
