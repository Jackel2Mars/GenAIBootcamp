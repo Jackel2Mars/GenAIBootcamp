{
 "cells": [
  {
   "cell_type": "code",
   "execution_count": 6,
   "id": "42ce40c0",
   "metadata": {},
   "outputs": [
    {
     "name": "stdout",
     "output_type": "stream",
     "text": [
      "PYTHON IS FUN!\n",
      "Python is fun!\n",
      "Python Is Fun!\n",
      "10\n",
      "7\n"
     ]
    }
   ],
   "source": [
    "text = \"Python is Fun!\"\n",
    "print(text.upper())\n",
    "print(text.capitalize())\n",
    "print(text.title())\n",
    "print(text.index(\"F\"))\n",
    "#print(text.index(\"f\"))\n",
    "#it returns ValueError: substring not found\n",
    "print(text.find(\"is\"))\n"
   ]
  },
  {
   "cell_type": "code",
   "execution_count": 20,
   "id": "2f11bbb2",
   "metadata": {},
   "outputs": [
    {
     "name": "stdout",
     "output_type": "stream",
     "text": [
      "11\n",
      "True\n",
      "Contains spaces\n"
     ]
    }
   ],
   "source": [
    "sentence = input(\"Write down a sentence.\")\n",
    "if not sentence.isalpha():\n",
    "    for char in sentence:\n",
    "        if not char.isalpha():\n",
    "            not_alpha_count = not_alpha_count + 1\n",
    "    print(not_alpha_count)\n",
    "else:\n",
    "    print(\"All aphabetical!\")\n",
    "print(sentence.endswith(\"!\"))\n",
    "if \" \" in sentence:\n",
    "    print(\"Contains spaces\")"
   ]
  },
  {
   "cell_type": "code",
   "execution_count": 31,
   "id": "207b8d80",
   "metadata": {},
   "outputs": [
    {
     "name": "stdout",
     "output_type": "stream",
     "text": [
      "apple\n",
      "cherry\n",
      "['apple', 'blueberry', 'cherry', 'date', 'elderberry']\n",
      "['apple', 'blueberry', 'cherry', 'date', 'elderberry', 'fig']\n",
      "['grape', 'apple', 'blueberry', 'cherry', 'date', 'elderberry', 'fig']\n",
      "['grape', 'apple', 'blueberry', 'date', 'elderberry', 'fig']\n",
      "['grape', 'apple', 'blueberry', 'date', 'elderberry']\n",
      "['grape', 'apple', 'blueberry', 'date', 'elderberry', 'rapsberry', 'strawberry']\n",
      "['apple', 'blueberry', 'date', 'elderberry', 'grape', 'rapsberry', 'strawberry']\n",
      "['grape', 'rapsberry', 'strawberry']\n"
     ]
    }
   ],
   "source": [
    "fruits = [\"apple\", \"banana\", \"cherry\", \"date\", \"elderberry\"]\n",
    "print(fruits[0])\n",
    "print(fruits[2])\n",
    "#print(fruits[6]) --> IndexError: list index out of range\n",
    "fruits[1] = \"blueberry\"\n",
    "print (fruits)\n",
    "fruits.append(\"fig\")\n",
    "print(fruits)\n",
    "fruits.insert(0, \"grape\")\n",
    "print(fruits)\n",
    "fruits.remove(\"cherry\")\n",
    "print(fruits)\n",
    "fruits.pop(len(fruits)-1)\n",
    "print(fruits)\n",
    "berries = [\"rapsberry\", \"strawberry\"]\n",
    "combined_list = fruits + berries\n",
    "print(combined_list)\n",
    "combined_list.sort()\n",
    "print(combined_list)\n",
    "print(combined_list[-3:])"
   ]
  },
  {
   "cell_type": "code",
   "execution_count": 32,
   "id": "88a50edb",
   "metadata": {},
   "outputs": [
    {
     "name": "stdout",
     "output_type": "stream",
     "text": [
      "apple\n",
      "banana\n",
      "cherry\n",
      "date\n"
     ]
    }
   ],
   "source": [
    "fruits = [\"apple\", \"banana\", \"cherry\", \"date\"]\n",
    "for fruit in fruits:\n",
    "    print (fruit)"
   ]
  },
  {
   "cell_type": "code",
   "execution_count": 35,
   "id": "6af1e270",
   "metadata": {},
   "outputs": [
    {
     "name": "stdout",
     "output_type": "stream",
     "text": [
      "1\n",
      "2\n",
      "3\n",
      "4\n",
      "5\n"
     ]
    }
   ],
   "source": [
    "count = 1\n",
    "while count <= 5:\n",
    "    print(count)\n",
    "    count +=1"
   ]
  },
  {
   "cell_type": "code",
   "execution_count": 40,
   "id": "41500fad",
   "metadata": {},
   "outputs": [
    {
     "name": "stdout",
     "output_type": "stream",
     "text": [
      "George Orwell\n",
      "{'1984': 'George Orwell', 'Brave New World': 'Aldous Huxley', 'The Great Gatsby': 'Francis Scott Fitzgerald'}\n",
      "{'1984': 'George Orwell', 'Brave New World': 'Aldous Huxley', 'The Great Gatsby': 'Francis Scott Fitzgerald', 'Moby Dick': 'Hermann Melleville'}\n",
      "None\n",
      "{'1984': 'George Orwell', 'The Great Gatsby': 'Francis Scott Fitzgerald', 'Moby Dick': 'Hermann Melleville'}\n"
     ]
    }
   ],
   "source": [
    "books = {\n",
    "    '1984': 'George Orwell',\n",
    "    'Brave New World': 'Aldous Huxley',\n",
    "    'The Great Gatsby': 'F. Scott Fitzgerald'\n",
    "}\n",
    "print(books['1984'])\n",
    "books['The Great Gatsby'] = \"Francis Scott Fitzgerald\"\n",
    "print(books)\n",
    "books['Moby Dick'] = \"Hermann Melleville\"\n",
    "print(books)\n",
    "print(books.get('To Kill a Mockingbird'))\n",
    "books.pop(\"Brave New World\")\n",
    "print(books)"
   ]
  },
  {
   "cell_type": "code",
   "execution_count": 44,
   "id": "38200a73",
   "metadata": {},
   "outputs": [
    {
     "name": "stdout",
     "output_type": "stream",
     "text": [
      "peach\n",
      "1\n",
      "1\n"
     ]
    }
   ],
   "source": [
    "favorite_fruits = (\"peach\", \"pear\", \"kiwi\")\n",
    "print(favorite_fruits[0])\n",
    "print(favorite_fruits.count(\"kiwi\"))\n",
    "print(favorite_fruits.index(\"pear\"))"
   ]
  },
  {
   "cell_type": "code",
   "execution_count": 49,
   "id": "bef3f414",
   "metadata": {},
   "outputs": [
    {
     "name": "stdout",
     "output_type": "stream",
     "text": [
      "{1, 26, 20, 8, 10, 13}\n",
      "set()\n"
     ]
    }
   ],
   "source": [
    "favorite_numbers = {1, 10, 20, 13, 8}\n",
    "favorite_numbers.add(26)\n",
    "print(favorite_numbers)\n",
    "#favorite_numbers.clear()\n",
    "#print(favorite_numbers)\n",
    "prime_numbers = {2, 3, 5, 7, 11}\n",
    "print(favorite_numbers.intersection(prime_numbers))"
   ]
  },
  {
   "cell_type": "code",
   "execution_count": 51,
   "id": "01cd88ca",
   "metadata": {},
   "outputs": [
    {
     "name": "stdout",
     "output_type": "stream",
     "text": [
      "{'name': 'Jaled', 'surname': 'Tazit', 'gender': 'male'}\n"
     ]
    }
   ],
   "source": [
    "moi = {\n",
    "    'name' : 'Jaled',\n",
    "    'surname' : 'Tazit',\n",
    "    'gender' : 'male'\n",
    "}\n",
    "print(moi)"
   ]
  }
 ],
 "metadata": {
  "kernelspec": {
   "display_name": "Python 3",
   "language": "python",
   "name": "python3"
  },
  "language_info": {
   "codemirror_mode": {
    "name": "ipython",
    "version": 3
   },
   "file_extension": ".py",
   "mimetype": "text/x-python",
   "name": "python",
   "nbconvert_exporter": "python",
   "pygments_lexer": "ipython3",
   "version": "3.10.16"
  }
 },
 "nbformat": 4,
 "nbformat_minor": 5
}
