{
 "cells": [
  {
   "cell_type": "markdown",
   "id": "441246e3",
   "metadata": {},
   "source": [
    "1. Environment Definition\n",
    "\n",
    "The agent must operate in a high-stakes, real-time emergency response environment. Its inputs include:\n",
    "\n",
    "🗣️ Caller input: voice or text (transcribed) reporting symptoms\n",
    "📍 Location data: GPS coordinates or address\n",
    "🧾 Caller profile: name, age, medical history (if on record)\n",
    "📞 Call context: time, call history, previous interventions"
   ]
  },
  {
   "cell_type": "markdown",
   "id": "9e73d9f3",
   "metadata": {},
   "source": [
    "2. Tools & Integrations\n",
    "| Tool Name                                   | Purpose                                     | Input                                     | Output                                  |\n",
    "| ------------------------------------------- | ------------------------------------------- | ----------------------------------------- | --------------------------------------- |\n",
    "| **Symptom Checker API** (e.g., Infermedica) | Analyze symptoms to infer likely conditions | Text description of symptoms, age, gender | Condition likelihoods, urgency estimate |\n",
    "| **Ambulance Dispatch API**                  | Schedule emergency medical transport        | Location, urgency level, patient info     | Dispatch confirmation or ETA            |\n",
    "| **Triage Scoring Model** (custom LLM)       | Assess severity and urgency level           | Symptoms, vital signs, patient history    | Urgency score (0–100)                   |\n",
    "| **GIS Service**                             | Map lookup and route optimization           | GPS coordinates                           | ETA, closest hospital/clinic            |\n"
   ]
  },
  {
   "cell_type": "markdown",
   "id": "f7dc37c2",
   "metadata": {},
   "source": [
    "3. State Management Schema\n",
    "\n",
    "The agent must persist state during the call for context continuity. A JSON-style schema:"
   ]
  },
  {
   "cell_type": "code",
   "execution_count": null,
   "id": "75cf68f7",
   "metadata": {},
   "outputs": [],
   "source": [
    "{\n",
    "  \"caller_id\": \"12345678\",\n",
    "  \"name\": \"John Doe\",\n",
    "  \"age\": 45,\n",
    "  \"location\": {\n",
    "    \"lat\": 37.7749,\n",
    "    \"lon\": -122.4194,\n",
    "    \"address\": \"123 Main St, San Francisco, CA\"\n",
    "  },\n",
    "  \"reported_symptoms\": [\"chest pain\", \"shortness of breath\"],\n",
    "  \"severity_keywords\": [\"acute\", \"radiating\", \"pressure\"],\n",
    "  \"urgency_score\": 87,\n",
    "  \"urgency_level\": \"High\",\n",
    "  \"actions_taken\": [\"Queried Triage Model\", \"Dispatched Ambulance\"],\n",
    "  \"call_start_time\": \"2025-07-31T14:30:00Z\"\n",
    "}\n"
   ]
  },
  {
   "cell_type": "markdown",
   "id": "365be4e4",
   "metadata": {},
   "source": [
    "4. Decision-Making Process\n",
    "\n",
    "Pseudocode:"
   ]
  },
  {
   "cell_type": "code",
   "execution_count": null,
   "id": "6d8b2beb",
   "metadata": {},
   "outputs": [],
   "source": [
    "symptoms = parse_symptoms(transcript)\n",
    "severity_keywords = extract_keywords(symptoms)\n",
    "urgency_score = triage_model.predict(symptoms, patient_history)\n",
    "\n",
    "if urgency_score >= 80:\n",
    "    urgency_level = \"High\"\n",
    "    dispatch_ambulance(location, caller_info)\n",
    "elif urgency_score >= 50:\n",
    "    urgency_level = \"Medium\"\n",
    "    suggest_nearest_urgent_care(location)\n",
    "else:\n",
    "    urgency_level = \"Low\"\n",
    "    offer_self_care_advice(symptoms)\n",
    "\n",
    "update_state(caller_id, symptoms, urgency_score, urgency_level, actions_taken)\n",
    "log_decision()\n"
   ]
  },
  {
   "cell_type": "markdown",
   "id": "9a0072c9",
   "metadata": {},
   "source": [
    "Flowchart:"
   ]
  },
  {
   "cell_type": "raw",
   "id": "a6857224",
   "metadata": {},
   "source": [
    "[Receive Call]\n",
    "     ↓\n",
    "[Parse Symptoms]\n",
    "     ↓\n",
    "[Query Triage Model] → [Get Urgency Score]\n",
    "     ↓\n",
    "[Compare Score]\n",
    "     ↓\n",
    " ┌────────────┬────────────┬────────────┐\n",
    " │Score ≥ 80  │Score ≥ 50  │Score < 50  │\n",
    " │High        │Medium      │Low         │\n",
    " │→ Dispatch  │→ Advise     │→ Self-care│\n",
    " │ Ambulance  │ Urgent Care│  Guidance │\n",
    " └────────────┴────────────┴────────────┘\n"
   ]
  },
  {
   "cell_type": "markdown",
   "id": "5ac70c78",
   "metadata": {},
   "source": [
    "5. Agent Architecture Classification\n",
    "\n",
    "✅ Chosen: Hybrid Agent\n",
    "Memory: Maintains full state (caller profile, symptoms, past actions)\n",
    "Planning: Leverages symptom analysis, triage model, and tool sequencing\n",
    "Reactivity: Responds quickly to critical scores with dispatch action\n",
    "\n",
    "Justification: A hybrid architecture balances quick reactions to emergencies with thoughtful planning for mid-severity cases. It uses memory to ensure coherent advice and safe decision-making under uncertainty."
   ]
  },
  {
   "cell_type": "markdown",
   "id": "bdcd2084",
   "metadata": {},
   "source": [
    "6. Comparison: Hybrid vs. Reactive Agent\n",
    "\n",
    "| Feature          | Hybrid Agent                              | Reactive Agent                      |\n",
    "| ---------------- | ----------------------------------------- | ----------------------------------- |\n",
    "| **Memory Use**   | Maintains caller state, history           | Stateless or minimal memory         |\n",
    "| **Planning**     | Uses multi-step reasoning & tool chaining | Responds directly to current inputs |\n",
    "| **Tool Use**     | Orchestrates tools sequentially           | Uses tools immediately as needed    |\n",
    "| **Speed**        | Slightly slower due to planning           | Fastest response time               |\n",
    "| **Reliability**  | More consistent with complex logic        | May misjudge nuanced cases          |\n",
    "| **Intelligence** | Higher reasoning ability                  | Lower due to no history/planning    |\n"
   ]
  },
  {
   "cell_type": "markdown",
   "id": "9af98dac",
   "metadata": {},
   "source": [
    "7. Reflection Answers\n",
    "\n",
    "Q1: What fails if your agent does not maintain state?\n",
    "If state is not preserved, the agent will:\n",
    "\n",
    "Lose track of already reported symptoms or actions taken\n",
    "Repeat steps unnecessarily or offer inconsistent advice\n",
    "Risk misclassifying urgency, leading to under- or over-response\n",
    "In emergency scenarios, state continuity is critical to avoid errors and save time.\n",
    "\n",
    "Q2: Why are external tools essential in EMR dispatch?\n",
    "Emergency dispatch involves medical knowledge, logistical coordination, and geospatial data—all beyond a standalone AI’s capacity. External tools provide:\n",
    "\n",
    "Medical reasoning via symptom-checkers and triage models\n",
    "Real-world action via dispatch and GIS APIs\n",
    "Current data for patient outcomes and location routing\n",
    "They extend the agent's abilities, ensuring safer and smarter decisions under pressure."
   ]
  }
 ],
 "metadata": {
  "language_info": {
   "name": "python"
  }
 },
 "nbformat": 4,
 "nbformat_minor": 5
}
