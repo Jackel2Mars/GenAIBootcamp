{
 "cells": [
  {
   "cell_type": "markdown",
   "id": "8186ba7f",
   "metadata": {},
   "source": [
    "EXERCICE #1"
   ]
  },
  {
   "cell_type": "markdown",
   "id": "ca9fa59d",
   "metadata": {},
   "source": [
    "Declare a variable called first and assign it to the value \"Hello World\""
   ]
  },
  {
   "cell_type": "code",
   "execution_count": null,
   "id": "a23924a0",
   "metadata": {},
   "outputs": [],
   "source": [
    "first = \"Hello World\""
   ]
  },
  {
   "cell_type": "markdown",
   "id": "df710a09",
   "metadata": {},
   "source": [
    "Write a comment that says \"This is a comment.\""
   ]
  },
  {
   "cell_type": "code",
   "execution_count": null,
   "id": "559af033",
   "metadata": {},
   "outputs": [],
   "source": [
    "#This is a comment."
   ]
  },
  {
   "cell_type": "markdown",
   "id": "86e46368",
   "metadata": {},
   "source": [
    "Log a message to the terminal that says \"I AM A COMPUTER!\""
   ]
  },
  {
   "cell_type": "code",
   "execution_count": null,
   "id": "0563242e",
   "metadata": {},
   "outputs": [],
   "source": [
    "print(\"I AM A COMPUTER\")"
   ]
  },
  {
   "cell_type": "markdown",
   "id": "d741229f",
   "metadata": {},
   "source": [
    "Write an if statement that checks if 1 is less than 2 and if 4 is greater than 2. If it is, show the message \"Math is fun.\""
   ]
  },
  {
   "cell_type": "code",
   "execution_count": null,
   "id": "7b2a228e",
   "metadata": {},
   "outputs": [],
   "source": [
    "if 1 < 2 and 4 > 2:\n",
    "    print(\"Math is fun\")"
   ]
  },
  {
   "cell_type": "markdown",
   "id": "2546ddf3",
   "metadata": {},
   "source": [
    "Assign a variable called nope to an absence of value."
   ]
  },
  {
   "cell_type": "code",
   "execution_count": null,
   "id": "a3f6b210",
   "metadata": {},
   "outputs": [],
   "source": [
    "nope = None"
   ]
  },
  {
   "cell_type": "markdown",
   "id": "4b71e1b6",
   "metadata": {},
   "source": [
    "Use the language’s “and” boolean operator to combine the language’s “true” value with its “false” value"
   ]
  },
  {
   "cell_type": "code",
   "execution_count": null,
   "id": "2542093f",
   "metadata": {},
   "outputs": [],
   "source": [
    "True and False"
   ]
  },
  {
   "cell_type": "markdown",
   "id": "3c3e79f9",
   "metadata": {},
   "source": [
    "Calculate the length of the string \"What's my length?\""
   ]
  },
  {
   "cell_type": "code",
   "execution_count": null,
   "id": "8834ea5f",
   "metadata": {},
   "outputs": [],
   "source": [
    "len(\"What's my length?\")"
   ]
  },
  {
   "cell_type": "markdown",
   "id": "9338e1c8",
   "metadata": {},
   "source": [
    "Convert the string \"i am shouting\" to uppercase."
   ]
  },
  {
   "cell_type": "code",
   "execution_count": null,
   "id": "a8034674",
   "metadata": {},
   "outputs": [],
   "source": [
    "string_variable = \"i am shouting\"\n",
    "string_variable.upper()"
   ]
  },
  {
   "cell_type": "markdown",
   "id": "62215cb7",
   "metadata": {},
   "source": [
    "Convert the string \"1000\"to the number 1000"
   ]
  },
  {
   "cell_type": "code",
   "execution_count": null,
   "id": "e4d72456",
   "metadata": {},
   "outputs": [],
   "source": [
    "int(\"1000\")"
   ]
  },
  {
   "cell_type": "markdown",
   "id": "4a96eb6b",
   "metadata": {},
   "source": [
    "Combine the number 4 with the string \"real\" to produce \"4real\""
   ]
  },
  {
   "cell_type": "code",
   "execution_count": null,
   "id": "59716c95",
   "metadata": {},
   "outputs": [],
   "source": [
    "str(4)+\"real\""
   ]
  },
  {
   "cell_type": "markdown",
   "id": "10a5a215",
   "metadata": {},
   "source": [
    "Record the output of the expression 3 * \"cool\""
   ]
  },
  {
   "cell_type": "code",
   "execution_count": null,
   "id": "d45421bf",
   "metadata": {},
   "outputs": [],
   "source": [
    "3 * \"cool\"\n",
    "#\"coolcoolcool\""
   ]
  },
  {
   "cell_type": "markdown",
   "id": "5ee24528",
   "metadata": {},
   "source": [
    "Record the output of the expression 1 / 0"
   ]
  },
  {
   "cell_type": "code",
   "execution_count": null,
   "id": "588ee1ad",
   "metadata": {},
   "outputs": [],
   "source": [
    "1/0\n",
    "#Produces an error message --> ZeroDivisionError: division by zero"
   ]
  },
  {
   "cell_type": "markdown",
   "id": "d16accef",
   "metadata": {},
   "source": [
    "Determine the type of []"
   ]
  },
  {
   "cell_type": "code",
   "execution_count": null,
   "id": "47279efe",
   "metadata": {},
   "outputs": [],
   "source": [
    "type([])\n",
    "#it's a list."
   ]
  },
  {
   "cell_type": "markdown",
   "id": "44a166a0",
   "metadata": {},
   "source": [
    "Ask the user for their name, and store it in a variable called name"
   ]
  },
  {
   "cell_type": "code",
   "execution_count": null,
   "id": "03edec03",
   "metadata": {},
   "outputs": [],
   "source": [
    "name = input(\"What's your name? \")\n",
    "print(name)"
   ]
  },
  {
   "cell_type": "markdown",
   "id": "a355fcad",
   "metadata": {},
   "source": [
    "Ask the user for a number. If the number is negative, show a message that says \"That number is less than 0!\" If the number is positive, show a message that says \"That number is greater than 0!\" Otherwise, show a message that says \"You picked 0!"
   ]
  },
  {
   "cell_type": "code",
   "execution_count": 28,
   "id": "a6198954",
   "metadata": {},
   "outputs": [
    {
     "name": "stdout",
     "output_type": "stream",
     "text": [
      "That number is greater than 0!\n"
     ]
    }
   ],
   "source": [
    "number = float(input(\"Please enter any number. \"))\n",
    "if number < 0:\n",
    "    print(\"That number is less than 0!\")\n",
    "elif number > 0:\n",
    "     print(\"That number is greater than 0!\")\n",
    "else:\n",
    "     print(\"You picked 0!\")"
   ]
  },
  {
   "cell_type": "markdown",
   "id": "0f6f3de2",
   "metadata": {},
   "source": [
    "Find the index of \"l\" in \"apple\""
   ]
  },
  {
   "cell_type": "code",
   "execution_count": 30,
   "id": "ba125cf8",
   "metadata": {},
   "outputs": [
    {
     "name": "stdout",
     "output_type": "stream",
     "text": [
      "3\n"
     ]
    }
   ],
   "source": [
    "string_to_investigate = \"apple\"\n",
    "index_of_l = string_to_investigate.index(\"l\")\n",
    "print(index_of_l)"
   ]
  },
  {
   "cell_type": "markdown",
   "id": "fdf6dd24",
   "metadata": {},
   "source": [
    "Check whether \"y\" is in \"xylophone\""
   ]
  },
  {
   "cell_type": "code",
   "execution_count": 33,
   "id": "9379b2dd",
   "metadata": {},
   "outputs": [
    {
     "data": {
      "text/plain": [
       "True"
      ]
     },
     "execution_count": 33,
     "metadata": {},
     "output_type": "execute_result"
    }
   ],
   "source": [
    "\"y\" in \"xylophone\""
   ]
  },
  {
   "cell_type": "markdown",
   "id": "ff438d89",
   "metadata": {},
   "source": [
    "Check whether a string called my_string is all in lowercase."
   ]
  },
  {
   "cell_type": "code",
   "execution_count": 34,
   "id": "7e221706",
   "metadata": {},
   "outputs": [
    {
     "data": {
      "text/plain": [
       "False"
      ]
     },
     "execution_count": 34,
     "metadata": {},
     "output_type": "execute_result"
    }
   ],
   "source": [
    "my_string = \"I am not actually sure I should actually instantiate it.\"\n",
    "my_string.islower()"
   ]
  },
  {
   "cell_type": "markdown",
   "id": "50ebc7f3",
   "metadata": {},
   "source": [
    "EXERCICE #2"
   ]
  },
  {
   "cell_type": "code",
   "execution_count": 37,
   "id": "8a849243",
   "metadata": {},
   "outputs": [
    {
     "name": "stdout",
     "output_type": "stream",
     "text": [
      "[2, 24, 24]\n"
     ]
    }
   ],
   "source": [
    "#We retrieve the number of years in human time\"\n",
    "humanYears = int(input(\"Enter the number of human years: \"))\n",
    "\n",
    "#We calculate equivalents for catYears and dogYears for first Year\n",
    "if humanYears == 1:\n",
    "    catYears = 15\n",
    "    dogYears = 15\n",
    "#We calculate equivalents for catYears and dogYears for second Year\n",
    "elif humanYears == 2:\n",
    "    catYears = 15 + 9\n",
    "    dogYears = 15 + 9\n",
    "#We calculate equivalents for catYears and dogYears for years past second Year\n",
    "else:\n",
    "    catYears = 15 + 9 + (humanYears - 2) * 4\n",
    "    dogYears = 15 + 9 + (humanYears - 2) * 5\n",
    "\n",
    "print([humanYears, catYears, dogYears])\n"
   ]
  }
 ],
 "metadata": {
  "kernelspec": {
   "display_name": "Python 3",
   "language": "python",
   "name": "python3"
  },
  "language_info": {
   "codemirror_mode": {
    "name": "ipython",
    "version": 3
   },
   "file_extension": ".py",
   "mimetype": "text/x-python",
   "name": "python",
   "nbconvert_exporter": "python",
   "pygments_lexer": "ipython3",
   "version": "3.10.16"
  }
 },
 "nbformat": 4,
 "nbformat_minor": 5
}
