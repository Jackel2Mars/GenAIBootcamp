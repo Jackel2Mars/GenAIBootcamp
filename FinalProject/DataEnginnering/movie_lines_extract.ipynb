{
 "cells": [
  {
   "cell_type": "code",
   "execution_count": 8,
   "id": "690ee4ab",
   "metadata": {},
   "outputs": [],
   "source": [
    "def extract_romantic_movie_lines(movie_titles_file, movie_lines_file, output_file):\n",
    "    romance_movie_ids = set()\n",
    "\n",
    "    # Étape 1 : Identifier les films romantiques\n",
    "    with open(movie_titles_file, 'r', encoding='utf-8', errors='ignore') as f:\n",
    "        for line in f:\n",
    "            parts = line.strip().split(\" +++$+++ \")\n",
    "            if len(parts) < 5:\n",
    "                continue\n",
    "            movie_id = parts[0]\n",
    "            genres = parts[-1]\n",
    "            if \"romance\" in genres:\n",
    "                romance_movie_ids.add(movie_id)\n",
    "\n",
    "    print(f\"🎬 Films romantiques trouvés : {len(romance_movie_ids)}\")\n",
    "\n",
    "    # Étape 2 : Filtrer les lignes de dialogue\n",
    "    with open(movie_lines_file, 'r', encoding='utf-8', errors='ignore') as f_in, \\\n",
    "         open(output_file, 'w', encoding='utf-8') as f_out:\n",
    "        count = 0\n",
    "        for line in f_in:\n",
    "            parts = line.strip().split(\" +++$+++ \")\n",
    "            if len(parts) < 5:\n",
    "                continue\n",
    "            movie_id = parts[2]\n",
    "            if movie_id in romance_movie_ids:\n",
    "                f_out.write(line)\n",
    "                count += 1\n",
    "\n",
    "    print(f\"💬 Lignes de dialogue extraites : {count}\")\n",
    "    print(f\"📁 Sauvegardé dans : {output_file}\")"
   ]
  },
  {
   "cell_type": "code",
   "execution_count": 9,
   "id": "9e76be71",
   "metadata": {},
   "outputs": [
    {
     "name": "stdout",
     "output_type": "stream",
     "text": [
      "🎬 Films romantiques trouvés : 132\n",
      "💬 Lignes de dialogue extraites : 77505\n",
      "📁 Sauvegardé dans : romance_movie_lines.txt\n"
     ]
    }
   ],
   "source": [
    "extract_romantic_movie_lines(\n",
    "    movie_titles_file=\"archive/movie_titles_metadata.txt\",\n",
    "    movie_lines_file=\"archive/movie_lines.txt\",\n",
    "    output_file=\"romance_movie_lines.txt\"\n",
    ")\n"
   ]
  }
 ],
 "metadata": {
  "kernelspec": {
   "display_name": "Python 3",
   "language": "python",
   "name": "python3"
  },
  "language_info": {
   "codemirror_mode": {
    "name": "ipython",
    "version": 3
   },
   "file_extension": ".py",
   "mimetype": "text/x-python",
   "name": "python",
   "nbconvert_exporter": "python",
   "pygments_lexer": "ipython3",
   "version": "3.10.16"
  }
 },
 "nbformat": 4,
 "nbformat_minor": 5
}
