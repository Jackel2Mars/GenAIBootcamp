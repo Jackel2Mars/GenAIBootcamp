{
 "cells": [
  {
   "cell_type": "markdown",
   "id": "b51b1e04",
   "metadata": {},
   "source": [
    "Exercise 1 : Exploratory Data Analysis\n",
    "\n",
    "Instructions\n",
    "\n",
    "Load the data from CSV files\n",
    "Remove target column from the training data\n",
    "Split the data intro train/test split\n",
    "Understand the data"
   ]
  },
  {
   "cell_type": "code",
   "execution_count": 2,
   "id": "23aa4bd5",
   "metadata": {},
   "outputs": [],
   "source": [
    "#Libraries\n",
    "import pandas as pd\n",
    "from skimpy import skim\n",
    "from sklearn.model_selection import train_test_split\n",
    "import matplotlib.pyplot as plt\n",
    "\n"
   ]
  },
  {
   "cell_type": "code",
   "execution_count": 10,
   "id": "c80e2265",
   "metadata": {},
   "outputs": [
    {
     "name": "stdout",
     "output_type": "stream",
     "text": [
      "   age  sex   chest pain type  resting blood pressure  serum cholestoral  \\\n",
      "0   70     1                4                     130                322   \n",
      "1   67     0                3                     115                564   \n",
      "2   57     1                2                     124                261   \n",
      "3   64     1                4                     128                263   \n",
      "4   74     0                2                     120                269   \n",
      "\n",
      "   fasting blood sugar  resting electrocardiographic results  max heart rate  \\\n",
      "0                    0                                     2             109   \n",
      "1                    0                                     2             160   \n",
      "2                    0                                     0             141   \n",
      "3                    0                                     0             105   \n",
      "4                    0                                     2             121   \n",
      "\n",
      "   exercise induced angina  oldpeak  ST segment  major vessels  thal  \\\n",
      "0                        0      2.4           2              3     3   \n",
      "1                        0      1.6           2              0     7   \n",
      "2                        0      0.3           1              0     7   \n",
      "3                        1      0.2           2              1     7   \n",
      "4                        1      0.2           1              1     3   \n",
      "\n",
      "   heart disease  \n",
      "0              2  \n",
      "1              1  \n",
      "2              2  \n",
      "3              1  \n",
      "4              1  \n",
      "              age        sex   chest pain type  resting blood pressure  \\\n",
      "count  270.000000  270.000000       270.000000              270.000000   \n",
      "mean    54.433333    0.677778         3.174074              131.344444   \n",
      "std      9.109067    0.468195         0.950090               17.861608   \n",
      "min     29.000000    0.000000         1.000000               94.000000   \n",
      "25%     48.000000    0.000000         3.000000              120.000000   \n",
      "50%     55.000000    1.000000         3.000000              130.000000   \n",
      "75%     61.000000    1.000000         4.000000              140.000000   \n",
      "max     77.000000    1.000000         4.000000              200.000000   \n",
      "\n",
      "       serum cholestoral  fasting blood sugar  \\\n",
      "count         270.000000           270.000000   \n",
      "mean          249.659259             0.148148   \n",
      "std            51.686237             0.355906   \n",
      "min           126.000000             0.000000   \n",
      "25%           213.000000             0.000000   \n",
      "50%           245.000000             0.000000   \n",
      "75%           280.000000             0.000000   \n",
      "max           564.000000             1.000000   \n",
      "\n",
      "       resting electrocardiographic results  max heart rate  \\\n",
      "count                            270.000000      270.000000   \n",
      "mean                               1.022222      149.677778   \n",
      "std                                0.997891       23.165717   \n",
      "min                                0.000000       71.000000   \n",
      "25%                                0.000000      133.000000   \n",
      "50%                                2.000000      153.500000   \n",
      "75%                                2.000000      166.000000   \n",
      "max                                2.000000      202.000000   \n",
      "\n",
      "       exercise induced angina    oldpeak  ST segment  major vessels  \\\n",
      "count               270.000000  270.00000  270.000000     270.000000   \n",
      "mean                  0.329630    1.05000    1.585185       0.670370   \n",
      "std                   0.470952    1.14521    0.614390       0.943896   \n",
      "min                   0.000000    0.00000    1.000000       0.000000   \n",
      "25%                   0.000000    0.00000    1.000000       0.000000   \n",
      "50%                   0.000000    0.80000    2.000000       0.000000   \n",
      "75%                   1.000000    1.60000    2.000000       1.000000   \n",
      "max                   1.000000    6.20000    3.000000       3.000000   \n",
      "\n",
      "             thal  heart disease  \n",
      "count  270.000000     270.000000  \n",
      "mean     4.696296       1.444444  \n",
      "std      1.940659       0.497827  \n",
      "min      3.000000       1.000000  \n",
      "25%      3.000000       1.000000  \n",
      "50%      3.000000       1.000000  \n",
      "75%      7.000000       2.000000  \n",
      "max      7.000000       2.000000  \n",
      "<class 'pandas.core.frame.DataFrame'>\n",
      "RangeIndex: 270 entries, 0 to 269\n",
      "Data columns (total 14 columns):\n",
      " #   Column                                Non-Null Count  Dtype  \n",
      "---  ------                                --------------  -----  \n",
      " 0   age                                   270 non-null    int64  \n",
      " 1   sex                                   270 non-null    int64  \n",
      " 2   chest pain type                       270 non-null    int64  \n",
      " 3   resting blood pressure                270 non-null    int64  \n",
      " 4   serum cholestoral                     270 non-null    int64  \n",
      " 5   fasting blood sugar                   270 non-null    int64  \n",
      " 6   resting electrocardiographic results  270 non-null    int64  \n",
      " 7   max heart rate                        270 non-null    int64  \n",
      " 8   exercise induced angina               270 non-null    int64  \n",
      " 9   oldpeak                               270 non-null    float64\n",
      " 10  ST segment                            270 non-null    int64  \n",
      " 11  major vessels                         270 non-null    int64  \n",
      " 12  thal                                  270 non-null    int64  \n",
      " 13  heart disease                         270 non-null    int64  \n",
      "dtypes: float64(1), int64(13)\n",
      "memory usage: 29.7 KB\n",
      "None\n"
     ]
    },
    {
     "data": {
      "text/html": [
       "<pre style=\"white-space:pre;overflow-x:auto;line-height:normal;font-family:Menlo,'DejaVu Sans Mono',consolas,'Courier New',monospace\">╭──────────────────────────────────────────────── skimpy summary ─────────────────────────────────────────────────╮\n",
       "│ <span style=\"font-style: italic\">         Data Summary         </span> <span style=\"font-style: italic\">      Data Types       </span>                                                          │\n",
       "│ ┏━━━━━━━━━━━━━━━━━━━┳━━━━━━━━┓ ┏━━━━━━━━━━━━━┳━━━━━━━┓                                                          │\n",
       "│ ┃<span style=\"color: #008080; text-decoration-color: #008080; font-weight: bold\"> Dataframe         </span>┃<span style=\"color: #008080; text-decoration-color: #008080; font-weight: bold\"> Values </span>┃ ┃<span style=\"color: #008080; text-decoration-color: #008080; font-weight: bold\"> Column Type </span>┃<span style=\"color: #008080; text-decoration-color: #008080; font-weight: bold\"> Count </span>┃                                                          │\n",
       "│ ┡━━━━━━━━━━━━━━━━━━━╇━━━━━━━━┩ ┡━━━━━━━━━━━━━╇━━━━━━━┩                                                          │\n",
       "│ │ Number of rows    │ 270    │ │ int64       │ 13    │                                                          │\n",
       "│ │ Number of columns │ 14     │ │ float64     │ 1     │                                                          │\n",
       "│ └───────────────────┴────────┘ └─────────────┴───────┘                                                          │\n",
       "│ <span style=\"font-style: italic\">                                                    number                                                    </span>  │\n",
       "│ ┏━━━━━━━━━━━━━━━━━━━━━━━━━━┳━━━━━┳━━━━━━━┳━━━━━━━━━━┳━━━━━━━━━━┳━━━━━━┳━━━━━━┳━━━━━━━━┳━━━━━━┳━━━━━━┳━━━━━━━━┓  │\n",
       "│ ┃<span style=\"font-weight: bold\"> column                   </span>┃<span style=\"font-weight: bold\"> NA  </span>┃<span style=\"font-weight: bold\"> NA %  </span>┃<span style=\"font-weight: bold\"> mean     </span>┃<span style=\"font-weight: bold\"> sd       </span>┃<span style=\"font-weight: bold\"> p0   </span>┃<span style=\"font-weight: bold\"> p25  </span>┃<span style=\"font-weight: bold\"> p50    </span>┃<span style=\"font-weight: bold\"> p75  </span>┃<span style=\"font-weight: bold\"> p100 </span>┃<span style=\"font-weight: bold\"> hist   </span>┃  │\n",
       "│ ┡━━━━━━━━━━━━━━━━━━━━━━━━━━╇━━━━━╇━━━━━━━╇━━━━━━━━━━╇━━━━━━━━━━╇━━━━━━╇━━━━━━╇━━━━━━━━╇━━━━━━╇━━━━━━╇━━━━━━━━┩  │\n",
       "│ │ <span style=\"color: #af87ff; text-decoration-color: #af87ff\">age                     </span> │ <span style=\"color: #008080; text-decoration-color: #008080\">  0</span> │ <span style=\"color: #008080; text-decoration-color: #008080\">    0</span> │ <span style=\"color: #008080; text-decoration-color: #008080\">   54.43</span> │ <span style=\"color: #008080; text-decoration-color: #008080\">   9.109</span> │ <span style=\"color: #008080; text-decoration-color: #008080\">  29</span> │ <span style=\"color: #008080; text-decoration-color: #008080\">  48</span> │ <span style=\"color: #008080; text-decoration-color: #008080\">    55</span> │ <span style=\"color: #008080; text-decoration-color: #008080\">  61</span> │ <span style=\"color: #008080; text-decoration-color: #008080\">  77</span> │ <span style=\"color: #008000; text-decoration-color: #008000\">▁▄▅█▅▁</span> │  │\n",
       "│ │ <span style=\"color: #af87ff; text-decoration-color: #af87ff\">sex                     </span> │ <span style=\"color: #008080; text-decoration-color: #008080\">  0</span> │ <span style=\"color: #008080; text-decoration-color: #008080\">    0</span> │ <span style=\"color: #008080; text-decoration-color: #008080\">  0.6778</span> │ <span style=\"color: #008080; text-decoration-color: #008080\">  0.4682</span> │ <span style=\"color: #008080; text-decoration-color: #008080\">   0</span> │ <span style=\"color: #008080; text-decoration-color: #008080\">   0</span> │ <span style=\"color: #008080; text-decoration-color: #008080\">     1</span> │ <span style=\"color: #008080; text-decoration-color: #008080\">   1</span> │ <span style=\"color: #008080; text-decoration-color: #008080\">   1</span> │ <span style=\"color: #008000; text-decoration-color: #008000\">▄    █</span> │  │\n",
       "│ │ <span style=\"color: #af87ff; text-decoration-color: #af87ff\">chest pain type         </span> │ <span style=\"color: #008080; text-decoration-color: #008080\">  0</span> │ <span style=\"color: #008080; text-decoration-color: #008080\">    0</span> │ <span style=\"color: #008080; text-decoration-color: #008080\">   3.174</span> │ <span style=\"color: #008080; text-decoration-color: #008080\">  0.9501</span> │ <span style=\"color: #008080; text-decoration-color: #008080\">   1</span> │ <span style=\"color: #008080; text-decoration-color: #008080\">   3</span> │ <span style=\"color: #008080; text-decoration-color: #008080\">     3</span> │ <span style=\"color: #008080; text-decoration-color: #008080\">   4</span> │ <span style=\"color: #008080; text-decoration-color: #008080\">   4</span> │ <span style=\"color: #008000; text-decoration-color: #008000\">▁ ▃ ▅█</span> │  │\n",
       "│ │ <span style=\"color: #af87ff; text-decoration-color: #af87ff\">resting blood pressure  </span> │ <span style=\"color: #008080; text-decoration-color: #008080\">  0</span> │ <span style=\"color: #008080; text-decoration-color: #008080\">    0</span> │ <span style=\"color: #008080; text-decoration-color: #008080\">   131.3</span> │ <span style=\"color: #008080; text-decoration-color: #008080\">   17.86</span> │ <span style=\"color: #008080; text-decoration-color: #008080\">  94</span> │ <span style=\"color: #008080; text-decoration-color: #008080\"> 120</span> │ <span style=\"color: #008080; text-decoration-color: #008080\">   130</span> │ <span style=\"color: #008080; text-decoration-color: #008080\"> 140</span> │ <span style=\"color: #008080; text-decoration-color: #008080\"> 200</span> │ <span style=\"color: #008000; text-decoration-color: #008000\">▃▇█▃▁ </span> │  │\n",
       "│ │ <span style=\"color: #af87ff; text-decoration-color: #af87ff\">serum cholestoral       </span> │ <span style=\"color: #008080; text-decoration-color: #008080\">  0</span> │ <span style=\"color: #008080; text-decoration-color: #008080\">    0</span> │ <span style=\"color: #008080; text-decoration-color: #008080\">   249.7</span> │ <span style=\"color: #008080; text-decoration-color: #008080\">   51.69</span> │ <span style=\"color: #008080; text-decoration-color: #008080\"> 126</span> │ <span style=\"color: #008080; text-decoration-color: #008080\"> 213</span> │ <span style=\"color: #008080; text-decoration-color: #008080\">   245</span> │ <span style=\"color: #008080; text-decoration-color: #008080\"> 280</span> │ <span style=\"color: #008080; text-decoration-color: #008080\"> 564</span> │ <span style=\"color: #008000; text-decoration-color: #008000\"> ▂█▄  </span> │  │\n",
       "│ │ <span style=\"color: #af87ff; text-decoration-color: #af87ff\">fasting blood sugar     </span> │ <span style=\"color: #008080; text-decoration-color: #008080\">  0</span> │ <span style=\"color: #008080; text-decoration-color: #008080\">    0</span> │ <span style=\"color: #008080; text-decoration-color: #008080\">  0.1481</span> │ <span style=\"color: #008080; text-decoration-color: #008080\">  0.3559</span> │ <span style=\"color: #008080; text-decoration-color: #008080\">   0</span> │ <span style=\"color: #008080; text-decoration-color: #008080\">   0</span> │ <span style=\"color: #008080; text-decoration-color: #008080\">     0</span> │ <span style=\"color: #008080; text-decoration-color: #008080\">   0</span> │ <span style=\"color: #008080; text-decoration-color: #008080\">   1</span> │ <span style=\"color: #008000; text-decoration-color: #008000\">█    ▁</span> │  │\n",
       "│ │ <span style=\"color: #af87ff; text-decoration-color: #af87ff\">resting                 </span> │ <span style=\"color: #008080; text-decoration-color: #008080\">  0</span> │ <span style=\"color: #008080; text-decoration-color: #008080\">    0</span> │ <span style=\"color: #008080; text-decoration-color: #008080\">   1.022</span> │ <span style=\"color: #008080; text-decoration-color: #008080\">  0.9979</span> │ <span style=\"color: #008080; text-decoration-color: #008080\">   0</span> │ <span style=\"color: #008080; text-decoration-color: #008080\">   0</span> │ <span style=\"color: #008080; text-decoration-color: #008080\">     2</span> │ <span style=\"color: #008080; text-decoration-color: #008080\">   2</span> │ <span style=\"color: #008080; text-decoration-color: #008080\">   2</span> │ <span style=\"color: #008000; text-decoration-color: #008000\">█    █</span> │  │\n",
       "│ │ <span style=\"color: #af87ff; text-decoration-color: #af87ff\">electrocardiographic    </span> │     │       │          │          │      │      │        │      │      │        │  │\n",
       "│ │ <span style=\"color: #af87ff; text-decoration-color: #af87ff\">results                 </span> │     │       │          │          │      │      │        │      │      │        │  │\n",
       "│ │ <span style=\"color: #af87ff; text-decoration-color: #af87ff\">max heart rate          </span> │ <span style=\"color: #008080; text-decoration-color: #008080\">  0</span> │ <span style=\"color: #008080; text-decoration-color: #008080\">    0</span> │ <span style=\"color: #008080; text-decoration-color: #008080\">   149.7</span> │ <span style=\"color: #008080; text-decoration-color: #008080\">   23.17</span> │ <span style=\"color: #008080; text-decoration-color: #008080\">  71</span> │ <span style=\"color: #008080; text-decoration-color: #008080\"> 133</span> │ <span style=\"color: #008080; text-decoration-color: #008080\"> 153.5</span> │ <span style=\"color: #008080; text-decoration-color: #008080\"> 166</span> │ <span style=\"color: #008080; text-decoration-color: #008080\"> 202</span> │ <span style=\"color: #008000; text-decoration-color: #008000\"> ▂▄▇█▁</span> │  │\n",
       "│ │ <span style=\"color: #af87ff; text-decoration-color: #af87ff\">exercise induced angina </span> │ <span style=\"color: #008080; text-decoration-color: #008080\">  0</span> │ <span style=\"color: #008080; text-decoration-color: #008080\">    0</span> │ <span style=\"color: #008080; text-decoration-color: #008080\">  0.3296</span> │ <span style=\"color: #008080; text-decoration-color: #008080\">   0.471</span> │ <span style=\"color: #008080; text-decoration-color: #008080\">   0</span> │ <span style=\"color: #008080; text-decoration-color: #008080\">   0</span> │ <span style=\"color: #008080; text-decoration-color: #008080\">     0</span> │ <span style=\"color: #008080; text-decoration-color: #008080\">   1</span> │ <span style=\"color: #008080; text-decoration-color: #008080\">   1</span> │ <span style=\"color: #008000; text-decoration-color: #008000\">█    ▄</span> │  │\n",
       "│ │ <span style=\"color: #af87ff; text-decoration-color: #af87ff\">oldpeak                 </span> │ <span style=\"color: #008080; text-decoration-color: #008080\">  0</span> │ <span style=\"color: #008080; text-decoration-color: #008080\">    0</span> │ <span style=\"color: #008080; text-decoration-color: #008080\">    1.05</span> │ <span style=\"color: #008080; text-decoration-color: #008080\">   1.145</span> │ <span style=\"color: #008080; text-decoration-color: #008080\">   0</span> │ <span style=\"color: #008080; text-decoration-color: #008080\">   0</span> │ <span style=\"color: #008080; text-decoration-color: #008080\">   0.8</span> │ <span style=\"color: #008080; text-decoration-color: #008080\"> 1.6</span> │ <span style=\"color: #008080; text-decoration-color: #008080\"> 6.2</span> │ <span style=\"color: #008000; text-decoration-color: #008000\"> █▄▁▁ </span> │  │\n",
       "│ │ <span style=\"color: #af87ff; text-decoration-color: #af87ff\">ST segment              </span> │ <span style=\"color: #008080; text-decoration-color: #008080\">  0</span> │ <span style=\"color: #008080; text-decoration-color: #008080\">    0</span> │ <span style=\"color: #008080; text-decoration-color: #008080\">   1.585</span> │ <span style=\"color: #008080; text-decoration-color: #008080\">  0.6144</span> │ <span style=\"color: #008080; text-decoration-color: #008080\">   1</span> │ <span style=\"color: #008080; text-decoration-color: #008080\">   1</span> │ <span style=\"color: #008080; text-decoration-color: #008080\">     2</span> │ <span style=\"color: #008080; text-decoration-color: #008080\">   2</span> │ <span style=\"color: #008080; text-decoration-color: #008080\">   3</span> │ <span style=\"color: #008000; text-decoration-color: #008000\">█  █ ▁</span> │  │\n",
       "│ │ <span style=\"color: #af87ff; text-decoration-color: #af87ff\">major vessels           </span> │ <span style=\"color: #008080; text-decoration-color: #008080\">  0</span> │ <span style=\"color: #008080; text-decoration-color: #008080\">    0</span> │ <span style=\"color: #008080; text-decoration-color: #008080\">  0.6704</span> │ <span style=\"color: #008080; text-decoration-color: #008080\">  0.9439</span> │ <span style=\"color: #008080; text-decoration-color: #008080\">   0</span> │ <span style=\"color: #008080; text-decoration-color: #008080\">   0</span> │ <span style=\"color: #008080; text-decoration-color: #008080\">     0</span> │ <span style=\"color: #008080; text-decoration-color: #008080\">   1</span> │ <span style=\"color: #008080; text-decoration-color: #008080\">   3</span> │ <span style=\"color: #008000; text-decoration-color: #008000\">█ ▃ ▂▁</span> │  │\n",
       "│ │ <span style=\"color: #af87ff; text-decoration-color: #af87ff\">thal                    </span> │ <span style=\"color: #008080; text-decoration-color: #008080\">  0</span> │ <span style=\"color: #008080; text-decoration-color: #008080\">    0</span> │ <span style=\"color: #008080; text-decoration-color: #008080\">   4.696</span> │ <span style=\"color: #008080; text-decoration-color: #008080\">   1.941</span> │ <span style=\"color: #008080; text-decoration-color: #008080\">   3</span> │ <span style=\"color: #008080; text-decoration-color: #008080\">   3</span> │ <span style=\"color: #008080; text-decoration-color: #008080\">     3</span> │ <span style=\"color: #008080; text-decoration-color: #008080\">   7</span> │ <span style=\"color: #008080; text-decoration-color: #008080\">   7</span> │ <span style=\"color: #008000; text-decoration-color: #008000\">█   ▁▅</span> │  │\n",
       "│ │ <span style=\"color: #af87ff; text-decoration-color: #af87ff\">heart disease           </span> │ <span style=\"color: #008080; text-decoration-color: #008080\">  0</span> │ <span style=\"color: #008080; text-decoration-color: #008080\">    0</span> │ <span style=\"color: #008080; text-decoration-color: #008080\">  0.4444</span> │ <span style=\"color: #008080; text-decoration-color: #008080\">  0.4978</span> │ <span style=\"color: #008080; text-decoration-color: #008080\">   0</span> │ <span style=\"color: #008080; text-decoration-color: #008080\">   0</span> │ <span style=\"color: #008080; text-decoration-color: #008080\">     0</span> │ <span style=\"color: #008080; text-decoration-color: #008080\">   1</span> │ <span style=\"color: #008080; text-decoration-color: #008080\">   1</span> │ <span style=\"color: #008000; text-decoration-color: #008000\">█    ▆</span> │  │\n",
       "│ └──────────────────────────┴─────┴───────┴──────────┴──────────┴──────┴──────┴────────┴──────┴──────┴────────┘  │\n",
       "╰────────────────────────────────────────────────────── End ──────────────────────────────────────────────────────╯\n",
       "</pre>\n"
      ],
      "text/plain": [
       "╭──────────────────────────────────────────────── skimpy summary ─────────────────────────────────────────────────╮\n",
       "│ \u001b[3m         Data Summary         \u001b[0m \u001b[3m      Data Types       \u001b[0m                                                          │\n",
       "│ ┏━━━━━━━━━━━━━━━━━━━┳━━━━━━━━┓ ┏━━━━━━━━━━━━━┳━━━━━━━┓                                                          │\n",
       "│ ┃\u001b[1;36m \u001b[0m\u001b[1;36mDataframe        \u001b[0m\u001b[1;36m \u001b[0m┃\u001b[1;36m \u001b[0m\u001b[1;36mValues\u001b[0m\u001b[1;36m \u001b[0m┃ ┃\u001b[1;36m \u001b[0m\u001b[1;36mColumn Type\u001b[0m\u001b[1;36m \u001b[0m┃\u001b[1;36m \u001b[0m\u001b[1;36mCount\u001b[0m\u001b[1;36m \u001b[0m┃                                                          │\n",
       "│ ┡━━━━━━━━━━━━━━━━━━━╇━━━━━━━━┩ ┡━━━━━━━━━━━━━╇━━━━━━━┩                                                          │\n",
       "│ │ Number of rows    │ 270    │ │ int64       │ 13    │                                                          │\n",
       "│ │ Number of columns │ 14     │ │ float64     │ 1     │                                                          │\n",
       "│ └───────────────────┴────────┘ └─────────────┴───────┘                                                          │\n",
       "│ \u001b[3m                                                    number                                                    \u001b[0m  │\n",
       "│ ┏━━━━━━━━━━━━━━━━━━━━━━━━━━┳━━━━━┳━━━━━━━┳━━━━━━━━━━┳━━━━━━━━━━┳━━━━━━┳━━━━━━┳━━━━━━━━┳━━━━━━┳━━━━━━┳━━━━━━━━┓  │\n",
       "│ ┃\u001b[1m \u001b[0m\u001b[1mcolumn                  \u001b[0m\u001b[1m \u001b[0m┃\u001b[1m \u001b[0m\u001b[1mNA \u001b[0m\u001b[1m \u001b[0m┃\u001b[1m \u001b[0m\u001b[1mNA % \u001b[0m\u001b[1m \u001b[0m┃\u001b[1m \u001b[0m\u001b[1mmean    \u001b[0m\u001b[1m \u001b[0m┃\u001b[1m \u001b[0m\u001b[1msd      \u001b[0m\u001b[1m \u001b[0m┃\u001b[1m \u001b[0m\u001b[1mp0  \u001b[0m\u001b[1m \u001b[0m┃\u001b[1m \u001b[0m\u001b[1mp25 \u001b[0m\u001b[1m \u001b[0m┃\u001b[1m \u001b[0m\u001b[1mp50   \u001b[0m\u001b[1m \u001b[0m┃\u001b[1m \u001b[0m\u001b[1mp75 \u001b[0m\u001b[1m \u001b[0m┃\u001b[1m \u001b[0m\u001b[1mp100\u001b[0m\u001b[1m \u001b[0m┃\u001b[1m \u001b[0m\u001b[1mhist  \u001b[0m\u001b[1m \u001b[0m┃  │\n",
       "│ ┡━━━━━━━━━━━━━━━━━━━━━━━━━━╇━━━━━╇━━━━━━━╇━━━━━━━━━━╇━━━━━━━━━━╇━━━━━━╇━━━━━━╇━━━━━━━━╇━━━━━━╇━━━━━━╇━━━━━━━━┩  │\n",
       "│ │ \u001b[38;5;141mage                     \u001b[0m │ \u001b[36m  0\u001b[0m │ \u001b[36m    0\u001b[0m │ \u001b[36m   54.43\u001b[0m │ \u001b[36m   9.109\u001b[0m │ \u001b[36m  29\u001b[0m │ \u001b[36m  48\u001b[0m │ \u001b[36m    55\u001b[0m │ \u001b[36m  61\u001b[0m │ \u001b[36m  77\u001b[0m │ \u001b[32m▁▄▅█▅▁\u001b[0m │  │\n",
       "│ │ \u001b[38;5;141msex                     \u001b[0m │ \u001b[36m  0\u001b[0m │ \u001b[36m    0\u001b[0m │ \u001b[36m  0.6778\u001b[0m │ \u001b[36m  0.4682\u001b[0m │ \u001b[36m   0\u001b[0m │ \u001b[36m   0\u001b[0m │ \u001b[36m     1\u001b[0m │ \u001b[36m   1\u001b[0m │ \u001b[36m   1\u001b[0m │ \u001b[32m▄    █\u001b[0m │  │\n",
       "│ │ \u001b[38;5;141mchest pain type         \u001b[0m │ \u001b[36m  0\u001b[0m │ \u001b[36m    0\u001b[0m │ \u001b[36m   3.174\u001b[0m │ \u001b[36m  0.9501\u001b[0m │ \u001b[36m   1\u001b[0m │ \u001b[36m   3\u001b[0m │ \u001b[36m     3\u001b[0m │ \u001b[36m   4\u001b[0m │ \u001b[36m   4\u001b[0m │ \u001b[32m▁ ▃ ▅█\u001b[0m │  │\n",
       "│ │ \u001b[38;5;141mresting blood pressure  \u001b[0m │ \u001b[36m  0\u001b[0m │ \u001b[36m    0\u001b[0m │ \u001b[36m   131.3\u001b[0m │ \u001b[36m   17.86\u001b[0m │ \u001b[36m  94\u001b[0m │ \u001b[36m 120\u001b[0m │ \u001b[36m   130\u001b[0m │ \u001b[36m 140\u001b[0m │ \u001b[36m 200\u001b[0m │ \u001b[32m▃▇█▃▁ \u001b[0m │  │\n",
       "│ │ \u001b[38;5;141mserum cholestoral       \u001b[0m │ \u001b[36m  0\u001b[0m │ \u001b[36m    0\u001b[0m │ \u001b[36m   249.7\u001b[0m │ \u001b[36m   51.69\u001b[0m │ \u001b[36m 126\u001b[0m │ \u001b[36m 213\u001b[0m │ \u001b[36m   245\u001b[0m │ \u001b[36m 280\u001b[0m │ \u001b[36m 564\u001b[0m │ \u001b[32m ▂█▄  \u001b[0m │  │\n",
       "│ │ \u001b[38;5;141mfasting blood sugar     \u001b[0m │ \u001b[36m  0\u001b[0m │ \u001b[36m    0\u001b[0m │ \u001b[36m  0.1481\u001b[0m │ \u001b[36m  0.3559\u001b[0m │ \u001b[36m   0\u001b[0m │ \u001b[36m   0\u001b[0m │ \u001b[36m     0\u001b[0m │ \u001b[36m   0\u001b[0m │ \u001b[36m   1\u001b[0m │ \u001b[32m█    ▁\u001b[0m │  │\n",
       "│ │ \u001b[38;5;141mresting                 \u001b[0m │ \u001b[36m  0\u001b[0m │ \u001b[36m    0\u001b[0m │ \u001b[36m   1.022\u001b[0m │ \u001b[36m  0.9979\u001b[0m │ \u001b[36m   0\u001b[0m │ \u001b[36m   0\u001b[0m │ \u001b[36m     2\u001b[0m │ \u001b[36m   2\u001b[0m │ \u001b[36m   2\u001b[0m │ \u001b[32m█    █\u001b[0m │  │\n",
       "│ │ \u001b[38;5;141melectrocardiographic    \u001b[0m │     │       │          │          │      │      │        │      │      │        │  │\n",
       "│ │ \u001b[38;5;141mresults                 \u001b[0m │     │       │          │          │      │      │        │      │      │        │  │\n",
       "│ │ \u001b[38;5;141mmax heart rate          \u001b[0m │ \u001b[36m  0\u001b[0m │ \u001b[36m    0\u001b[0m │ \u001b[36m   149.7\u001b[0m │ \u001b[36m   23.17\u001b[0m │ \u001b[36m  71\u001b[0m │ \u001b[36m 133\u001b[0m │ \u001b[36m 153.5\u001b[0m │ \u001b[36m 166\u001b[0m │ \u001b[36m 202\u001b[0m │ \u001b[32m ▂▄▇█▁\u001b[0m │  │\n",
       "│ │ \u001b[38;5;141mexercise induced angina \u001b[0m │ \u001b[36m  0\u001b[0m │ \u001b[36m    0\u001b[0m │ \u001b[36m  0.3296\u001b[0m │ \u001b[36m   0.471\u001b[0m │ \u001b[36m   0\u001b[0m │ \u001b[36m   0\u001b[0m │ \u001b[36m     0\u001b[0m │ \u001b[36m   1\u001b[0m │ \u001b[36m   1\u001b[0m │ \u001b[32m█    ▄\u001b[0m │  │\n",
       "│ │ \u001b[38;5;141moldpeak                 \u001b[0m │ \u001b[36m  0\u001b[0m │ \u001b[36m    0\u001b[0m │ \u001b[36m    1.05\u001b[0m │ \u001b[36m   1.145\u001b[0m │ \u001b[36m   0\u001b[0m │ \u001b[36m   0\u001b[0m │ \u001b[36m   0.8\u001b[0m │ \u001b[36m 1.6\u001b[0m │ \u001b[36m 6.2\u001b[0m │ \u001b[32m █▄▁▁ \u001b[0m │  │\n",
       "│ │ \u001b[38;5;141mST segment              \u001b[0m │ \u001b[36m  0\u001b[0m │ \u001b[36m    0\u001b[0m │ \u001b[36m   1.585\u001b[0m │ \u001b[36m  0.6144\u001b[0m │ \u001b[36m   1\u001b[0m │ \u001b[36m   1\u001b[0m │ \u001b[36m     2\u001b[0m │ \u001b[36m   2\u001b[0m │ \u001b[36m   3\u001b[0m │ \u001b[32m█  █ ▁\u001b[0m │  │\n",
       "│ │ \u001b[38;5;141mmajor vessels           \u001b[0m │ \u001b[36m  0\u001b[0m │ \u001b[36m    0\u001b[0m │ \u001b[36m  0.6704\u001b[0m │ \u001b[36m  0.9439\u001b[0m │ \u001b[36m   0\u001b[0m │ \u001b[36m   0\u001b[0m │ \u001b[36m     0\u001b[0m │ \u001b[36m   1\u001b[0m │ \u001b[36m   3\u001b[0m │ \u001b[32m█ ▃ ▂▁\u001b[0m │  │\n",
       "│ │ \u001b[38;5;141mthal                    \u001b[0m │ \u001b[36m  0\u001b[0m │ \u001b[36m    0\u001b[0m │ \u001b[36m   4.696\u001b[0m │ \u001b[36m   1.941\u001b[0m │ \u001b[36m   3\u001b[0m │ \u001b[36m   3\u001b[0m │ \u001b[36m     3\u001b[0m │ \u001b[36m   7\u001b[0m │ \u001b[36m   7\u001b[0m │ \u001b[32m█   ▁▅\u001b[0m │  │\n",
       "│ │ \u001b[38;5;141mheart disease           \u001b[0m │ \u001b[36m  0\u001b[0m │ \u001b[36m    0\u001b[0m │ \u001b[36m  0.4444\u001b[0m │ \u001b[36m  0.4978\u001b[0m │ \u001b[36m   0\u001b[0m │ \u001b[36m   0\u001b[0m │ \u001b[36m     0\u001b[0m │ \u001b[36m   1\u001b[0m │ \u001b[36m   1\u001b[0m │ \u001b[32m█    ▆\u001b[0m │  │\n",
       "│ └──────────────────────────┴─────┴───────┴──────────┴──────────┴──────┴──────┴────────┴──────┴──────┴────────┘  │\n",
       "╰────────────────────────────────────────────────────── End ──────────────────────────────────────────────────────╯\n"
      ]
     },
     "metadata": {},
     "output_type": "display_data"
    },
    {
     "name": "stdout",
     "output_type": "stream",
     "text": [
      "heart disease\n",
      "0    150\n",
      "1    120\n",
      "Name: count, dtype: int64\n"
     ]
    }
   ],
   "source": [
    "#Import of data\n",
    "df = pd.read_csv('dataset_heart.csv')\n",
    "print(df.head())\n",
    "print(df.describe())\n",
    "print(df.info())\n",
    "\n",
    "df.loc[df['heart disease'] == 1, 'heart disease'] = 0\n",
    "df.loc[df['heart disease'] == 2, 'heart disease'] = 1\n",
    "\n",
    "#Display metrics with skimpy\n",
    "skim(df)\n",
    "\n",
    "#View unique values for integer features\n",
    "# Select only integer columns\n",
    "int_features = df.select_dtypes(include='int')\n",
    "\n",
    "# Display unique value for label\n",
    "print(df['heart disease'].value_counts().sort_index())\n",
    "#Slight imbalance. No need for SMOTE.\n",
    "\n",
    "#Remove target column from the training data\n",
    "X = df.drop('heart disease', axis=1)\n",
    "y = df['heart disease']\n",
    "\n",
    "#Split the data intro train/test split\n",
    "X_train, X_test, y_train, y_test = train_test_split(X, y, test_size=0.2, random_state=42)\n",
    "\n",
    "\n"
   ]
  },
  {
   "cell_type": "markdown",
   "id": "17e1bc03",
   "metadata": {},
   "source": [
    "Exercise 2 : Logistic Regression Without Grid Search\n",
    "\n",
    "Instructions\n",
    "\n",
    "Use the dataset to build a logistic regression model without using grid search. Split the data into training and testing sets, then train a logistic regression model and evaluate its performance on the test set."
   ]
  },
  {
   "cell_type": "code",
   "execution_count": 4,
   "id": "7e313114",
   "metadata": {},
   "outputs": [
    {
     "name": "stdout",
     "output_type": "stream",
     "text": [
      "Accuracy:  0.9259259259259259\n",
      "Intercept: [-8.37193105]\n",
      "Coefficients: [[-0.01429762  1.04850362  0.64630167  0.0232621   0.00502708 -0.66792017\n",
      "   0.09280945 -0.01157205  0.67140606  0.47673312  0.44194775  0.83722946\n",
      "   0.32721774]]\n"
     ]
    },
    {
     "data": {
      "image/png": "[encoded data removed]",
      "text/plain": [
       "<Figure size 640x480 with 2 Axes>"
      ]
     },
     "metadata": {},
     "output_type": "display_data"
    },
    {
     "name": "stdout",
     "output_type": "stream",
     "text": [
      "{'Precision': 0.9142857142857143, 'Recall': 0.9696969696969697, 'F1-score': 0.9411764705882353}\n"
     ]
    }
   ],
   "source": [
    "from sklearn.linear_model import LogisticRegression\n",
    "\n",
    "#Train a logistic regression model\n",
    "model = LogisticRegression(max_iter= 1000)\n",
    "model.fit(X_train, y_train)\n",
    "\n",
    "#Evaluate its performance on the test set\n",
    "#Accuracy\n",
    "from sklearn.metrics import accuracy_score\n",
    "y_pred = model.predict(X_test)\n",
    "accuracy = accuracy_score(y_test, y_pred)\n",
    "print(\"Accuracy: \", accuracy)\n",
    "#Coefficients\n",
    "print(\"Intercept:\", model.intercept_)\n",
    "print(\"Coefficients:\", model.coef_)\n",
    "#Confusion Matrix\n",
    "from sklearn.metrics import ConfusionMatrixDisplay\n",
    "\n",
    "ConfusionMatrixDisplay.from_estimator(model, X_test, y_test, cmap='Blues')\n",
    "plt.title('Confusion Matrix')\n",
    "plt.show()\n",
    "\n",
    "#Plot the Recall, precision, F1-score and comment the results.\n",
    "from sklearn.metrics import precision_score, recall_score, f1_score\n",
    "\n",
    "precision = precision_score(y_test, y_pred)\n",
    "recall = recall_score(y_test, y_pred)\n",
    "f1 = f1_score(y_test, y_pred)\n",
    "\n",
    "metrics = {'Precision': precision, 'Recall': recall, 'F1-score': f1}\n",
    "print(metrics)\n",
    "\n"
   ]
  },
  {
   "cell_type": "markdown",
   "id": "0ab5e999",
   "metadata": {},
   "source": [
    "Exercise 3 : Logistic Regression With Grid Search\n",
    "\n",
    "Instructions\n",
    "\n",
    "Build a logistic regression model using the dataset, but this time, use GridSearchCV to optimize the hyperparameters such as C and penalty."
   ]
  },
  {
   "cell_type": "code",
   "execution_count": 5,
   "id": "ce7784c9",
   "metadata": {},
   "outputs": [
    {
     "name": "stdout",
     "output_type": "stream",
     "text": [
      "Tuned Logistic Regression Parameters: {'C': np.float64(0.4393970560760795), 'penalty': 'l2'}\n",
      "Best score is 0.8290697674418605\n",
      "Accuracy:  0.9444444444444444\n",
      "Intercept: [-7.1570791]\n",
      "Coefficients: [[-0.01567868  0.77478297  0.60890271  0.02120628  0.00431331 -0.45832529\n",
      "   0.10807444 -0.01353426  0.56009703  0.48015416  0.35619754  0.75992785\n",
      "   0.34826882]]\n"
     ]
    },
    {
     "data": {
      "image/png": "[encoded data removed]",
      "text/plain": [
       "<Figure size 640x480 with 2 Axes>"
      ]
     },
     "metadata": {},
     "output_type": "display_data"
    },
    {
     "name": "stdout",
     "output_type": "stream",
     "text": [
      "{'Precision': 0.9166666666666666, 'Recall': 1.0, 'F1-score': 0.9565217391304348}\n"
     ]
    }
   ],
   "source": [
    "from sklearn.model_selection import GridSearchCV\n",
    "import numpy as np\n",
    "from sklearn.datasets import make_classification\n",
    "\n",
    "# Creating the hyperparameter grid\n",
    "c_space = np.logspace(-5, 8, 15)\n",
    "param_grid = {'C': c_space,\n",
    "              'penalty': ['l2']\n",
    "}\n",
    "\n",
    "# Instantiating logistic regression classifier\n",
    "logreg = LogisticRegression(max_iter= 10000)\n",
    "\n",
    "# Instantiating the GridSearchCV object\n",
    "logreg_cv = GridSearchCV(logreg, param_grid, cv=5)\n",
    "\n",
    "# Assuming X and y are your feature matrix and target variable\n",
    "# Fit the GridSearchCV object to the data\n",
    "logreg_cv.fit(X_train, y_train)\n",
    "\n",
    "# Print the tuned parameters and score\n",
    "print(\"Tuned Logistic Regression Parameters: {}\".format(logreg_cv.best_params_))\n",
    "print(\"Best score is {}\".format(logreg_cv.best_score_))\n",
    "\n",
    "#Evaluate its performance on the test set with best parameters\n",
    "#Accuracy\n",
    "from sklearn.metrics import accuracy_score\n",
    "logreg_tuned = LogisticRegression(C= 0.4393970560760795, penalty= 'l2', max_iter= 1000)\n",
    "logreg_tuned.fit(X_train, y_train)\n",
    "y_pred = logreg_tuned.predict(X_test)\n",
    "accuracy = accuracy_score(y_test, y_pred)\n",
    "print(\"Accuracy: \", accuracy)\n",
    "#Coefficients\n",
    "print(\"Intercept:\", logreg_tuned.intercept_)\n",
    "print(\"Coefficients:\", logreg_tuned.coef_)\n",
    "#Confusion Matrix\n",
    "from sklearn.metrics import ConfusionMatrixDisplay\n",
    "\n",
    "ConfusionMatrixDisplay.from_estimator(logreg_tuned, X_test, y_test, cmap='Blues')\n",
    "plt.title('Confusion Matrix')\n",
    "plt.show()\n",
    "\n",
    "#Plot the Recall, precision, F1-score and comment the results.\n",
    "from sklearn.metrics import precision_score, recall_score, f1_score\n",
    "\n",
    "precision = precision_score(y_test, y_pred)\n",
    "recall = recall_score(y_test, y_pred)\n",
    "f1 = f1_score(y_test, y_pred)\n",
    "\n",
    "metrics = {'Precision': precision, 'Recall': recall, 'F1-score': f1}\n",
    "print(metrics)"
   ]
  },
  {
   "cell_type": "markdown",
   "id": "e5187d28",
   "metadata": {},
   "source": [
    "Exercise 4 : SVM Without Grid Search\n",
    "\n",
    "Instructions\n",
    "\n",
    "Train a Support Vector Machine (SVM) classifier on the dataset without using grid search. Choose an appropriate kernel and set the hyperparameters manually."
   ]
  },
  {
   "cell_type": "code",
   "execution_count": 6,
   "id": "29d74a70",
   "metadata": {},
   "outputs": [
    {
     "name": "stdout",
     "output_type": "stream",
     "text": [
      "Accuracy (SVC): 0.8703703703703703\n"
     ]
    },
    {
     "data": {
      "image/png": "[encoded data removed]",
      "text/plain": [
       "<Figure size 640x480 with 2 Axes>"
      ]
     },
     "metadata": {},
     "output_type": "display_data"
    },
    {
     "name": "stdout",
     "output_type": "stream",
     "text": [
      "{'Precision': 0.9166666666666666, 'Recall': 1.0, 'F1-score': 0.9565217391304348}\n"
     ]
    }
   ],
   "source": [
    "from sklearn.svm import SVC\n",
    "\n",
    "# Create and train the Support Vector Classifier\n",
    "svc_model = SVC(C=1.5, kernel='linear', gamma= 'auto')\n",
    "svc_model.fit(X_train, y_train)\n",
    "\n",
    "# Make predictions on the test set\n",
    "svc_y_pred = svc_model.predict(X_test)\n",
    "\n",
    "# Calculate accuracy\n",
    "svc_accuracy = accuracy_score(y_test, svc_y_pred)\n",
    "print(f'Accuracy (SVC): {svc_accuracy}')\n",
    "\n",
    "#Confusion Matrix\n",
    "from sklearn.metrics import ConfusionMatrixDisplay\n",
    "\n",
    "ConfusionMatrixDisplay.from_estimator(svc_model, X_test, y_test, cmap='Blues')\n",
    "plt.title('Confusion Matrix')\n",
    "plt.show()\n",
    "\n",
    "#Plot the Recall, precision, F1-score and comment the results.\n",
    "from sklearn.metrics import precision_score, recall_score, f1_score\n",
    "\n",
    "precision = precision_score(y_test, y_pred)\n",
    "recall = recall_score(y_test, y_pred)\n",
    "f1 = f1_score(y_test, y_pred)\n",
    "\n",
    "metrics = {'Precision': precision, 'Recall': recall, 'F1-score': f1}\n",
    "print(metrics)"
   ]
  },
  {
   "cell_type": "markdown",
   "id": "0dfcd5ff",
   "metadata": {},
   "source": [
    "Exercise 5 : SVM With Grid Search\n",
    "\n",
    "Instructions\n",
    "\n",
    "Implement an SVM classifier on the dataset with GridSearchCV to find the best combination of C, kernel, and gamma hyperparameters."
   ]
  },
  {
   "cell_type": "code",
   "execution_count": 7,
   "id": "852fda7f",
   "metadata": {},
   "outputs": [
    {
     "name": "stdout",
     "output_type": "stream",
     "text": [
      "Tuned Logistic Regression Parameters: {'C': np.float64(1.0), 'gamma': 'auto', 'kernel': 'linear'}\n",
      "Best score is 0.8151162790697676\n"
     ]
    }
   ],
   "source": [
    "# Creating the hyperparameter grid\n",
    "c_space = np.logspace(0, 2, 5)\n",
    "kernel= ['linear', 'rbf']\n",
    "gamma= ['auto', 'scale']\n",
    "param_grid = {'C': c_space,\n",
    "              'kernel': kernel,\n",
    "              'gamma': gamma\n",
    "}\n",
    "# Instantiating  Support Vector Classifier\n",
    "svc_untuned = SVC()\n",
    "\n",
    "# Instantiating the GridSearchCV object\n",
    "svc_cv = GridSearchCV(svc_untuned, param_grid, cv=5)\n",
    "\n",
    "# Assuming X and y are your feature matrix and target variable\n",
    "# Fit the GridSearchCV object to the data\n",
    "svc_cv.fit(X_train, y_train)\n",
    "\n",
    "# Print the tuned parameters and score\n",
    "print(\"Tuned Logistic Regression Parameters: {}\".format(svc_cv.best_params_))\n",
    "print(\"Best score is {}\".format(svc_cv.best_score_))\n"
   ]
  },
  {
   "cell_type": "code",
   "execution_count": 8,
   "id": "d27501b5",
   "metadata": {},
   "outputs": [
    {
     "name": "stdout",
     "output_type": "stream",
     "text": [
      "Accuracy:  0.8703703703703703\n"
     ]
    },
    {
     "data": {
      "image/png": "[encoded data removed]",
      "text/plain": [
       "<Figure size 640x480 with 2 Axes>"
      ]
     },
     "metadata": {},
     "output_type": "display_data"
    },
    {
     "name": "stdout",
     "output_type": "stream",
     "text": [
      "{'Precision': 0.8823529411764706, 'Recall': 0.9090909090909091, 'F1-score': 0.8955223880597015}\n"
     ]
    }
   ],
   "source": [
    "#Evaluate its performance on the test set with best parameters\n",
    "#Accuracy\n",
    "from sklearn.metrics import accuracy_score\n",
    "svc_tuned = SVC(C= 1.0, gamma= 'auto', kernel= 'linear')\n",
    "svc_tuned.fit(X_train, y_train)\n",
    "y_pred = svc_tuned.predict(X_test)\n",
    "accuracy = accuracy_score(y_test, y_pred)\n",
    "print(\"Accuracy: \", accuracy)\n",
    "#Confusion Matrix\n",
    "from sklearn.metrics import ConfusionMatrixDisplay\n",
    "\n",
    "ConfusionMatrixDisplay.from_estimator(svc_tuned, X_test, y_test, cmap='Blues')\n",
    "plt.title('Confusion Matrix')\n",
    "plt.show()\n",
    "\n",
    "#Plot the Recall, precision, F1-score and comment the results.\n",
    "from sklearn.metrics import precision_score, recall_score, f1_score\n",
    "\n",
    "precision = precision_score(y_test, y_pred)\n",
    "recall = recall_score(y_test, y_pred)\n",
    "f1 = f1_score(y_test, y_pred)\n",
    "\n",
    "metrics = {'Precision': precision, 'Recall': recall, 'F1-score': f1}\n",
    "print(metrics)"
   ]
  },
  {
   "cell_type": "markdown",
   "id": "ec873272",
   "metadata": {},
   "source": [
    "Exercise 6 : XGBoost Without Grid Search\n",
    "\n",
    "Instructions\n",
    "\n",
    "Use the dataset to train an XGBoost classifier without hyperparameter tuning. Set the hyperparameters manually and justify your choices."
   ]
  },
  {
   "cell_type": "code",
   "execution_count": 12,
   "id": "22f3d254",
   "metadata": {},
   "outputs": [
    {
     "name": "stdout",
     "output_type": "stream",
     "text": [
      "Accuracy: 0.8148148148148148\n"
     ]
    },
    {
     "data": {
      "image/png": "[encoded data removed]",
      "text/plain": [
       "<Figure size 640x480 with 2 Axes>"
      ]
     },
     "metadata": {},
     "output_type": "display_data"
    },
    {
     "name": "stdout",
     "output_type": "stream",
     "text": [
      "{'Precision': 0.7894736842105263, 'Recall': 0.7142857142857143, 'F1-score': 0.75}\n"
     ]
    }
   ],
   "source": [
    "from xgboost import XGBClassifier\n",
    "\n",
    "# Create and train the XGBoost classifier\n",
    "xgb = XGBClassifier()\n",
    "xgb.fit(X_train, y_train)\n",
    "\n",
    "# Make predictions on the test set\n",
    "y_pred = xgb.predict(X_test)\n",
    "\n",
    "# Calculate accuracy\n",
    "accuracy = accuracy_score(y_test, y_pred)\n",
    "print(f'Accuracy: {accuracy}')\n",
    "\n",
    "#Confusion Matrix\n",
    "from sklearn.metrics import ConfusionMatrixDisplay\n",
    "\n",
    "ConfusionMatrixDisplay.from_estimator(svc_model, X_test, y_test, cmap='Blues')\n",
    "plt.title('Confusion Matrix')\n",
    "plt.show()\n",
    "\n",
    "#Plot the Recall, precision, F1-score and comment the results.\n",
    "from sklearn.metrics import precision_score, recall_score, f1_score\n",
    "\n",
    "precision = precision_score(y_test, y_pred)\n",
    "recall = recall_score(y_test, y_pred)\n",
    "f1 = f1_score(y_test, y_pred)\n",
    "\n",
    "metrics = {'Precision': precision, 'Recall': recall, 'F1-score': f1}\n",
    "print(metrics)"
   ]
  },
  {
   "cell_type": "markdown",
   "id": "f2c1ad12",
   "metadata": {},
   "source": [
    "Exercise 7 : XGBoost With Grid Search\n",
    "\n",
    "Instructions\n",
    "\n",
    "Train an XGBoost classifier on the dataset using GridSearchCV to optimize hyperparameters such as learning_rate, n_estimators, max_depth, etc."
   ]
  },
  {
   "cell_type": "code",
   "execution_count": 15,
   "id": "df6196f3",
   "metadata": {},
   "outputs": [
    {
     "name": "stdout",
     "output_type": "stream",
     "text": [
      "Tuned Logistic Regression Parameters: {'learning_rate': 0.01, 'max_depth': 3, 'n_estimators': 50}\n",
      "Best score is 0.8199788583509513\n"
     ]
    }
   ],
   "source": [
    "# Creating the hyperparameter grid\n",
    "param_grid = {\n",
    "    'learning_rate': [0.01, 0.1],\n",
    "    'n_estimators': [50, 100, 200],\n",
    "    'max_depth': [3, 5, 7],\n",
    "}\n",
    "# Instantiating  Support Vector Classifier\n",
    "xgb_untuned = XGBClassifier()\n",
    "\n",
    "# Instantiating the GridSearchCV object\n",
    "xgb_cv = GridSearchCV(xgb_untuned, param_grid, cv=5)\n",
    "\n",
    "# Assuming X and y are your feature matrix and target variable\n",
    "# Fit the GridSearchCV object to the data\n",
    "xgb_cv.fit(X_train, y_train)\n",
    "\n",
    "# Print the tuned parameters and score\n",
    "print(\"Tuned Logistic Regression Parameters: {}\".format(xgb_cv.best_params_))\n",
    "print(\"Best score is {}\".format(xgb_cv.best_score_))"
   ]
  },
  {
   "cell_type": "code",
   "execution_count": 18,
   "id": "9443b7fb",
   "metadata": {},
   "outputs": [
    {
     "name": "stdout",
     "output_type": "stream",
     "text": [
      "Accuracy:  0.7592592592592593\n"
     ]
    },
    {
     "data": {
      "image/png": "[encoded data removed]",
      "text/plain": [
       "<Figure size 640x480 with 2 Axes>"
      ]
     },
     "metadata": {},
     "output_type": "display_data"
    },
    {
     "name": "stdout",
     "output_type": "stream",
     "text": [
      "{'Precision': 0.8333333333333334, 'Recall': 0.47619047619047616, 'F1-score': 0.6060606060606061}\n"
     ]
    }
   ],
   "source": [
    "#Evaluate its performance on the test set with best parameters\n",
    "#Accuracy\n",
    "from sklearn.metrics import accuracy_score\n",
    "xgb_tuned = XGBClassifier(learning_rate= 0.01, max_depth= 3, n_estimators= 50)\n",
    "xgb_tuned.fit(X_train, y_train)\n",
    "y_pred = xgb_tuned.predict(X_test)\n",
    "accuracy = accuracy_score(y_test, y_pred)\n",
    "print(\"Accuracy: \", accuracy)\n",
    "#Confusion Matrix\n",
    "from sklearn.metrics import ConfusionMatrixDisplay\n",
    "\n",
    "ConfusionMatrixDisplay.from_estimator(xgb_tuned, X_test, y_test, cmap='Blues')\n",
    "plt.title('Confusion Matrix')\n",
    "plt.show()\n",
    "\n",
    "#Plot the Recall, precision, F1-score and comment the results.\n",
    "from sklearn.metrics import precision_score, recall_score, f1_score\n",
    "\n",
    "precision = precision_score(y_test, y_pred)\n",
    "recall = recall_score(y_test, y_pred)\n",
    "f1 = f1_score(y_test, y_pred)\n",
    "\n",
    "metrics = {'Precision': precision, 'Recall': recall, 'F1-score': f1}\n",
    "print(metrics)"
   ]
  }
 ],
 "metadata": {
  "kernelspec": {
   "display_name": "Python 3",
   "language": "python",
   "name": "python3"
  },
  "language_info": {
   "codemirror_mode": {
    "name": "ipython",
    "version": 3
   },
   "file_extension": ".py",
   "mimetype": "text/x-python",
   "name": "python",
   "nbconvert_exporter": "python",
   "pygments_lexer": "ipython3",
   "version": "3.13.2"
  }
 },
 "nbformat": 4,
 "nbformat_minor": 5
}
