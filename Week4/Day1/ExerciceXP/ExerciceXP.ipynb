{
 "cells": [
  {
   "cell_type": "markdown",
   "id": "fe11b1fa",
   "metadata": {},
   "source": [
    "Exercise 1 : Defining The Problem And Data Collection For Loan Default Prediction\n",
    "\n",
    "Instructions\n",
    "\n",
    "Write a clear problem statement for predicting loan defaults.\n",
    "Identify and list the types of data you would need for this project (e.g., personal details of applicants, credit scores, loan amounts, repayment history).\n",
    "Discuss the sources where you can collect this data (e.g., financial institution’s internal records, credit bureaus).\n",
    "Expected Output: A document detailing the problem statement and a comprehensive plan for data collection, including data types and sources."
   ]
  },
  {
   "cell_type": "markdown",
   "id": "946cb861",
   "metadata": {},
   "source": [
    "Statement:\n",
    "In order to reduce financial loss, Financial institutions may attempt to decrease loan defaults. Thanks to AI, it is possible to generate a  predictive model that can foretell whether an individual/group may not be capable of reimbursing their loan. Even further, with an eveluating a probability of default in advance, the institution can custom-make loan offers for \"risky applicants\".\n",
    "\n",
    "Types of data:\n",
    "Personal & Demographic Information (Age, Gender, Marital status, Number of dependents, Education level, Employment status)\n",
    "Financial Information: (Income, Existing debts, Assets owned)\n",
    "Credit History: Number of open credit accounts, Debt ratio, History of late/missed payments, Past defaults or bankruptcies\n",
    "Loan Details: Loan amount requested, Loan purpose (e.g., mortgage, auto, personal), Loan term (duration), Interest rate, Type of collateral, Repayment method\n",
    "Repayment History: Payment status (on-time, late), Number of missed payments, Days past due,Prepayment or foreclosure history\n",
    "Behavioral Data: Transaction data (spending patterns), Call center interactions or customer support logs\n",
    "\n",
    "Sources:\n",
    "Loan application forms, KYC documents, Internal bank records, Payroll data, tax returns, External credit bureaus (e.g., Experian, Equifax, TransUnion), Internal loan origination systems, Internal servicing systems, collection departments, Transaction databases, mobile banking logs, customer interaction logs"
   ]
  },
  {
   "cell_type": "markdown",
   "id": "834006da",
   "metadata": {},
   "source": [
    "Exercise 2 : Feature Selection And Model Choice For Loan Default Prediction\n",
    "\n",
    "Instructions\n",
    "\n",
    "From this dataset, identify which features might be most relevant for predicting loan defaults.\n",
    "Justify your choice of features."
   ]
  },
  {
   "cell_type": "markdown",
   "id": "7ba54f62",
   "metadata": {},
   "source": [
    "Irrelevant features:\n",
    "Gender: Usually has low predictive power.\n",
    "Loan_ID: Not relevant — purely an identifier and should be dropped.\n",
    "\n",
    "Credit_History:\tStrongest predictor — indicates if applicant has repaid past debts responsibly.\n",
    "ApplicantIncome:\tShows the primary applicant’s earning capacity to repay the loan.\n",
    "CoapplicantIncome:\tConsiders total household income if more than one contributor exists.\n",
    "LoanAmount:\tHigher loan amounts may pose higher risk, especially relative to income.\n",
    "Loan_Amount_Term:\tShorter terms can mean higher monthly payments — impacting default risk.\n",
    "Married:\tCan be relevant, as dual income households may have lower default risk.\n",
    "Dependents:\tMore dependents can strain household finances, impacting repayment ability.\n",
    "Education:\tEducation level can correlate with job stability and income levels.\n",
    "Self_Employed:\tSelf-employed income is often more volatile, increasing default risk.\n",
    "Property_Area:\tUrban, semi-urban, and rural areas can have different economic stability, affecting default likelihood."
   ]
  },
  {
   "cell_type": "markdown",
   "id": "5d28fba8",
   "metadata": {},
   "source": [
    "Exercise 3 : Training, Evaluating, And Optimizing The Model\n",
    "\n",
    "Instructions\n",
    "\n",
    "Which model(s) would you pick for a Loan Prediction ?\n",
    "Outline the steps to evaluate the model’s performance, mentioning specific metrics that would be relevant to evaluate the model."
   ]
  },
  {
   "cell_type": "markdown",
   "id": "5a8b2044",
   "metadata": {},
   "source": [
    "Suggested Model(s)\n",
    "For predicting loan defaults, classification models are appropriate. Good choices include:\n",
    "Logistic Regression (for interpretability)\n",
    "Decision Trees\n",
    "Random Forests\n",
    "\n",
    "Evaluation Steps\n",
    "Split Data: Train/Test split\n",
    "Metrics:\n",
    "Accuracy: Overall correctness\n",
    "Precision: How many predicted defaults were actual defaults.\n",
    "Recall (Sensitivity): How many actual defaults were correctly predicted\n",
    "F1-Score: Balance between precision and recall."
   ]
  },
  {
   "cell_type": "markdown",
   "id": "5f04fcb6",
   "metadata": {},
   "source": [
    "Exercise 4 : Designing Machine Learning Solutions For Specific Problems\n",
    "\n",
    "Instructions\n",
    "\n",
    "For each of these scenario, decide which type of machine learning would be most suitable. Explain.\n",
    "\n",
    "Predicting Stock Prices : predict future prices\n",
    "Organizing a Library of Books : group books into genres or categories based on similarities.\n",
    "Program a robot to navigate and find the shortest path in a maze."
   ]
  },
  {
   "cell_type": "markdown",
   "id": "f00f06ed",
   "metadata": {},
   "source": [
    "Predicting Stock Prices: Supervised Learning, Use regression algorithms to predict continuous future prices based on historical data.\n",
    "Organizing a Library of Books: Unsupervised Learning, Use clustering (e.g., K-Means) to group books into genres or categories by similarity\n",
    "Robot navigating a maze: Reinforcement Learning, Teach the robot to learn optimal navigation through trial-and-error and rewards.\n"
   ]
  },
  {
   "cell_type": "markdown",
   "id": "65c71f41",
   "metadata": {},
   "source": [
    "Exercise 5 : Designing An Evaluation Strategy For Different ML Models\n",
    "\n",
    "Instructions\n",
    "\n",
    "Select three types of machine learning models: one from supervised learning (e.g., a classification model), one from unsupervised learning (e.g., a clustering model), and one from reinforcement learning. For the supervised model, outline a strategy to evaluate its performance, including the choice of metrics (like accuracy, precision, recall, F1-score) and methods (like cross-validation, ROC curves).\n",
    "For the unsupervised model, describe how you would assess the effectiveness of the model, considering techniques like silhouette score, elbow method, or cluster validation metrics.\n",
    "For the reinforcement learning model, discuss how you would measure its success, considering aspects like cumulative reward, convergence, and exploration vs. exploitation balance.\n",
    "Address the challenges and limitations of evaluating models in each category."
   ]
  },
  {
   "cell_type": "markdown",
   "id": "31dba30a",
   "metadata": {},
   "source": [
    "1. Supervised Learning Model (Classification)\n",
    "Example: Loan default prediction model.\n",
    "Metrics: Accuracy, precision, recall, F1-score.\n",
    "Methods: Use k-fold cross-validation to ensure robustness. ROC curves help visualize trade-offs between true positive and false positive rates.\n",
    "Challenges: Imbalanced classes (e.g., few defaults compared to non-defaults) can skew accuracy. Focus on precision and recall to handle imbalance.\n",
    "\n",
    "2. Unsupervised Learning Model (Clustering)\n",
    "Example: Grouping books into genres.\n",
    "Metrics: Silhouette score (measures cluster cohesion vs. separation), Elbow method (to choose optimal cluster number), Davies-Bouldin index.\n",
    "Challenges: No ground truth labels, so evaluation is subjective. Results depend on distance measures and initial centroids.\n",
    "\n",
    "3. Reinforcement Learning Model\n",
    "Example: Robot navigating a maze.\n",
    "Metrics: Cumulative reward, convergence speed, path optimality, exploration vs. exploitation balance.\n",
    "Challenges: Requires many iterations to converge. Hard to test in real-world scenarios without simulations. Balancing exploration and exploitation is tricky."
   ]
  }
 ],
 "metadata": {
  "kernelspec": {
   "display_name": "Python 3",
   "language": "python",
   "name": "python3"
  },
  "language_info": {
   "codemirror_mode": {
    "name": "ipython",
    "version": 3
   },
   "file_extension": ".py",
   "mimetype": "text/x-python",
   "name": "python",
   "nbconvert_exporter": "python",
   "pygments_lexer": "ipython3",
   "version": "3.13.2"
  }
 },
 "nbformat": 4,
 "nbformat_minor": 5
}
